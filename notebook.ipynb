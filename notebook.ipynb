{
 "cells": [
  {
   "cell_type": "markdown",
   "source": "# Unwrapping the Big Mac Index",
   "metadata": {
    "cell_id": "2540608b-50d9-4229-9ef2-20075488faa8",
    "tags": [],
    "is_collapsed": false,
    "deepnote_cell_type": "text-cell-h1"
   }
  },
  {
   "cell_type": "markdown",
   "source": "COGS 9 Final Project",
   "metadata": {
    "cell_id": "fbed8c2e-2912-45c3-84dd-c4323fe27a73",
    "tags": [],
    "is_collapsed": false,
    "deepnote_cell_type": "text-cell-p"
   }
  },
  {
   "cell_type": "markdown",
   "source": "### Importing Python Packages",
   "metadata": {
    "cell_id": "01a20821-4c81-45e2-9ab1-7e80d698df90",
    "tags": [],
    "is_collapsed": false,
    "deepnote_cell_type": "text-cell-h3"
   }
  },
  {
   "cell_type": "code",
   "metadata": {
    "tags": [],
    "cell_id": "90de689a-2abf-41e4-901e-4dde87e3deed",
    "deepnote_to_be_reexecuted": false,
    "source_hash": "f951cc4",
    "execution_start": 1647578544248,
    "execution_millis": 1605,
    "deepnote_cell_type": "code",
    "deepnote_cell_height": 153
   },
   "source": "#Importing the required packages\nimport pandas as pd\nimport numpy as np\nimport matplotlib.pyplot as plt\nimport pandas_datareader as dr",
   "outputs": [],
   "execution_count": null
  },
  {
   "cell_type": "markdown",
   "source": "### Importing Data",
   "metadata": {
    "cell_id": "4684605e-77c7-40f6-a3e4-a38060e10e9c",
    "tags": [],
    "is_collapsed": false,
    "deepnote_cell_type": "text-cell-h3"
   }
  },
  {
   "cell_type": "code",
   "metadata": {
    "cell_id": "3bfcf19b-de68-49bc-ae93-73a0e9078040",
    "tags": [],
    "deepnote_to_be_reexecuted": false,
    "source_hash": "2f4ac09e",
    "execution_start": 1647578545858,
    "execution_millis": 40,
    "deepnote_cell_type": "code",
    "deepnote_cell_height": 243
   },
   "source": "big_mac_prices= pd.read_csv('/work/big-mac-source-data.csv')\nbread_prices= pd.read_csv('bread.csv')\nbeef_prices=pd.read_csv('ground beef.csv')\ncheese_prices=pd.read_csv('cheese.csv')\ninflation= pd.read_csv('inflation.csv')\ncucumber_prices= pd.read_csv('cucumber.csv')\nlettuce_prices=pd.read_csv('lettuce_new.csv')\nonion_prices=pd.read_csv('onions.csv')\nmin_wage=pd.read_csv('minwage.csv')\ngdp=pd.read_csv('GDP.csv')",
   "outputs": [],
   "execution_count": null
  },
  {
   "cell_type": "code",
   "source": "spy=dr.data.get_data_yahoo('SPY',start='2000-01-01', end='2020-12-31')",
   "metadata": {
    "cell_id": "02dd87f6-4409-4cd9-8f09-d92671a1eeba",
    "tags": [],
    "deepnote_to_be_reexecuted": false,
    "source_hash": "f5fd4d7a",
    "execution_start": 1647578545943,
    "execution_millis": 734,
    "deepnote_cell_type": "code",
    "deepnote_cell_height": 81
   },
   "outputs": [],
   "execution_count": null
  },
  {
   "cell_type": "code",
   "metadata": {
    "cell_id": "d80991d3-161c-45f4-80af-8399695858f8",
    "tags": [],
    "deepnote_to_be_reexecuted": false,
    "source_hash": "18b3da1b",
    "execution_start": 1647578546679,
    "execution_millis": 872,
    "deepnote_cell_type": "code",
    "deepnote_cell_height": 99
   },
   "source": "#Importing the McDonald's stock\nmcd=dr.data.get_data_yahoo('MCD',start='2000-01-01', end='2020-12-31')",
   "outputs": [],
   "execution_count": null
  },
  {
   "cell_type": "markdown",
   "source": "### Data Wrangling/Cleaning",
   "metadata": {
    "cell_id": "83cbf272-91b6-404f-9d39-e349884777da",
    "tags": [],
    "is_collapsed": false,
    "deepnote_cell_type": "text-cell-h3"
   }
  },
  {
   "cell_type": "code",
   "metadata": {
    "cell_id": "c6d57c67-3de2-44b3-9475-6547b552fc9f",
    "tags": [],
    "deepnote_to_be_reexecuted": false,
    "source_hash": "facb2a5a",
    "execution_start": 1647578547555,
    "execution_millis": 4,
    "deepnote_cell_type": "code",
    "deepnote_cell_height": 99
   },
   "source": "#Function to extract year from date.\ndate_formatter= lambda date: int(date.split('-')[0])",
   "outputs": [],
   "execution_count": null
  },
  {
   "cell_type": "code",
   "metadata": {
    "cell_id": "94d60bb9-9045-4379-a81a-c0271101f506",
    "tags": [],
    "deepnote_to_be_reexecuted": false,
    "source_hash": "fc504e94",
    "execution_start": 1647578547565,
    "execution_millis": 194,
    "deepnote_table_state": {
     "pageSize": 10,
     "pageIndex": 0,
     "filters": [],
     "sortBy": []
    },
    "deepnote_table_loading": false,
    "deepnote_cell_type": "code",
    "deepnote_cell_height": 650.796875
   },
   "source": "#Taking only Big Mac Prices within the United States into account\nus_big_mac_prices=big_mac_prices[big_mac_prices.get('name')=='United States']\nus_big_mac_prices",
   "outputs": [
    {
     "output_type": "execute_result",
     "execution_count": 6,
     "data": {
      "application/vnd.deepnote.dataframe.v3+json": {
       "column_count": 7,
       "row_count": 36,
       "columns": [
        {
         "name": "name",
         "dtype": "object",
         "stats": {
          "unique_count": 1,
          "nan_count": 0,
          "categories": [
           {
            "name": "United States",
            "count": 36
           }
          ]
         }
        },
        {
         "name": "iso_a3",
         "dtype": "object",
         "stats": {
          "unique_count": 1,
          "nan_count": 0,
          "categories": [
           {
            "name": "USA",
            "count": 36
           }
          ]
         }
        },
        {
         "name": "currency_code",
         "dtype": "object",
         "stats": {
          "unique_count": 1,
          "nan_count": 0,
          "categories": [
           {
            "name": "USD",
            "count": 36
           }
          ]
         }
        },
        {
         "name": "local_price",
         "dtype": "float64",
         "stats": {
          "unique_count": 34,
          "nan_count": 0,
          "min": "2.49",
          "max": "5.81",
          "histogram": [
           {
            "bin_start": 2.49,
            "bin_end": 2.822,
            "count": 4
           },
           {
            "bin_start": 2.822,
            "bin_end": 3.154,
            "count": 4
           },
           {
            "bin_start": 3.154,
            "bin_end": 3.486,
            "count": 2
           },
           {
            "bin_start": 3.486,
            "bin_end": 3.818,
            "count": 4
           },
           {
            "bin_start": 3.818,
            "bin_end": 4.15,
            "count": 1
           },
           {
            "bin_start": 4.15,
            "bin_end": 4.482,
            "count": 3
           },
           {
            "bin_start": 4.482,
            "bin_end": 4.814,
            "count": 5
           },
           {
            "bin_start": 4.814,
            "bin_end": 5.146,
            "count": 3
           },
           {
            "bin_start": 5.146,
            "bin_end": 5.478,
            "count": 2
           },
           {
            "bin_start": 5.478,
            "bin_end": 5.81,
            "count": 8
           }
          ]
         }
        },
        {
         "name": "dollar_ex",
         "dtype": "float64",
         "stats": {
          "unique_count": 1,
          "nan_count": 0,
          "min": "1.0",
          "max": "1.0",
          "histogram": [
           {
            "bin_start": 0.5,
            "bin_end": 0.6,
            "count": 0
           },
           {
            "bin_start": 0.6,
            "bin_end": 0.7,
            "count": 0
           },
           {
            "bin_start": 0.7,
            "bin_end": 0.8,
            "count": 0
           },
           {
            "bin_start": 0.8,
            "bin_end": 0.9,
            "count": 0
           },
           {
            "bin_start": 0.9,
            "bin_end": 1,
            "count": 0
           },
           {
            "bin_start": 1,
            "bin_end": 1.1,
            "count": 36
           },
           {
            "bin_start": 1.1,
            "bin_end": 1.2000000000000002,
            "count": 0
           },
           {
            "bin_start": 1.2000000000000002,
            "bin_end": 1.3,
            "count": 0
           },
           {
            "bin_start": 1.3,
            "bin_end": 1.4,
            "count": 0
           },
           {
            "bin_start": 1.4,
            "bin_end": 1.5,
            "count": 0
           }
          ]
         }
        },
        {
         "name": "GDP_dollar",
         "dtype": "float64",
         "stats": {
          "unique_count": 15,
          "nan_count": 14,
          "min": "47283.633",
          "max": "65253.518",
          "histogram": [
           {
            "bin_start": 47283.633,
            "bin_end": 49080.6215,
            "count": 6
           },
           {
            "bin_start": 49080.6215,
            "bin_end": 50877.61,
            "count": 0
           },
           {
            "bin_start": 50877.61,
            "bin_end": 52674.5985,
            "count": 1
           },
           {
            "bin_start": 52674.5985,
            "bin_end": 54471.587,
            "count": 2
           },
           {
            "bin_start": 54471.587,
            "bin_end": 56268.5755,
            "count": 4
           },
           {
            "bin_start": 56268.5755,
            "bin_end": 58065.564,
            "count": 1
           },
           {
            "bin_start": 58065.564,
            "bin_end": 59862.5525,
            "count": 2
           },
           {
            "bin_start": 59862.5525,
            "bin_end": 61659.541,
            "count": 1
           },
           {
            "bin_start": 61659.541,
            "bin_end": 63456.5295,
            "count": 4
           },
           {
            "bin_start": 63456.5295,
            "bin_end": 65253.518,
            "count": 1
           }
          ]
         }
        },
        {
         "name": "date",
         "dtype": "object",
         "stats": {
          "unique_count": 36,
          "nan_count": 0,
          "categories": [
           {
            "name": "2000-04-01",
            "count": 1
           },
           {
            "name": "2001-04-01",
            "count": 1
           },
           {
            "name": "34 others",
            "count": 34
           }
          ]
         }
        },
        {
         "name": "_deepnote_index_column",
         "dtype": "int64"
        }
       ],
       "rows": [
        {
         "name": "United States",
         "iso_a3": "USA",
         "currency_code": "USD",
         "local_price": 2.51,
         "dollar_ex": 1,
         "GDP_dollar": "nan",
         "date": "2000-04-01",
         "_deepnote_index_column": 27
        },
        {
         "name": "United States",
         "iso_a3": "USA",
         "currency_code": "USD",
         "local_price": 2.54,
         "dollar_ex": 1,
         "GDP_dollar": "nan",
         "date": "2001-04-01",
         "_deepnote_index_column": 55
        },
        {
         "name": "United States",
         "iso_a3": "USA",
         "currency_code": "USD",
         "local_price": 2.49,
         "dollar_ex": 1,
         "GDP_dollar": "nan",
         "date": "2002-04-01",
         "_deepnote_index_column": 87
        },
        {
         "name": "United States",
         "iso_a3": "USA",
         "currency_code": "USD",
         "local_price": 2.71,
         "dollar_ex": 1,
         "GDP_dollar": "nan",
         "date": "2003-04-01",
         "_deepnote_index_column": 119
        },
        {
         "name": "United States",
         "iso_a3": "USA",
         "currency_code": "USD",
         "local_price": 2.9,
         "dollar_ex": 1,
         "GDP_dollar": "nan",
         "date": "2004-05-01",
         "_deepnote_index_column": 158
        },
        {
         "name": "United States",
         "iso_a3": "USA",
         "currency_code": "USD",
         "local_price": 3.06,
         "dollar_ex": 1,
         "GDP_dollar": "nan",
         "date": "2005-06-01",
         "_deepnote_index_column": 199
        },
        {
         "name": "United States",
         "iso_a3": "USA",
         "currency_code": "USD",
         "local_price": 3.15,
         "dollar_ex": 1,
         "GDP_dollar": "nan",
         "date": "2006-01-01",
         "_deepnote_index_column": 232
        },
        {
         "name": "United States",
         "iso_a3": "USA",
         "currency_code": "USD",
         "local_price": 3.1,
         "dollar_ex": 1,
         "GDP_dollar": "nan",
         "date": "2006-05-01",
         "_deepnote_index_column": 272
        },
        {
         "name": "United States",
         "iso_a3": "USA",
         "currency_code": "USD",
         "local_price": 3.22,
         "dollar_ex": 1,
         "GDP_dollar": "nan",
         "date": "2007-01-01",
         "_deepnote_index_column": 313
        },
        {
         "name": "United States",
         "iso_a3": "USA",
         "currency_code": "USD",
         "local_price": 3.41,
         "dollar_ex": 1,
         "GDP_dollar": "nan",
         "date": "2007-06-01",
         "_deepnote_index_column": 354
        }
       ]
      },
      "text/plain": "               name iso_a3 currency_code  local_price  dollar_ex  GDP_dollar  \\\n27    United States    USA           USD     2.510000        1.0         NaN   \n55    United States    USA           USD     2.540000        1.0         NaN   \n87    United States    USA           USD     2.490000        1.0         NaN   \n119   United States    USA           USD     2.710000        1.0         NaN   \n158   United States    USA           USD     2.900000        1.0         NaN   \n199   United States    USA           USD     3.060000        1.0         NaN   \n232   United States    USA           USD     3.150000        1.0         NaN   \n272   United States    USA           USD     3.100000        1.0         NaN   \n313   United States    USA           USD     3.220000        1.0         NaN   \n354   United States    USA           USD     3.410000        1.0         NaN   \n395   United States    USA           USD     3.570000        1.0         NaN   \n436   United States    USA           USD     3.570000        1.0         NaN   \n477   United States    USA           USD     3.580000        1.0         NaN   \n518   United States    USA           USD     3.733333        1.0         NaN   \n572   United States    USA           USD     4.065000        1.0   47283.633   \n627   United States    USA           USD     4.197220        1.0   47283.633   \n680   United States    USA           USD     4.327500        1.0   47283.633   \n735   United States    USA           USD     4.367396        1.0   48327.861   \n790   United States    USA           USD     4.556667        1.0   48327.861   \n846   United States    USA           USD     4.624167        1.0   48327.861   \n902   United States    USA           USD     4.795000        1.0   51708.982   \n958   United States    USA           USD     4.790000        1.0   53000.972   \n1014  United States    USA           USD     4.790000        1.0   54596.653   \n1070  United States    USA           USD     4.930000        1.0   54369.826   \n1126  United States    USA           USD     5.040000        1.0   55805.204   \n1182  United States    USA           USD     5.060000        1.0   55805.204   \n1238  United States    USA           USD     5.300000        1.0   55805.204   \n1294  United States    USA           USD     5.280000        1.0   57607.613   \n1367  United States    USA           USD     5.510000        1.0   59501.114   \n1439  United States    USA           USD     5.580000        1.0   59792.013   \n1511  United States    USA           USD     5.740000        1.0   59895.000   \n1583  United States    USA           USD     5.670000        1.0   62868.917   \n1655  United States    USA           USD     5.710000        1.0   62868.917   \n1727  United States    USA           USD     5.660000        1.0   65253.518   \n1799  United States    USA           USD     5.650000        1.0   63415.990   \n1872  United States    USA           USD     5.810000        1.0   63358.490   \n\n            date  \n27    2000-04-01  \n55    2001-04-01  \n87    2002-04-01  \n119   2003-04-01  \n158   2004-05-01  \n199   2005-06-01  \n232   2006-01-01  \n272   2006-05-01  \n313   2007-01-01  \n354   2007-06-01  \n395   2008-06-01  \n436   2009-07-01  \n477   2010-01-01  \n518   2010-07-01  \n572   2011-07-01  \n627   2012-01-01  \n680   2012-07-01  \n735   2013-01-01  \n790   2013-07-01  \n846   2014-01-01  \n902   2014-07-01  \n958   2015-01-01  \n1014  2015-07-01  \n1070  2016-01-01  \n1126  2016-07-01  \n1182  2017-01-01  \n1238  2017-07-01  \n1294  2018-01-01  \n1367  2018-07-01  \n1439  2019-01-01  \n1511  2019-07-09  \n1583  2020-01-14  \n1655  2020-07-01  \n1727  2021-01-01  \n1799  2021-07-01  \n1872  2022-01-01  ",
      "text/html": "<div>\n<style scoped>\n    .dataframe tbody tr th:only-of-type {\n        vertical-align: middle;\n    }\n\n    .dataframe tbody tr th {\n        vertical-align: top;\n    }\n\n    .dataframe thead th {\n        text-align: right;\n    }\n</style>\n<table border=\"1\" class=\"dataframe\">\n  <thead>\n    <tr style=\"text-align: right;\">\n      <th></th>\n      <th>name</th>\n      <th>iso_a3</th>\n      <th>currency_code</th>\n      <th>local_price</th>\n      <th>dollar_ex</th>\n      <th>GDP_dollar</th>\n      <th>date</th>\n    </tr>\n  </thead>\n  <tbody>\n    <tr>\n      <th>27</th>\n      <td>United States</td>\n      <td>USA</td>\n      <td>USD</td>\n      <td>2.510000</td>\n      <td>1.0</td>\n      <td>NaN</td>\n      <td>2000-04-01</td>\n    </tr>\n    <tr>\n      <th>55</th>\n      <td>United States</td>\n      <td>USA</td>\n      <td>USD</td>\n      <td>2.540000</td>\n      <td>1.0</td>\n      <td>NaN</td>\n      <td>2001-04-01</td>\n    </tr>\n    <tr>\n      <th>87</th>\n      <td>United States</td>\n      <td>USA</td>\n      <td>USD</td>\n      <td>2.490000</td>\n      <td>1.0</td>\n      <td>NaN</td>\n      <td>2002-04-01</td>\n    </tr>\n    <tr>\n      <th>119</th>\n      <td>United States</td>\n      <td>USA</td>\n      <td>USD</td>\n      <td>2.710000</td>\n      <td>1.0</td>\n      <td>NaN</td>\n      <td>2003-04-01</td>\n    </tr>\n    <tr>\n      <th>158</th>\n      <td>United States</td>\n      <td>USA</td>\n      <td>USD</td>\n      <td>2.900000</td>\n      <td>1.0</td>\n      <td>NaN</td>\n      <td>2004-05-01</td>\n    </tr>\n    <tr>\n      <th>199</th>\n      <td>United States</td>\n      <td>USA</td>\n      <td>USD</td>\n      <td>3.060000</td>\n      <td>1.0</td>\n      <td>NaN</td>\n      <td>2005-06-01</td>\n    </tr>\n    <tr>\n      <th>232</th>\n      <td>United States</td>\n      <td>USA</td>\n      <td>USD</td>\n      <td>3.150000</td>\n      <td>1.0</td>\n      <td>NaN</td>\n      <td>2006-01-01</td>\n    </tr>\n    <tr>\n      <th>272</th>\n      <td>United States</td>\n      <td>USA</td>\n      <td>USD</td>\n      <td>3.100000</td>\n      <td>1.0</td>\n      <td>NaN</td>\n      <td>2006-05-01</td>\n    </tr>\n    <tr>\n      <th>313</th>\n      <td>United States</td>\n      <td>USA</td>\n      <td>USD</td>\n      <td>3.220000</td>\n      <td>1.0</td>\n      <td>NaN</td>\n      <td>2007-01-01</td>\n    </tr>\n    <tr>\n      <th>354</th>\n      <td>United States</td>\n      <td>USA</td>\n      <td>USD</td>\n      <td>3.410000</td>\n      <td>1.0</td>\n      <td>NaN</td>\n      <td>2007-06-01</td>\n    </tr>\n    <tr>\n      <th>395</th>\n      <td>United States</td>\n      <td>USA</td>\n      <td>USD</td>\n      <td>3.570000</td>\n      <td>1.0</td>\n      <td>NaN</td>\n      <td>2008-06-01</td>\n    </tr>\n    <tr>\n      <th>436</th>\n      <td>United States</td>\n      <td>USA</td>\n      <td>USD</td>\n      <td>3.570000</td>\n      <td>1.0</td>\n      <td>NaN</td>\n      <td>2009-07-01</td>\n    </tr>\n    <tr>\n      <th>477</th>\n      <td>United States</td>\n      <td>USA</td>\n      <td>USD</td>\n      <td>3.580000</td>\n      <td>1.0</td>\n      <td>NaN</td>\n      <td>2010-01-01</td>\n    </tr>\n    <tr>\n      <th>518</th>\n      <td>United States</td>\n      <td>USA</td>\n      <td>USD</td>\n      <td>3.733333</td>\n      <td>1.0</td>\n      <td>NaN</td>\n      <td>2010-07-01</td>\n    </tr>\n    <tr>\n      <th>572</th>\n      <td>United States</td>\n      <td>USA</td>\n      <td>USD</td>\n      <td>4.065000</td>\n      <td>1.0</td>\n      <td>47283.633</td>\n      <td>2011-07-01</td>\n    </tr>\n    <tr>\n      <th>627</th>\n      <td>United States</td>\n      <td>USA</td>\n      <td>USD</td>\n      <td>4.197220</td>\n      <td>1.0</td>\n      <td>47283.633</td>\n      <td>2012-01-01</td>\n    </tr>\n    <tr>\n      <th>680</th>\n      <td>United States</td>\n      <td>USA</td>\n      <td>USD</td>\n      <td>4.327500</td>\n      <td>1.0</td>\n      <td>47283.633</td>\n      <td>2012-07-01</td>\n    </tr>\n    <tr>\n      <th>735</th>\n      <td>United States</td>\n      <td>USA</td>\n      <td>USD</td>\n      <td>4.367396</td>\n      <td>1.0</td>\n      <td>48327.861</td>\n      <td>2013-01-01</td>\n    </tr>\n    <tr>\n      <th>790</th>\n      <td>United States</td>\n      <td>USA</td>\n      <td>USD</td>\n      <td>4.556667</td>\n      <td>1.0</td>\n      <td>48327.861</td>\n      <td>2013-07-01</td>\n    </tr>\n    <tr>\n      <th>846</th>\n      <td>United States</td>\n      <td>USA</td>\n      <td>USD</td>\n      <td>4.624167</td>\n      <td>1.0</td>\n      <td>48327.861</td>\n      <td>2014-01-01</td>\n    </tr>\n    <tr>\n      <th>902</th>\n      <td>United States</td>\n      <td>USA</td>\n      <td>USD</td>\n      <td>4.795000</td>\n      <td>1.0</td>\n      <td>51708.982</td>\n      <td>2014-07-01</td>\n    </tr>\n    <tr>\n      <th>958</th>\n      <td>United States</td>\n      <td>USA</td>\n      <td>USD</td>\n      <td>4.790000</td>\n      <td>1.0</td>\n      <td>53000.972</td>\n      <td>2015-01-01</td>\n    </tr>\n    <tr>\n      <th>1014</th>\n      <td>United States</td>\n      <td>USA</td>\n      <td>USD</td>\n      <td>4.790000</td>\n      <td>1.0</td>\n      <td>54596.653</td>\n      <td>2015-07-01</td>\n    </tr>\n    <tr>\n      <th>1070</th>\n      <td>United States</td>\n      <td>USA</td>\n      <td>USD</td>\n      <td>4.930000</td>\n      <td>1.0</td>\n      <td>54369.826</td>\n      <td>2016-01-01</td>\n    </tr>\n    <tr>\n      <th>1126</th>\n      <td>United States</td>\n      <td>USA</td>\n      <td>USD</td>\n      <td>5.040000</td>\n      <td>1.0</td>\n      <td>55805.204</td>\n      <td>2016-07-01</td>\n    </tr>\n    <tr>\n      <th>1182</th>\n      <td>United States</td>\n      <td>USA</td>\n      <td>USD</td>\n      <td>5.060000</td>\n      <td>1.0</td>\n      <td>55805.204</td>\n      <td>2017-01-01</td>\n    </tr>\n    <tr>\n      <th>1238</th>\n      <td>United States</td>\n      <td>USA</td>\n      <td>USD</td>\n      <td>5.300000</td>\n      <td>1.0</td>\n      <td>55805.204</td>\n      <td>2017-07-01</td>\n    </tr>\n    <tr>\n      <th>1294</th>\n      <td>United States</td>\n      <td>USA</td>\n      <td>USD</td>\n      <td>5.280000</td>\n      <td>1.0</td>\n      <td>57607.613</td>\n      <td>2018-01-01</td>\n    </tr>\n    <tr>\n      <th>1367</th>\n      <td>United States</td>\n      <td>USA</td>\n      <td>USD</td>\n      <td>5.510000</td>\n      <td>1.0</td>\n      <td>59501.114</td>\n      <td>2018-07-01</td>\n    </tr>\n    <tr>\n      <th>1439</th>\n      <td>United States</td>\n      <td>USA</td>\n      <td>USD</td>\n      <td>5.580000</td>\n      <td>1.0</td>\n      <td>59792.013</td>\n      <td>2019-01-01</td>\n    </tr>\n    <tr>\n      <th>1511</th>\n      <td>United States</td>\n      <td>USA</td>\n      <td>USD</td>\n      <td>5.740000</td>\n      <td>1.0</td>\n      <td>59895.000</td>\n      <td>2019-07-09</td>\n    </tr>\n    <tr>\n      <th>1583</th>\n      <td>United States</td>\n      <td>USA</td>\n      <td>USD</td>\n      <td>5.670000</td>\n      <td>1.0</td>\n      <td>62868.917</td>\n      <td>2020-01-14</td>\n    </tr>\n    <tr>\n      <th>1655</th>\n      <td>United States</td>\n      <td>USA</td>\n      <td>USD</td>\n      <td>5.710000</td>\n      <td>1.0</td>\n      <td>62868.917</td>\n      <td>2020-07-01</td>\n    </tr>\n    <tr>\n      <th>1727</th>\n      <td>United States</td>\n      <td>USA</td>\n      <td>USD</td>\n      <td>5.660000</td>\n      <td>1.0</td>\n      <td>65253.518</td>\n      <td>2021-01-01</td>\n    </tr>\n    <tr>\n      <th>1799</th>\n      <td>United States</td>\n      <td>USA</td>\n      <td>USD</td>\n      <td>5.650000</td>\n      <td>1.0</td>\n      <td>63415.990</td>\n      <td>2021-07-01</td>\n    </tr>\n    <tr>\n      <th>1872</th>\n      <td>United States</td>\n      <td>USA</td>\n      <td>USD</td>\n      <td>5.810000</td>\n      <td>1.0</td>\n      <td>63358.490</td>\n      <td>2022-01-01</td>\n    </tr>\n  </tbody>\n</table>\n</div>"
     },
     "metadata": {}
    }
   ],
   "execution_count": null
  },
  {
   "cell_type": "code",
   "metadata": {
    "cell_id": "ede9b322-cd40-4e1d-8f5e-cad632313c45",
    "tags": [],
    "deepnote_to_be_reexecuted": false,
    "source_hash": "891961e2",
    "execution_start": 1647578547605,
    "execution_millis": 800,
    "deepnote_cell_type": "code",
    "deepnote_cell_height": 697.1875,
    "deepnote_output_heights": [
     213.1875,
     302
    ]
   },
   "source": "us_big_mac_prices=us_big_mac_prices.get(['name','local_price','date'])\nus_big_mac_prices.plot(kind='line',x='date',y='local_price')\n#plotting a line graph to sense the increase in prices of big mac over the years. \nplt.xticks(rotation = 45)",
   "outputs": [
    {
     "output_type": "execute_result",
     "execution_count": 7,
     "data": {
      "text/plain": "(array([-5.,  0.,  5., 10., 15., 20., 25., 30., 35., 40.]),\n [Text(-5.0, 0, '2020-01-14'),\n  Text(0.0, 0, '2000-04-01'),\n  Text(5.0, 0, '2005-06-01'),\n  Text(10.0, 0, '2008-06-01'),\n  Text(15.0, 0, '2012-01-01'),\n  Text(20.0, 0, '2014-07-01'),\n  Text(25.0, 0, '2017-01-01'),\n  Text(30.0, 0, '2019-07-09'),\n  Text(35.0, 0, '2022-01-01'),\n  Text(40.0, 0, '')])"
     },
     "metadata": {}
    },
    {
     "data": {
      "text/plain": "<Figure size 432x288 with 1 Axes>",
      "image/png": "[encoded data removed]"
     },
     "metadata": {
      "needs_background": "light",
      "image/png": {
       "width": 380,
       "height": 300
      }
     },
     "output_type": "display_data"
    }
   ],
   "execution_count": null
  },
  {
   "cell_type": "code",
   "metadata": {
    "cell_id": "c6409eee-919f-4c52-8432-64a35fde2c2e",
    "tags": [],
    "deepnote_to_be_reexecuted": false,
    "source_hash": "54e7f1cc",
    "execution_start": 1647578548415,
    "execution_millis": 4,
    "deepnote_table_state": {
     "pageSize": 10,
     "pageIndex": 1,
     "filters": [],
     "sortBy": []
    },
    "deepnote_table_loading": false,
    "deepnote_cell_type": "code",
    "deepnote_cell_height": 652
   },
   "source": "#Cleaning the Big Mac Price Dataset\nus_big_mac_prices_cleaned=us_big_mac_prices.assign(date=us_big_mac_prices.get('date').apply(date_formatter))\nus_big_mac_prices_cleaned=us_big_mac_prices_cleaned.groupby('date').mean()\nus_big_mac_prices_cleaned",
   "outputs": [
    {
     "output_type": "execute_result",
     "execution_count": 8,
     "data": {
      "application/vnd.deepnote.dataframe.v3+json": {
       "column_count": 1,
       "row_count": 23,
       "columns": [
        {
         "name": "local_price",
         "dtype": "float64",
         "stats": {
          "unique_count": 22,
          "nan_count": 0,
          "min": "2.49",
          "max": "5.81",
          "histogram": [
           {
            "bin_start": 2.49,
            "bin_end": 2.822,
            "count": 4
           },
           {
            "bin_start": 2.822,
            "bin_end": 3.154,
            "count": 3
           },
           {
            "bin_start": 3.154,
            "bin_end": 3.486,
            "count": 1
           },
           {
            "bin_start": 3.486,
            "bin_end": 3.818,
            "count": 3
           },
           {
            "bin_start": 3.818,
            "bin_end": 4.15,
            "count": 1
           },
           {
            "bin_start": 4.15,
            "bin_end": 4.482,
            "count": 2
           },
           {
            "bin_start": 4.482,
            "bin_end": 4.814,
            "count": 2
           },
           {
            "bin_start": 4.814,
            "bin_end": 5.146,
            "count": 1
           },
           {
            "bin_start": 5.146,
            "bin_end": 5.478,
            "count": 2
           },
           {
            "bin_start": 5.478,
            "bin_end": 5.81,
            "count": 4
           }
          ]
         }
        },
        {
         "name": "_deepnote_index_column",
         "dtype": "int64"
        }
       ],
       "rows": [
        {
         "local_price": 3.6566666665,
         "_deepnote_index_column": 2010
        },
        {
         "local_price": 4.065,
         "_deepnote_index_column": 2011
        },
        {
         "local_price": 4.262359999999999,
         "_deepnote_index_column": 2012
        },
        {
         "local_price": 4.46203125,
         "_deepnote_index_column": 2013
        },
        {
         "local_price": 4.7095833334999995,
         "_deepnote_index_column": 2014
        },
        {
         "local_price": 4.79,
         "_deepnote_index_column": 2015
        },
        {
         "local_price": 4.984999999999999,
         "_deepnote_index_column": 2016
        },
        {
         "local_price": 5.18,
         "_deepnote_index_column": 2017
        },
        {
         "local_price": 5.395,
         "_deepnote_index_column": 2018
        },
        {
         "local_price": 5.66,
         "_deepnote_index_column": 2019
        }
       ]
      },
      "text/plain": "      local_price\ndate             \n2000     2.510000\n2001     2.540000\n2002     2.490000\n2003     2.710000\n2004     2.900000\n2005     3.060000\n2006     3.125000\n2007     3.315000\n2008     3.570000\n2009     3.570000\n2010     3.656667\n2011     4.065000\n2012     4.262360\n2013     4.462031\n2014     4.709583\n2015     4.790000\n2016     4.985000\n2017     5.180000\n2018     5.395000\n2019     5.660000\n2020     5.690000\n2021     5.655000\n2022     5.810000",
      "text/html": "<div>\n<style scoped>\n    .dataframe tbody tr th:only-of-type {\n        vertical-align: middle;\n    }\n\n    .dataframe tbody tr th {\n        vertical-align: top;\n    }\n\n    .dataframe thead th {\n        text-align: right;\n    }\n</style>\n<table border=\"1\" class=\"dataframe\">\n  <thead>\n    <tr style=\"text-align: right;\">\n      <th></th>\n      <th>local_price</th>\n    </tr>\n    <tr>\n      <th>date</th>\n      <th></th>\n    </tr>\n  </thead>\n  <tbody>\n    <tr>\n      <th>2000</th>\n      <td>2.510000</td>\n    </tr>\n    <tr>\n      <th>2001</th>\n      <td>2.540000</td>\n    </tr>\n    <tr>\n      <th>2002</th>\n      <td>2.490000</td>\n    </tr>\n    <tr>\n      <th>2003</th>\n      <td>2.710000</td>\n    </tr>\n    <tr>\n      <th>2004</th>\n      <td>2.900000</td>\n    </tr>\n    <tr>\n      <th>2005</th>\n      <td>3.060000</td>\n    </tr>\n    <tr>\n      <th>2006</th>\n      <td>3.125000</td>\n    </tr>\n    <tr>\n      <th>2007</th>\n      <td>3.315000</td>\n    </tr>\n    <tr>\n      <th>2008</th>\n      <td>3.570000</td>\n    </tr>\n    <tr>\n      <th>2009</th>\n      <td>3.570000</td>\n    </tr>\n    <tr>\n      <th>2010</th>\n      <td>3.656667</td>\n    </tr>\n    <tr>\n      <th>2011</th>\n      <td>4.065000</td>\n    </tr>\n    <tr>\n      <th>2012</th>\n      <td>4.262360</td>\n    </tr>\n    <tr>\n      <th>2013</th>\n      <td>4.462031</td>\n    </tr>\n    <tr>\n      <th>2014</th>\n      <td>4.709583</td>\n    </tr>\n    <tr>\n      <th>2015</th>\n      <td>4.790000</td>\n    </tr>\n    <tr>\n      <th>2016</th>\n      <td>4.985000</td>\n    </tr>\n    <tr>\n      <th>2017</th>\n      <td>5.180000</td>\n    </tr>\n    <tr>\n      <th>2018</th>\n      <td>5.395000</td>\n    </tr>\n    <tr>\n      <th>2019</th>\n      <td>5.660000</td>\n    </tr>\n    <tr>\n      <th>2020</th>\n      <td>5.690000</td>\n    </tr>\n    <tr>\n      <th>2021</th>\n      <td>5.655000</td>\n    </tr>\n    <tr>\n      <th>2022</th>\n      <td>5.810000</td>\n    </tr>\n  </tbody>\n</table>\n</div>"
     },
     "metadata": {}
    }
   ],
   "execution_count": null
  },
  {
   "cell_type": "code",
   "metadata": {
    "cell_id": "118b5fa0-54ba-4f72-9a21-08eb54910676",
    "tags": [],
    "deepnote_to_be_reexecuted": false,
    "source_hash": "7687dfa6",
    "execution_start": 1647578548439,
    "execution_millis": 2,
    "deepnote_table_state": {
     "pageSize": 10,
     "pageIndex": 3,
     "filters": [],
     "sortBy": []
    },
    "deepnote_table_loading": false,
    "deepnote_cell_type": "code",
    "deepnote_cell_height": 629
   },
   "source": "beef_prices_cleaned=beef_prices.assign(date=beef_prices.get('DATE').apply(date_formatter))\nbeef_prices_cleaned= beef_prices_cleaned.assign(prices=beef_prices_cleaned.get('APU0000703112').apply(lambda price: float(price) if price!='.' else 0))\nbeef_prices_cleaned=beef_prices_cleaned.groupby('date').mean()\nbeef_prices_cleaned= beef_prices_cleaned.get(['prices'])\nbeef_prices_cleaned",
   "outputs": [
    {
     "output_type": "execute_result",
     "execution_count": 9,
     "data": {
      "application/vnd.deepnote.dataframe.v3+json": {
       "column_count": 1,
       "row_count": 39,
       "columns": [
        {
         "name": "prices",
         "dtype": "float64",
         "stats": {
          "unique_count": 39,
          "nan_count": 0,
          "min": "1.232",
          "max": "4.5920000000000005",
          "histogram": [
           {
            "bin_start": 1.232,
            "bin_end": 1.568,
            "count": 13
           },
           {
            "bin_start": 1.568,
            "bin_end": 1.904,
            "count": 6
           },
           {
            "bin_start": 1.904,
            "bin_end": 2.24,
            "count": 4
           },
           {
            "bin_start": 2.24,
            "bin_end": 2.576,
            "count": 4
           },
           {
            "bin_start": 2.576,
            "bin_end": 2.912,
            "count": 2
           },
           {
            "bin_start": 2.912,
            "bin_end": 3.248,
            "count": 0
           },
           {
            "bin_start": 3.248,
            "bin_end": 3.5840000000000005,
            "count": 1
           },
           {
            "bin_start": 3.5840000000000005,
            "bin_end": 3.92,
            "count": 5
           },
           {
            "bin_start": 3.92,
            "bin_end": 4.256,
            "count": 2
           },
           {
            "bin_start": 4.256,
            "bin_end": 4.5920000000000005,
            "count": 2
           }
          ]
         }
        },
        {
         "name": "_deepnote_index_column",
         "dtype": "int64"
        }
       ],
       "rows": [
        {
         "prices": 3.8973333333333335,
         "_deepnote_index_column": 2014
        },
        {
         "prices": 4.166833333333334,
         "_deepnote_index_column": 2015
        },
        {
         "prices": 3.750083333333333,
         "_deepnote_index_column": 2016
        },
        {
         "prices": 3.6430000000000002,
         "_deepnote_index_column": 2017
        },
        {
         "prices": 3.7153333333333336,
         "_deepnote_index_column": 2018
        },
        {
         "prices": 3.8064999999999998,
         "_deepnote_index_column": 2019
        },
        {
         "prices": 4.1154166666666665,
         "_deepnote_index_column": 2020
        },
        {
         "prices": 4.328916666666667,
         "_deepnote_index_column": 2021
        },
        {
         "prices": 4.5920000000000005,
         "_deepnote_index_column": 2022
        }
       ]
      },
      "text/plain": "        prices\ndate          \n1984  1.287167\n1985  1.237500\n1986  1.232000\n1987  1.309917\n1988  1.364750\n1989  1.439833\n1990  1.587333\n1991  1.595083\n1992  1.541500\n1993  1.569167\n1994  1.477083\n1995  1.369167\n1996  1.368833\n1997  1.396417\n1998  1.411917\n1999  1.453417\n2000  1.569417\n2001  1.714167\n2002  1.712750\n2003  1.950417\n2004  2.159167\n2005  2.296417\n2006  2.221167\n2007  2.299250\n2008  2.343333\n2009  2.220667\n2010  2.365917\n2011  2.774833\n2012  2.776917\n2013  3.401667\n2014  3.897333\n2015  4.166833\n2016  3.750083\n2017  3.643000\n2018  3.715333\n2019  3.806500\n2020  4.115417\n2021  4.328917\n2022  4.592000",
      "text/html": "<div>\n<style scoped>\n    .dataframe tbody tr th:only-of-type {\n        vertical-align: middle;\n    }\n\n    .dataframe tbody tr th {\n        vertical-align: top;\n    }\n\n    .dataframe thead th {\n        text-align: right;\n    }\n</style>\n<table border=\"1\" class=\"dataframe\">\n  <thead>\n    <tr style=\"text-align: right;\">\n      <th></th>\n      <th>prices</th>\n    </tr>\n    <tr>\n      <th>date</th>\n      <th></th>\n    </tr>\n  </thead>\n  <tbody>\n    <tr>\n      <th>1984</th>\n      <td>1.287167</td>\n    </tr>\n    <tr>\n      <th>1985</th>\n      <td>1.237500</td>\n    </tr>\n    <tr>\n      <th>1986</th>\n      <td>1.232000</td>\n    </tr>\n    <tr>\n      <th>1987</th>\n      <td>1.309917</td>\n    </tr>\n    <tr>\n      <th>1988</th>\n      <td>1.364750</td>\n    </tr>\n    <tr>\n      <th>1989</th>\n      <td>1.439833</td>\n    </tr>\n    <tr>\n      <th>1990</th>\n      <td>1.587333</td>\n    </tr>\n    <tr>\n      <th>1991</th>\n      <td>1.595083</td>\n    </tr>\n    <tr>\n      <th>1992</th>\n      <td>1.541500</td>\n    </tr>\n    <tr>\n      <th>1993</th>\n      <td>1.569167</td>\n    </tr>\n    <tr>\n      <th>1994</th>\n      <td>1.477083</td>\n    </tr>\n    <tr>\n      <th>1995</th>\n      <td>1.369167</td>\n    </tr>\n    <tr>\n      <th>1996</th>\n      <td>1.368833</td>\n    </tr>\n    <tr>\n      <th>1997</th>\n      <td>1.396417</td>\n    </tr>\n    <tr>\n      <th>1998</th>\n      <td>1.411917</td>\n    </tr>\n    <tr>\n      <th>1999</th>\n      <td>1.453417</td>\n    </tr>\n    <tr>\n      <th>2000</th>\n      <td>1.569417</td>\n    </tr>\n    <tr>\n      <th>2001</th>\n      <td>1.714167</td>\n    </tr>\n    <tr>\n      <th>2002</th>\n      <td>1.712750</td>\n    </tr>\n    <tr>\n      <th>2003</th>\n      <td>1.950417</td>\n    </tr>\n    <tr>\n      <th>2004</th>\n      <td>2.159167</td>\n    </tr>\n    <tr>\n      <th>2005</th>\n      <td>2.296417</td>\n    </tr>\n    <tr>\n      <th>2006</th>\n      <td>2.221167</td>\n    </tr>\n    <tr>\n      <th>2007</th>\n      <td>2.299250</td>\n    </tr>\n    <tr>\n      <th>2008</th>\n      <td>2.343333</td>\n    </tr>\n    <tr>\n      <th>2009</th>\n      <td>2.220667</td>\n    </tr>\n    <tr>\n      <th>2010</th>\n      <td>2.365917</td>\n    </tr>\n    <tr>\n      <th>2011</th>\n      <td>2.774833</td>\n    </tr>\n    <tr>\n      <th>2012</th>\n      <td>2.776917</td>\n    </tr>\n    <tr>\n      <th>2013</th>\n      <td>3.401667</td>\n    </tr>\n    <tr>\n      <th>2014</th>\n      <td>3.897333</td>\n    </tr>\n    <tr>\n      <th>2015</th>\n      <td>4.166833</td>\n    </tr>\n    <tr>\n      <th>2016</th>\n      <td>3.750083</td>\n    </tr>\n    <tr>\n      <th>2017</th>\n      <td>3.643000</td>\n    </tr>\n    <tr>\n      <th>2018</th>\n      <td>3.715333</td>\n    </tr>\n    <tr>\n      <th>2019</th>\n      <td>3.806500</td>\n    </tr>\n    <tr>\n      <th>2020</th>\n      <td>4.115417</td>\n    </tr>\n    <tr>\n      <th>2021</th>\n      <td>4.328917</td>\n    </tr>\n    <tr>\n      <th>2022</th>\n      <td>4.592000</td>\n    </tr>\n  </tbody>\n</table>\n</div>"
     },
     "metadata": {}
    }
   ],
   "execution_count": null
  },
  {
   "cell_type": "code",
   "metadata": {
    "cell_id": "567582d0-8597-4f50-bc70-cc2560924bd8",
    "tags": [],
    "deepnote_to_be_reexecuted": false,
    "source_hash": "c155343c",
    "execution_start": 1647578548488,
    "execution_millis": 2,
    "deepnote_table_state": {
     "pageSize": 10,
     "pageIndex": 1,
     "filters": [],
     "sortBy": []
    },
    "deepnote_table_loading": false,
    "deepnote_cell_type": "code",
    "deepnote_cell_height": 153
   },
   "source": "#Cleaning the Onion Price Dataset\nonion_prices_cleaned=onion_prices.assign(date=onion_prices.get('Date').apply(lambda name:int('20'+name.split('-')[2])))\nonion_prices_cleaned=onion_prices_cleaned[onion_prices_cleaned.get('date')<2050]\nonion_prices_cleaned=onion_prices_cleaned.assign(prices=onion_prices_cleaned.get('Value').apply(lambda price:float(price)/112))\nonion_prices_cleaned=onion_prices_cleaned.groupby('date').mean()",
   "outputs": [],
   "execution_count": null
  },
  {
   "cell_type": "code",
   "metadata": {
    "cell_id": "0461877c-3e51-4538-b461-a80cb87bb8e4",
    "tags": [],
    "deepnote_to_be_reexecuted": false,
    "source_hash": "e52f61f7",
    "execution_start": 1647578548515,
    "execution_millis": 2,
    "deepnote_table_state": {
     "pageSize": 10,
     "pageIndex": 4,
     "filters": [],
     "sortBy": []
    },
    "deepnote_table_loading": false,
    "deepnote_cell_type": "code",
    "deepnote_cell_height": 365
   },
   "source": "#Cleaning the Bread Price Dataset\nbread_prices_cleaned=bread_prices.assign(date=bread_prices.get('DATE').apply(date_formatter))\nbread_prices_cleaned= bread_prices_cleaned.groupby('date').mean()\nbread_prices_cleaned",
   "outputs": [
    {
     "output_type": "execute_result",
     "execution_count": 11,
     "data": {
      "application/vnd.deepnote.dataframe.v3+json": {
       "column_count": 1,
       "row_count": 43,
       "columns": [
        {
         "name": "APU0000702111",
         "dtype": "float64",
         "stats": {
          "unique_count": 43,
          "nan_count": 0,
          "min": "0.50875",
          "max": "1.5665",
          "histogram": [
           {
            "bin_start": 0.50875,
            "bin_end": 0.614525,
            "count": 9
           },
           {
            "bin_start": 0.614525,
            "bin_end": 0.7203,
            "count": 3
           },
           {
            "bin_start": 0.7203,
            "bin_end": 0.826075,
            "count": 4
           },
           {
            "bin_start": 0.826075,
            "bin_end": 0.9318500000000001,
            "count": 5
           },
           {
            "bin_start": 0.9318500000000001,
            "bin_end": 1.037625,
            "count": 4
           },
           {
            "bin_start": 1.037625,
            "bin_end": 1.1434,
            "count": 2
           },
           {
            "bin_start": 1.1434,
            "bin_end": 1.2491750000000001,
            "count": 1
           },
           {
            "bin_start": 1.2491750000000001,
            "bin_end": 1.35495,
            "count": 3
           },
           {
            "bin_start": 1.35495,
            "bin_end": 1.460725,
            "count": 10
           },
           {
            "bin_start": 1.460725,
            "bin_end": 1.5665,
            "count": 2
           }
          ]
         }
        },
        {
         "name": "_deepnote_index_column",
         "dtype": "int64"
        }
       ],
       "rows": [
        {
         "APU0000702111": 1.4516666666666669,
         "_deepnote_index_column": 2020
        },
        {
         "APU0000702111": 1.5235833333333335,
         "_deepnote_index_column": 2021
        },
        {
         "APU0000702111": 1.5665,
         "_deepnote_index_column": 2022
        }
       ]
      },
      "text/plain": "      APU0000702111\ndate               \n1980       0.508750\n1981       0.525167\n1982       0.532167\n1983       0.541583\n1984       0.541250\n1985       0.553250\n1986       0.564667\n1987       0.547417\n1988       0.612833\n1989       0.665583\n1990       0.694583\n1991       0.709833\n1992       0.749833\n1993       0.752083\n1994       0.760667\n1995       0.791250\n1996       0.875667\n1997       0.872250\n1998       0.860167\n1999       0.887083\n2000       0.930167\n2001       0.999083\n2002       1.015583\n2003       1.000750\n2004       0.969417\n2005       1.040333\n2006       1.080500\n2007       1.207333\n2008       1.366417\n2009       1.387417\n2010       1.373333\n2011       1.444667\n2012       1.417667\n2013       1.406667\n2014       1.401250\n2015       1.441000\n2016       1.371250\n2017       1.332583\n2018       1.286000\n2019       1.297667\n2020       1.451667\n2021       1.523583\n2022       1.566500",
      "text/html": "<div>\n<style scoped>\n    .dataframe tbody tr th:only-of-type {\n        vertical-align: middle;\n    }\n\n    .dataframe tbody tr th {\n        vertical-align: top;\n    }\n\n    .dataframe thead th {\n        text-align: right;\n    }\n</style>\n<table border=\"1\" class=\"dataframe\">\n  <thead>\n    <tr style=\"text-align: right;\">\n      <th></th>\n      <th>APU0000702111</th>\n    </tr>\n    <tr>\n      <th>date</th>\n      <th></th>\n    </tr>\n  </thead>\n  <tbody>\n    <tr>\n      <th>1980</th>\n      <td>0.508750</td>\n    </tr>\n    <tr>\n      <th>1981</th>\n      <td>0.525167</td>\n    </tr>\n    <tr>\n      <th>1982</th>\n      <td>0.532167</td>\n    </tr>\n    <tr>\n      <th>1983</th>\n      <td>0.541583</td>\n    </tr>\n    <tr>\n      <th>1984</th>\n      <td>0.541250</td>\n    </tr>\n    <tr>\n      <th>1985</th>\n      <td>0.553250</td>\n    </tr>\n    <tr>\n      <th>1986</th>\n      <td>0.564667</td>\n    </tr>\n    <tr>\n      <th>1987</th>\n      <td>0.547417</td>\n    </tr>\n    <tr>\n      <th>1988</th>\n      <td>0.612833</td>\n    </tr>\n    <tr>\n      <th>1989</th>\n      <td>0.665583</td>\n    </tr>\n    <tr>\n      <th>1990</th>\n      <td>0.694583</td>\n    </tr>\n    <tr>\n      <th>1991</th>\n      <td>0.709833</td>\n    </tr>\n    <tr>\n      <th>1992</th>\n      <td>0.749833</td>\n    </tr>\n    <tr>\n      <th>1993</th>\n      <td>0.752083</td>\n    </tr>\n    <tr>\n      <th>1994</th>\n      <td>0.760667</td>\n    </tr>\n    <tr>\n      <th>1995</th>\n      <td>0.791250</td>\n    </tr>\n    <tr>\n      <th>1996</th>\n      <td>0.875667</td>\n    </tr>\n    <tr>\n      <th>1997</th>\n      <td>0.872250</td>\n    </tr>\n    <tr>\n      <th>1998</th>\n      <td>0.860167</td>\n    </tr>\n    <tr>\n      <th>1999</th>\n      <td>0.887083</td>\n    </tr>\n    <tr>\n      <th>2000</th>\n      <td>0.930167</td>\n    </tr>\n    <tr>\n      <th>2001</th>\n      <td>0.999083</td>\n    </tr>\n    <tr>\n      <th>2002</th>\n      <td>1.015583</td>\n    </tr>\n    <tr>\n      <th>2003</th>\n      <td>1.000750</td>\n    </tr>\n    <tr>\n      <th>2004</th>\n      <td>0.969417</td>\n    </tr>\n    <tr>\n      <th>2005</th>\n      <td>1.040333</td>\n    </tr>\n    <tr>\n      <th>2006</th>\n      <td>1.080500</td>\n    </tr>\n    <tr>\n      <th>2007</th>\n      <td>1.207333</td>\n    </tr>\n    <tr>\n      <th>2008</th>\n      <td>1.366417</td>\n    </tr>\n    <tr>\n      <th>2009</th>\n      <td>1.387417</td>\n    </tr>\n    <tr>\n      <th>2010</th>\n      <td>1.373333</td>\n    </tr>\n    <tr>\n      <th>2011</th>\n      <td>1.444667</td>\n    </tr>\n    <tr>\n      <th>2012</th>\n      <td>1.417667</td>\n    </tr>\n    <tr>\n      <th>2013</th>\n      <td>1.406667</td>\n    </tr>\n    <tr>\n      <th>2014</th>\n      <td>1.401250</td>\n    </tr>\n    <tr>\n      <th>2015</th>\n      <td>1.441000</td>\n    </tr>\n    <tr>\n      <th>2016</th>\n      <td>1.371250</td>\n    </tr>\n    <tr>\n      <th>2017</th>\n      <td>1.332583</td>\n    </tr>\n    <tr>\n      <th>2018</th>\n      <td>1.286000</td>\n    </tr>\n    <tr>\n      <th>2019</th>\n      <td>1.297667</td>\n    </tr>\n    <tr>\n      <th>2020</th>\n      <td>1.451667</td>\n    </tr>\n    <tr>\n      <th>2021</th>\n      <td>1.523583</td>\n    </tr>\n    <tr>\n      <th>2022</th>\n      <td>1.566500</td>\n    </tr>\n  </tbody>\n</table>\n</div>"
     },
     "metadata": {}
    }
   ],
   "execution_count": null
  },
  {
   "cell_type": "code",
   "metadata": {
    "cell_id": "d1232fe5-15f6-4b15-9e3f-1dbfaba90281",
    "tags": [],
    "deepnote_to_be_reexecuted": false,
    "source_hash": "c64a0584",
    "execution_start": 1647578548516,
    "execution_millis": 11,
    "deepnote_table_state": {
     "pageSize": 10,
     "pageIndex": 0,
     "filters": [],
     "sortBy": [
      {
       "id": "APU0000712211",
       "type": "desc"
      }
     ]
    },
    "deepnote_table_loading": false,
    "deepnote_cell_type": "code",
    "deepnote_cell_height": 688
   },
   "source": "#Cleaning the Lettuce Price Dataset\nlettuce_prices_cleaned= lettuce_prices.assign(date=lettuce_prices.get('DATE').apply(date_formatter))\nlettuce_prices_cleaned= lettuce_prices_cleaned.assign(price=lettuce_prices_cleaned.get('APU0000712211').apply(lambda price: float(price) if price!='.' else 0))\nlettuce_prices_cleaned=lettuce_prices_cleaned[lettuce_prices_cleaned.get('price')>0]\nlettuce_prices_cleaned= lettuce_prices_cleaned.groupby('date').mean()\nlettuce_prices_cleaned",
   "outputs": [
    {
     "output_type": "execute_result",
     "execution_count": 12,
     "data": {
      "application/vnd.deepnote.dataframe.v3+json": {
       "column_count": 1,
       "row_count": 41,
       "columns": [
        {
         "name": "price",
         "dtype": "float64",
         "stats": {
          "unique_count": 41,
          "nan_count": 0,
          "min": "0.45216666666666666",
          "max": "1.2945",
          "histogram": [
           {
            "bin_start": 0.45216666666666666,
            "bin_end": 0.5364,
            "count": 4
           },
           {
            "bin_start": 0.5364,
            "bin_end": 0.6206333333333334,
            "count": 9
           },
           {
            "bin_start": 0.6206333333333334,
            "bin_end": 0.7048666666666668,
            "count": 5
           },
           {
            "bin_start": 0.7048666666666668,
            "bin_end": 0.7891,
            "count": 2
           },
           {
            "bin_start": 0.7891,
            "bin_end": 0.8733333333333333,
            "count": 8
           },
           {
            "bin_start": 0.8733333333333333,
            "bin_end": 0.9575666666666667,
            "count": 5
           },
           {
            "bin_start": 0.9575666666666667,
            "bin_end": 1.0418,
            "count": 3
           },
           {
            "bin_start": 1.0418,
            "bin_end": 1.1260333333333334,
            "count": 2
           },
           {
            "bin_start": 1.1260333333333334,
            "bin_end": 1.2102666666666668,
            "count": 2
           },
           {
            "bin_start": 1.2102666666666668,
            "bin_end": 1.2945,
            "count": 1
           }
          ]
         }
        },
        {
         "name": "_deepnote_index_column",
         "dtype": "int64"
        }
       ],
       "rows": [
        {
         "price": 0.45216666666666666,
         "_deepnote_index_column": 1980
        },
        {
         "price": 0.48741666666666666,
         "_deepnote_index_column": 1981
        },
        {
         "price": 0.5730833333333333,
         "_deepnote_index_column": 1982
        },
        {
         "price": 0.5539166666666667,
         "_deepnote_index_column": 1983
        },
        {
         "price": 0.5125833333333333,
         "_deepnote_index_column": 1984
        },
        {
         "price": 0.5383333333333333,
         "_deepnote_index_column": 1985
        },
        {
         "price": 0.5279166666666667,
         "_deepnote_index_column": 1986
        },
        {
         "price": 0.6183,
         "_deepnote_index_column": 1987
        },
        {
         "price": 0.6281666666666667,
         "_deepnote_index_column": 1988
        },
        {
         "price": 0.6048333333333333,
         "_deepnote_index_column": 1989
        }
       ]
      },
      "text/plain": "         price\ndate          \n1980  0.452167\n1981  0.487417\n1982  0.573083\n1983  0.553917\n1984  0.512583\n1985  0.538333\n1986  0.527917\n1987  0.618300\n1988  0.628167\n1989  0.604833\n1990  0.577917\n1991  0.604667\n1992  0.576750\n1993  0.655917\n1994  0.607667\n1995  0.801250\n1996  0.647750\n1997  0.694000\n1998  0.756667\n1999  0.674417\n2000  0.735917\n2001  0.792833\n2002  0.861167\n2003  0.823000\n2004  0.797833\n2005  0.870167\n2006  0.865500\n2007  0.928333\n2008  0.905333\n2009  0.913333\n2010  0.874667\n2011  0.988833\n2012  0.857000\n2013  1.014636\n2014  1.052750\n2015  1.161500\n2016  1.063583\n2017  1.029333\n2018  0.944000\n2019  1.184333\n2020  1.294500",
      "text/html": "<div>\n<style scoped>\n    .dataframe tbody tr th:only-of-type {\n        vertical-align: middle;\n    }\n\n    .dataframe tbody tr th {\n        vertical-align: top;\n    }\n\n    .dataframe thead th {\n        text-align: right;\n    }\n</style>\n<table border=\"1\" class=\"dataframe\">\n  <thead>\n    <tr style=\"text-align: right;\">\n      <th></th>\n      <th>price</th>\n    </tr>\n    <tr>\n      <th>date</th>\n      <th></th>\n    </tr>\n  </thead>\n  <tbody>\n    <tr>\n      <th>1980</th>\n      <td>0.452167</td>\n    </tr>\n    <tr>\n      <th>1981</th>\n      <td>0.487417</td>\n    </tr>\n    <tr>\n      <th>1982</th>\n      <td>0.573083</td>\n    </tr>\n    <tr>\n      <th>1983</th>\n      <td>0.553917</td>\n    </tr>\n    <tr>\n      <th>1984</th>\n      <td>0.512583</td>\n    </tr>\n    <tr>\n      <th>1985</th>\n      <td>0.538333</td>\n    </tr>\n    <tr>\n      <th>1986</th>\n      <td>0.527917</td>\n    </tr>\n    <tr>\n      <th>1987</th>\n      <td>0.618300</td>\n    </tr>\n    <tr>\n      <th>1988</th>\n      <td>0.628167</td>\n    </tr>\n    <tr>\n      <th>1989</th>\n      <td>0.604833</td>\n    </tr>\n    <tr>\n      <th>1990</th>\n      <td>0.577917</td>\n    </tr>\n    <tr>\n      <th>1991</th>\n      <td>0.604667</td>\n    </tr>\n    <tr>\n      <th>1992</th>\n      <td>0.576750</td>\n    </tr>\n    <tr>\n      <th>1993</th>\n      <td>0.655917</td>\n    </tr>\n    <tr>\n      <th>1994</th>\n      <td>0.607667</td>\n    </tr>\n    <tr>\n      <th>1995</th>\n      <td>0.801250</td>\n    </tr>\n    <tr>\n      <th>1996</th>\n      <td>0.647750</td>\n    </tr>\n    <tr>\n      <th>1997</th>\n      <td>0.694000</td>\n    </tr>\n    <tr>\n      <th>1998</th>\n      <td>0.756667</td>\n    </tr>\n    <tr>\n      <th>1999</th>\n      <td>0.674417</td>\n    </tr>\n    <tr>\n      <th>2000</th>\n      <td>0.735917</td>\n    </tr>\n    <tr>\n      <th>2001</th>\n      <td>0.792833</td>\n    </tr>\n    <tr>\n      <th>2002</th>\n      <td>0.861167</td>\n    </tr>\n    <tr>\n      <th>2003</th>\n      <td>0.823000</td>\n    </tr>\n    <tr>\n      <th>2004</th>\n      <td>0.797833</td>\n    </tr>\n    <tr>\n      <th>2005</th>\n      <td>0.870167</td>\n    </tr>\n    <tr>\n      <th>2006</th>\n      <td>0.865500</td>\n    </tr>\n    <tr>\n      <th>2007</th>\n      <td>0.928333</td>\n    </tr>\n    <tr>\n      <th>2008</th>\n      <td>0.905333</td>\n    </tr>\n    <tr>\n      <th>2009</th>\n      <td>0.913333</td>\n    </tr>\n    <tr>\n      <th>2010</th>\n      <td>0.874667</td>\n    </tr>\n    <tr>\n      <th>2011</th>\n      <td>0.988833</td>\n    </tr>\n    <tr>\n      <th>2012</th>\n      <td>0.857000</td>\n    </tr>\n    <tr>\n      <th>2013</th>\n      <td>1.014636</td>\n    </tr>\n    <tr>\n      <th>2014</th>\n      <td>1.052750</td>\n    </tr>\n    <tr>\n      <th>2015</th>\n      <td>1.161500</td>\n    </tr>\n    <tr>\n      <th>2016</th>\n      <td>1.063583</td>\n    </tr>\n    <tr>\n      <th>2017</th>\n      <td>1.029333</td>\n    </tr>\n    <tr>\n      <th>2018</th>\n      <td>0.944000</td>\n    </tr>\n    <tr>\n      <th>2019</th>\n      <td>1.184333</td>\n    </tr>\n    <tr>\n      <th>2020</th>\n      <td>1.294500</td>\n    </tr>\n  </tbody>\n</table>\n</div>"
     },
     "metadata": {}
    }
   ],
   "execution_count": null
  },
  {
   "cell_type": "code",
   "metadata": {
    "cell_id": "9fe6089a-bfda-401b-91ad-d2b0c7815f16",
    "tags": [],
    "deepnote_to_be_reexecuted": false,
    "source_hash": "9b777834",
    "execution_start": 1647578548537,
    "execution_millis": 5,
    "deepnote_cell_type": "code",
    "deepnote_cell_height": 634
   },
   "source": "#Cleaning the Cucumber Price Dataset\ncucumber_prices_cleaned=cucumber_prices.groupby('date').mean()\ncucumber_prices_cleaned",
   "outputs": [
    {
     "output_type": "execute_result",
     "execution_count": 13,
     "data": {
      "application/vnd.deepnote.dataframe.v3+json": {
       "column_count": 1,
       "row_count": 21,
       "columns": [
        {
         "name": "prices",
         "dtype": "float64",
         "stats": {
          "unique_count": 17,
          "nan_count": 0,
          "min": "0.93",
          "max": "1.2",
          "histogram": [
           {
            "bin_start": 0.93,
            "bin_end": 0.9570000000000001,
            "count": 3
           },
           {
            "bin_start": 0.9570000000000001,
            "bin_end": 0.984,
            "count": 2
           },
           {
            "bin_start": 0.984,
            "bin_end": 1.0110000000000001,
            "count": 1
           },
           {
            "bin_start": 1.0110000000000001,
            "bin_end": 1.038,
            "count": 1
           },
           {
            "bin_start": 1.038,
            "bin_end": 1.065,
            "count": 1
           },
           {
            "bin_start": 1.065,
            "bin_end": 1.092,
            "count": 2
           },
           {
            "bin_start": 1.092,
            "bin_end": 1.119,
            "count": 1
           },
           {
            "bin_start": 1.119,
            "bin_end": 1.146,
            "count": 3
           },
           {
            "bin_start": 1.146,
            "bin_end": 1.173,
            "count": 3
           },
           {
            "bin_start": 1.173,
            "bin_end": 1.2,
            "count": 4
           }
          ]
         }
        },
        {
         "name": "_deepnote_index_column",
         "dtype": "int64"
        }
       ],
       "rows": [
        {
         "prices": 0.93,
         "_deepnote_index_column": 2000
        },
        {
         "prices": 0.95,
         "_deepnote_index_column": 2001
        },
        {
         "prices": 0.98,
         "_deepnote_index_column": 2002
        },
        {
         "prices": 0.97,
         "_deepnote_index_column": 2003
        },
        {
         "prices": 0.99,
         "_deepnote_index_column": 2004
        },
        {
         "prices": 0.94,
         "_deepnote_index_column": 2005
        },
        {
         "prices": 1.03,
         "_deepnote_index_column": 2006
        },
        {
         "prices": 1.06,
         "_deepnote_index_column": 2007
        },
        {
         "prices": 1.09,
         "_deepnote_index_column": 2008
        },
        {
         "prices": 1.14,
         "_deepnote_index_column": 2009
        }
       ]
      },
      "text/plain": "      prices\ndate        \n2000    0.93\n2001    0.95\n2002    0.98\n2003    0.97\n2004    0.99\n2005    0.94\n2006    1.03\n2007    1.06\n2008    1.09\n2009    1.14\n2010    1.16\n2011    1.10\n2012    1.14\n2013    1.09\n2014    1.13\n2015    1.15\n2016    1.16\n2017    1.18\n2018    1.18\n2019    1.19\n2020    1.20",
      "text/html": "<div>\n<style scoped>\n    .dataframe tbody tr th:only-of-type {\n        vertical-align: middle;\n    }\n\n    .dataframe tbody tr th {\n        vertical-align: top;\n    }\n\n    .dataframe thead th {\n        text-align: right;\n    }\n</style>\n<table border=\"1\" class=\"dataframe\">\n  <thead>\n    <tr style=\"text-align: right;\">\n      <th></th>\n      <th>prices</th>\n    </tr>\n    <tr>\n      <th>date</th>\n      <th></th>\n    </tr>\n  </thead>\n  <tbody>\n    <tr>\n      <th>2000</th>\n      <td>0.93</td>\n    </tr>\n    <tr>\n      <th>2001</th>\n      <td>0.95</td>\n    </tr>\n    <tr>\n      <th>2002</th>\n      <td>0.98</td>\n    </tr>\n    <tr>\n      <th>2003</th>\n      <td>0.97</td>\n    </tr>\n    <tr>\n      <th>2004</th>\n      <td>0.99</td>\n    </tr>\n    <tr>\n      <th>2005</th>\n      <td>0.94</td>\n    </tr>\n    <tr>\n      <th>2006</th>\n      <td>1.03</td>\n    </tr>\n    <tr>\n      <th>2007</th>\n      <td>1.06</td>\n    </tr>\n    <tr>\n      <th>2008</th>\n      <td>1.09</td>\n    </tr>\n    <tr>\n      <th>2009</th>\n      <td>1.14</td>\n    </tr>\n    <tr>\n      <th>2010</th>\n      <td>1.16</td>\n    </tr>\n    <tr>\n      <th>2011</th>\n      <td>1.10</td>\n    </tr>\n    <tr>\n      <th>2012</th>\n      <td>1.14</td>\n    </tr>\n    <tr>\n      <th>2013</th>\n      <td>1.09</td>\n    </tr>\n    <tr>\n      <th>2014</th>\n      <td>1.13</td>\n    </tr>\n    <tr>\n      <th>2015</th>\n      <td>1.15</td>\n    </tr>\n    <tr>\n      <th>2016</th>\n      <td>1.16</td>\n    </tr>\n    <tr>\n      <th>2017</th>\n      <td>1.18</td>\n    </tr>\n    <tr>\n      <th>2018</th>\n      <td>1.18</td>\n    </tr>\n    <tr>\n      <th>2019</th>\n      <td>1.19</td>\n    </tr>\n    <tr>\n      <th>2020</th>\n      <td>1.20</td>\n    </tr>\n  </tbody>\n</table>\n</div>"
     },
     "metadata": {}
    }
   ],
   "execution_count": null
  },
  {
   "cell_type": "code",
   "metadata": {
    "cell_id": "ea163621-3b65-4617-8d02-c226b1aa9ccf",
    "tags": [],
    "deepnote_to_be_reexecuted": false,
    "source_hash": "7b3fdb48",
    "execution_start": 1647578548555,
    "execution_millis": 5,
    "deepnote_table_state": {
     "pageSize": 10,
     "pageIndex": 4,
     "filters": [],
     "sortBy": []
    },
    "deepnote_table_loading": false,
    "deepnote_cell_type": "code",
    "deepnote_cell_height": 606
   },
   "source": "#Cleaning the Cheese Price Dataset\ncheese_prices_cleaned=cheese_prices.assign(date=cheese_prices.get('DATE').apply(date_formatter))\ncheese_prices_cleaned= cheese_prices_cleaned.assign(price= cheese_prices_cleaned.get('APU0000710212').apply(lambda price: float(price) if price!='.' else 0))\ncheese_prices_cleaned=cheese_prices_cleaned[cheese_prices_cleaned.get('price')>0]\ncheese_prices_cleaned=cheese_prices_cleaned.groupby('date').mean()\ncheese_prices_cleaned",
   "outputs": [
    {
     "output_type": "execute_result",
     "execution_count": 14,
     "data": {
      "application/vnd.deepnote.dataframe.v3+json": {
       "column_count": 1,
       "row_count": 38,
       "columns": [
        {
         "name": "price",
         "dtype": "float64",
         "stats": {
          "unique_count": 38,
          "nan_count": 0,
          "min": "3.0490833333333334",
          "max": "5.625416666666666",
          "histogram": [
           {
            "bin_start": 3.0490833333333334,
            "bin_end": 3.3067166666666665,
            "count": 8
           },
           {
            "bin_start": 3.3067166666666665,
            "bin_end": 3.56435,
            "count": 5
           },
           {
            "bin_start": 3.56435,
            "bin_end": 3.8219833333333333,
            "count": 2
           },
           {
            "bin_start": 3.8219833333333333,
            "bin_end": 4.0796166666666664,
            "count": 3
           },
           {
            "bin_start": 4.0796166666666664,
            "bin_end": 4.337249999999999,
            "count": 4
           },
           {
            "bin_start": 4.337249999999999,
            "bin_end": 4.594883333333333,
            "count": 1
           },
           {
            "bin_start": 4.594883333333333,
            "bin_end": 4.852516666666666,
            "count": 3
           },
           {
            "bin_start": 4.852516666666666,
            "bin_end": 5.110149999999999,
            "count": 1
           },
           {
            "bin_start": 5.110149999999999,
            "bin_end": 5.367783333333333,
            "count": 3
           },
           {
            "bin_start": 5.367783333333333,
            "bin_end": 5.625416666666666,
            "count": 8
           }
          ]
         }
        },
        {
         "name": "_deepnote_index_column",
         "dtype": "int64"
        }
       ],
       "rows": [
        {
         "price": 5.379166666666666,
         "_deepnote_index_column": 2015
        },
        {
         "price": 5.23475,
         "_deepnote_index_column": 2016
        },
        {
         "price": 4.895416666666667,
         "_deepnote_index_column": 2017
        },
        {
         "price": 5.135000000000001,
         "_deepnote_index_column": 2018
        },
        {
         "price": 5.3077499999999995,
         "_deepnote_index_column": 2019
        },
        {
         "price": 5.496333333333333,
         "_deepnote_index_column": 2020
        },
        {
         "price": 5.44,
         "_deepnote_index_column": 2021
        },
        {
         "price": 5.381,
         "_deepnote_index_column": 2022
        }
       ]
      },
      "text/plain": "         price\ndate          \n1984  3.065250\n1985  3.093500\n1986  3.049083\n1987  3.055583\n1988  3.164917\n1989  3.203556\n1991  3.551250\n1992  3.569750\n1993  3.342167\n1994  3.350667\n1995  3.388583\n1996  3.248083\n1997  3.219667\n1998  3.547500\n1999  3.769750\n2000  3.829917\n2001  4.026917\n2002  4.218083\n2003  3.948417\n2004  4.272917\n2005  4.381500\n2006  4.254833\n2007  4.229917\n2008  4.725333\n2009  4.668750\n2010  4.709750\n2011  5.418750\n2012  5.625417\n2013  5.557500\n2014  5.542667\n2015  5.379167\n2016  5.234750\n2017  4.895417\n2018  5.135000\n2019  5.307750\n2020  5.496333\n2021  5.440000\n2022  5.381000",
      "text/html": "<div>\n<style scoped>\n    .dataframe tbody tr th:only-of-type {\n        vertical-align: middle;\n    }\n\n    .dataframe tbody tr th {\n        vertical-align: top;\n    }\n\n    .dataframe thead th {\n        text-align: right;\n    }\n</style>\n<table border=\"1\" class=\"dataframe\">\n  <thead>\n    <tr style=\"text-align: right;\">\n      <th></th>\n      <th>price</th>\n    </tr>\n    <tr>\n      <th>date</th>\n      <th></th>\n    </tr>\n  </thead>\n  <tbody>\n    <tr>\n      <th>1984</th>\n      <td>3.065250</td>\n    </tr>\n    <tr>\n      <th>1985</th>\n      <td>3.093500</td>\n    </tr>\n    <tr>\n      <th>1986</th>\n      <td>3.049083</td>\n    </tr>\n    <tr>\n      <th>1987</th>\n      <td>3.055583</td>\n    </tr>\n    <tr>\n      <th>1988</th>\n      <td>3.164917</td>\n    </tr>\n    <tr>\n      <th>1989</th>\n      <td>3.203556</td>\n    </tr>\n    <tr>\n      <th>1991</th>\n      <td>3.551250</td>\n    </tr>\n    <tr>\n      <th>1992</th>\n      <td>3.569750</td>\n    </tr>\n    <tr>\n      <th>1993</th>\n      <td>3.342167</td>\n    </tr>\n    <tr>\n      <th>1994</th>\n      <td>3.350667</td>\n    </tr>\n    <tr>\n      <th>1995</th>\n      <td>3.388583</td>\n    </tr>\n    <tr>\n      <th>1996</th>\n      <td>3.248083</td>\n    </tr>\n    <tr>\n      <th>1997</th>\n      <td>3.219667</td>\n    </tr>\n    <tr>\n      <th>1998</th>\n      <td>3.547500</td>\n    </tr>\n    <tr>\n      <th>1999</th>\n      <td>3.769750</td>\n    </tr>\n    <tr>\n      <th>2000</th>\n      <td>3.829917</td>\n    </tr>\n    <tr>\n      <th>2001</th>\n      <td>4.026917</td>\n    </tr>\n    <tr>\n      <th>2002</th>\n      <td>4.218083</td>\n    </tr>\n    <tr>\n      <th>2003</th>\n      <td>3.948417</td>\n    </tr>\n    <tr>\n      <th>2004</th>\n      <td>4.272917</td>\n    </tr>\n    <tr>\n      <th>2005</th>\n      <td>4.381500</td>\n    </tr>\n    <tr>\n      <th>2006</th>\n      <td>4.254833</td>\n    </tr>\n    <tr>\n      <th>2007</th>\n      <td>4.229917</td>\n    </tr>\n    <tr>\n      <th>2008</th>\n      <td>4.725333</td>\n    </tr>\n    <tr>\n      <th>2009</th>\n      <td>4.668750</td>\n    </tr>\n    <tr>\n      <th>2010</th>\n      <td>4.709750</td>\n    </tr>\n    <tr>\n      <th>2011</th>\n      <td>5.418750</td>\n    </tr>\n    <tr>\n      <th>2012</th>\n      <td>5.625417</td>\n    </tr>\n    <tr>\n      <th>2013</th>\n      <td>5.557500</td>\n    </tr>\n    <tr>\n      <th>2014</th>\n      <td>5.542667</td>\n    </tr>\n    <tr>\n      <th>2015</th>\n      <td>5.379167</td>\n    </tr>\n    <tr>\n      <th>2016</th>\n      <td>5.234750</td>\n    </tr>\n    <tr>\n      <th>2017</th>\n      <td>4.895417</td>\n    </tr>\n    <tr>\n      <th>2018</th>\n      <td>5.135000</td>\n    </tr>\n    <tr>\n      <th>2019</th>\n      <td>5.307750</td>\n    </tr>\n    <tr>\n      <th>2020</th>\n      <td>5.496333</td>\n    </tr>\n    <tr>\n      <th>2021</th>\n      <td>5.440000</td>\n    </tr>\n    <tr>\n      <th>2022</th>\n      <td>5.381000</td>\n    </tr>\n  </tbody>\n</table>\n</div>"
     },
     "metadata": {}
    }
   ],
   "execution_count": null
  },
  {
   "cell_type": "code",
   "metadata": {
    "cell_id": "1fb7a322-10c4-4185-b68f-c767d76d7751",
    "tags": [],
    "deepnote_to_be_reexecuted": false,
    "source_hash": "96ce3d0c",
    "execution_start": 1647578548599,
    "execution_millis": 3,
    "deepnote_cell_type": "code",
    "deepnote_cell_height": 688
   },
   "source": "#Cleaning the Inflation Dataset\ninflation_cleaned= inflation.assign(date=inflation.get('DATE').apply(date_formatter))\ninflation_cleaned= inflation_cleaned.assign(rate= inflation_cleaned.get('FPCPITOTLZGUSA').apply(lambda price: float(price) if price!='.' else 0))\ninflation_cleaned= inflation_cleaned.groupby('date').mean()\ninflation_cleaned= inflation_cleaned.get(['rate'])/100\ninflation_cleaned",
   "outputs": [
    {
     "output_type": "execute_result",
     "execution_count": 15,
     "data": {
      "application/vnd.deepnote.dataframe.v3+json": {
       "column_count": 1,
       "row_count": 61,
       "columns": [
        {
         "name": "rate",
         "dtype": "float64",
         "stats": {
          "unique_count": 61,
          "nan_count": 0,
          "min": "-0.0035554626629975",
          "max": "0.135492019749684",
          "histogram": [
           {
            "bin_start": -0.0035554626629975,
            "bin_end": 0.01034928557827065,
            "count": 2
           },
           {
            "bin_start": 0.01034928557827065,
            "bin_end": 0.0242540338195388,
            "count": 20
           },
           {
            "bin_start": 0.0242540338195388,
            "bin_end": 0.038158782060806945,
            "count": 19
           },
           {
            "bin_start": 0.038158782060806945,
            "bin_end": 0.0520635303020751,
            "count": 7
           },
           {
            "bin_start": 0.0520635303020751,
            "bin_end": 0.06596827854334325,
            "count": 7
           },
           {
            "bin_start": 0.06596827854334325,
            "bin_end": 0.07987302678461139,
            "count": 1
           },
           {
            "bin_start": 0.07987302678461139,
            "bin_end": 0.09377777502587954,
            "count": 1
           },
           {
            "bin_start": 0.09377777502587954,
            "bin_end": 0.1076825232671477,
            "count": 1
           },
           {
            "bin_start": 0.1076825232671477,
            "bin_end": 0.12158727150841583,
            "count": 2
           },
           {
            "bin_start": 0.12158727150841583,
            "bin_end": 0.135492019749684,
            "count": 1
           }
          ]
         }
        },
        {
         "name": "_deepnote_index_column",
         "dtype": "int64"
        }
       ],
       "rows": [
        {
         "rate": 0.014579759862778601,
         "_deepnote_index_column": 1960
        },
        {
         "rate": 0.0107072414764723,
         "_deepnote_index_column": 1961
        },
        {
         "rate": 0.011987733482018502,
         "_deepnote_index_column": 1962
        },
        {
         "rate": 0.012396694214876,
         "_deepnote_index_column": 1963
        },
        {
         "rate": 0.0127891156462583,
         "_deepnote_index_column": 1964
        },
        {
         "rate": 0.0158516926383669,
         "_deepnote_index_column": 1965
        },
        {
         "rate": 0.030150753768843897,
         "_deepnote_index_column": 1966
        },
        {
         "rate": 0.0277278562259307,
         "_deepnote_index_column": 1967
        },
        {
         "rate": 0.042717961528853404,
         "_deepnote_index_column": 1968
        },
        {
         "rate": 0.054623862002875,
         "_deepnote_index_column": 1969
        }
       ]
      },
      "text/plain": "          rate\ndate          \n1960  0.014580\n1961  0.010707\n1962  0.011988\n1963  0.012397\n1964  0.012789\n...        ...\n2016  0.012616\n2017  0.021301\n2018  0.024426\n2019  0.018122\n2020  0.012336\n\n[61 rows x 1 columns]",
      "text/html": "<div>\n<style scoped>\n    .dataframe tbody tr th:only-of-type {\n        vertical-align: middle;\n    }\n\n    .dataframe tbody tr th {\n        vertical-align: top;\n    }\n\n    .dataframe thead th {\n        text-align: right;\n    }\n</style>\n<table border=\"1\" class=\"dataframe\">\n  <thead>\n    <tr style=\"text-align: right;\">\n      <th></th>\n      <th>rate</th>\n    </tr>\n    <tr>\n      <th>date</th>\n      <th></th>\n    </tr>\n  </thead>\n  <tbody>\n    <tr>\n      <th>1960</th>\n      <td>0.014580</td>\n    </tr>\n    <tr>\n      <th>1961</th>\n      <td>0.010707</td>\n    </tr>\n    <tr>\n      <th>1962</th>\n      <td>0.011988</td>\n    </tr>\n    <tr>\n      <th>1963</th>\n      <td>0.012397</td>\n    </tr>\n    <tr>\n      <th>1964</th>\n      <td>0.012789</td>\n    </tr>\n    <tr>\n      <th>...</th>\n      <td>...</td>\n    </tr>\n    <tr>\n      <th>2016</th>\n      <td>0.012616</td>\n    </tr>\n    <tr>\n      <th>2017</th>\n      <td>0.021301</td>\n    </tr>\n    <tr>\n      <th>2018</th>\n      <td>0.024426</td>\n    </tr>\n    <tr>\n      <th>2019</th>\n      <td>0.018122</td>\n    </tr>\n    <tr>\n      <th>2020</th>\n      <td>0.012336</td>\n    </tr>\n  </tbody>\n</table>\n<p>61 rows × 1 columns</p>\n</div>"
     },
     "metadata": {}
    }
   ],
   "execution_count": null
  },
  {
   "cell_type": "code",
   "metadata": {
    "cell_id": "66bc46ab-3c98-4884-9bc2-35645b3b74df",
    "tags": [],
    "deepnote_to_be_reexecuted": false,
    "source_hash": "2d4fdc44",
    "execution_start": 1647578548600,
    "execution_millis": 3,
    "deepnote_table_state": {
     "pageSize": 10,
     "pageIndex": 8,
     "filters": [],
     "sortBy": []
    },
    "deepnote_table_loading": false,
    "deepnote_cell_type": "code",
    "deepnote_cell_height": 483
   },
   "source": "#Cleaning the Minimum Wage Dataset\nmin_wage_cleaned= min_wage.assign(date=min_wage.get('DATE').apply(date_formatter))\nmin_wage_cleaned= min_wage_cleaned.assign(prices=min_wage_cleaned.get('FEDMINNFRWG').apply(lambda price: float(price) if price!='.' else 0))\nmin_wage_cleaned=min_wage_cleaned[min_wage_cleaned.get('prices')>0]\nmin_wage_cleaned=min_wage_cleaned.groupby('date').mean()\nmin_wage_cleaned",
   "outputs": [
    {
     "output_type": "execute_result",
     "execution_count": 16,
     "data": {
      "application/vnd.deepnote.dataframe.v3+json": {
       "column_count": 2,
       "row_count": 85,
       "columns": [
        {
         "name": "FEDMINNFRWG",
         "dtype": "float64",
         "stats": {
          "unique_count": 32,
          "nan_count": 0,
          "min": "0.25",
          "max": "7.25",
          "histogram": [
           {
            "bin_start": 0.25,
            "bin_end": 0.95,
            "count": 18
           },
           {
            "bin_start": 0.95,
            "bin_end": 1.65,
            "count": 18
           },
           {
            "bin_start": 1.65,
            "bin_end": 2.3499999999999996,
            "count": 4
           },
           {
            "bin_start": 2.3499999999999996,
            "bin_end": 3.05,
            "count": 2
           },
           {
            "bin_start": 3.05,
            "bin_end": 3.75,
            "count": 11
           },
           {
            "bin_start": 3.75,
            "bin_end": 4.449999999999999,
            "count": 6
           },
           {
            "bin_start": 4.449999999999999,
            "bin_end": 5.1499999999999995,
            "count": 1
           },
           {
            "bin_start": 5.1499999999999995,
            "bin_end": 5.85,
            "count": 10
           },
           {
            "bin_start": 5.85,
            "bin_end": 6.55,
            "count": 1
           },
           {
            "bin_start": 6.55,
            "bin_end": 7.25,
            "count": 14
           }
          ]
         }
        },
        {
         "name": "prices",
         "dtype": "float64",
         "stats": {
          "unique_count": 32,
          "nan_count": 0,
          "min": "0.25",
          "max": "7.25",
          "histogram": [
           {
            "bin_start": 0.25,
            "bin_end": 0.95,
            "count": 18
           },
           {
            "bin_start": 0.95,
            "bin_end": 1.65,
            "count": 18
           },
           {
            "bin_start": 1.65,
            "bin_end": 2.3499999999999996,
            "count": 4
           },
           {
            "bin_start": 2.3499999999999996,
            "bin_end": 3.05,
            "count": 2
           },
           {
            "bin_start": 3.05,
            "bin_end": 3.75,
            "count": 11
           },
           {
            "bin_start": 3.75,
            "bin_end": 4.449999999999999,
            "count": 6
           },
           {
            "bin_start": 4.449999999999999,
            "bin_end": 5.1499999999999995,
            "count": 1
           },
           {
            "bin_start": 5.1499999999999995,
            "bin_end": 5.85,
            "count": 10
           },
           {
            "bin_start": 5.85,
            "bin_end": 6.55,
            "count": 1
           },
           {
            "bin_start": 6.55,
            "bin_end": 7.25,
            "count": 14
           }
          ]
         }
        },
        {
         "name": "_deepnote_index_column",
         "dtype": "int64"
        }
       ],
       "rows": [
        {
         "FEDMINNFRWG": 7.25,
         "prices": 7.25,
         "_deepnote_index_column": 2018
        },
        {
         "FEDMINNFRWG": 7.25,
         "prices": 7.25,
         "_deepnote_index_column": 2019
        },
        {
         "FEDMINNFRWG": 7.25,
         "prices": 7.25,
         "_deepnote_index_column": 2020
        },
        {
         "FEDMINNFRWG": 7.25,
         "prices": 7.25,
         "_deepnote_index_column": 2021
        },
        {
         "FEDMINNFRWG": 7.25,
         "prices": 7.25,
         "_deepnote_index_column": 2022
        }
       ]
      },
      "text/plain": "      FEDMINNFRWG  prices\ndate                     \n1938       0.2500  0.2500\n1939       0.2625  0.2625\n1940       0.3000  0.3000\n1941       0.3000  0.3000\n1942       0.3000  0.3000\n...           ...     ...\n2018       7.2500  7.2500\n2019       7.2500  7.2500\n2020       7.2500  7.2500\n2021       7.2500  7.2500\n2022       7.2500  7.2500\n\n[85 rows x 2 columns]",
      "text/html": "<div>\n<style scoped>\n    .dataframe tbody tr th:only-of-type {\n        vertical-align: middle;\n    }\n\n    .dataframe tbody tr th {\n        vertical-align: top;\n    }\n\n    .dataframe thead th {\n        text-align: right;\n    }\n</style>\n<table border=\"1\" class=\"dataframe\">\n  <thead>\n    <tr style=\"text-align: right;\">\n      <th></th>\n      <th>FEDMINNFRWG</th>\n      <th>prices</th>\n    </tr>\n    <tr>\n      <th>date</th>\n      <th></th>\n      <th></th>\n    </tr>\n  </thead>\n  <tbody>\n    <tr>\n      <th>1938</th>\n      <td>0.2500</td>\n      <td>0.2500</td>\n    </tr>\n    <tr>\n      <th>1939</th>\n      <td>0.2625</td>\n      <td>0.2625</td>\n    </tr>\n    <tr>\n      <th>1940</th>\n      <td>0.3000</td>\n      <td>0.3000</td>\n    </tr>\n    <tr>\n      <th>1941</th>\n      <td>0.3000</td>\n      <td>0.3000</td>\n    </tr>\n    <tr>\n      <th>1942</th>\n      <td>0.3000</td>\n      <td>0.3000</td>\n    </tr>\n    <tr>\n      <th>...</th>\n      <td>...</td>\n      <td>...</td>\n    </tr>\n    <tr>\n      <th>2018</th>\n      <td>7.2500</td>\n      <td>7.2500</td>\n    </tr>\n    <tr>\n      <th>2019</th>\n      <td>7.2500</td>\n      <td>7.2500</td>\n    </tr>\n    <tr>\n      <th>2020</th>\n      <td>7.2500</td>\n      <td>7.2500</td>\n    </tr>\n    <tr>\n      <th>2021</th>\n      <td>7.2500</td>\n      <td>7.2500</td>\n    </tr>\n    <tr>\n      <th>2022</th>\n      <td>7.2500</td>\n      <td>7.2500</td>\n    </tr>\n  </tbody>\n</table>\n<p>85 rows × 2 columns</p>\n</div>"
     },
     "metadata": {}
    }
   ],
   "execution_count": null
  },
  {
   "cell_type": "code",
   "metadata": {
    "cell_id": "1d462661-2dc4-41fb-8a0b-3f446a48194a",
    "tags": [],
    "deepnote_to_be_reexecuted": false,
    "source_hash": "ba5ef6e8",
    "execution_start": 1647578548626,
    "execution_millis": 15,
    "deepnote_cell_type": "code",
    "deepnote_cell_height": 670
   },
   "source": "#Cleaning the Gross Domestic Product Dataset\ngdp_clean=gdp.assign(date=gdp.get('DATE').apply(date_formatter))\ngdp_clean=gdp_clean.groupby('date').max()\ngdp_clean=gdp_clean.assign(change_GDP=gdp_clean.get('GDP').pct_change())\ngdp_clean",
   "outputs": [
    {
     "output_type": "execute_result",
     "execution_count": 17,
     "data": {
      "application/vnd.deepnote.dataframe.v3+json": {
       "column_count": 3,
       "row_count": 75,
       "columns": [
        {
         "name": "DATE",
         "dtype": "object",
         "stats": {
          "unique_count": 75,
          "nan_count": 0,
          "categories": [
           {
            "name": "1947-10-01",
            "count": 1
           },
           {
            "name": "1948-10-01",
            "count": 1
           },
           {
            "name": "73 others",
            "count": 73
           }
          ]
         }
        },
        {
         "name": "GDP",
         "dtype": "float64",
         "stats": {
          "unique_count": 75,
          "nan_count": 0,
          "min": "259.745",
          "max": "24008.472",
          "histogram": [
           {
            "bin_start": 259.745,
            "bin_end": 2634.6177000000002,
            "count": 32
           },
           {
            "bin_start": 2634.6177000000002,
            "bin_end": 5009.490400000001,
            "count": 9
           },
           {
            "bin_start": 5009.490400000001,
            "bin_end": 7384.363100000001,
            "count": 6
           },
           {
            "bin_start": 7384.363100000001,
            "bin_end": 9759.235800000002,
            "count": 5
           },
           {
            "bin_start": 9759.235800000002,
            "bin_end": 12134.108500000002,
            "count": 5
           },
           {
            "bin_start": 12134.108500000002,
            "bin_end": 14508.981200000004,
            "count": 3
           },
           {
            "bin_start": 14508.981200000004,
            "bin_end": 16883.853900000002,
            "count": 6
           },
           {
            "bin_start": 16883.853900000002,
            "bin_end": 19258.7266,
            "count": 4
           },
           {
            "bin_start": 19258.7266,
            "bin_end": 21633.5993,
            "count": 3
           },
           {
            "bin_start": 21633.5993,
            "bin_end": 24008.472,
            "count": 2
           }
          ]
         }
        },
        {
         "name": "change_GDP",
         "dtype": "float64",
         "stats": {
          "unique_count": 74,
          "nan_count": 1,
          "min": "-0.01901799790274139",
          "max": "0.16329253837707336",
          "histogram": [
           {
            "bin_start": -0.01901799790274139,
            "bin_end": -0.000786944274759914,
            "count": 3
           },
           {
            "bin_start": -0.000786944274759914,
            "bin_end": 0.017444109353221562,
            "count": 1
           },
           {
            "bin_start": 0.017444109353221562,
            "bin_end": 0.03567516298120304,
            "count": 7
           },
           {
            "bin_start": 0.03567516298120304,
            "bin_end": 0.053906216609184515,
            "count": 20
           },
           {
            "bin_start": 0.053906216609184515,
            "bin_end": 0.07213727023716598,
            "count": 19
           },
           {
            "bin_start": 0.07213727023716598,
            "bin_end": 0.09036832386514747,
            "count": 6
           },
           {
            "bin_start": 0.09036832386514747,
            "bin_end": 0.10859937749312895,
            "count": 10
           },
           {
            "bin_start": 0.10859937749312895,
            "bin_end": 0.12683043112111042,
            "count": 6
           },
           {
            "bin_start": 0.12683043112111042,
            "bin_end": 0.1450614847490919,
            "count": 1
           },
           {
            "bin_start": 0.1450614847490919,
            "bin_end": 0.16329253837707336,
            "count": 1
           }
          ]
         }
        },
        {
         "name": "_deepnote_index_column",
         "dtype": "int64"
        }
       ],
       "rows": [
        {
         "DATE": "1947-10-01",
         "GDP": 259.745,
         "change_GDP": "nan",
         "_deepnote_index_column": 1947
        },
        {
         "DATE": "1948-10-01",
         "GDP": 280.366,
         "change_GDP": 0.07938940114342907,
         "_deepnote_index_column": 1948
        },
        {
         "DATE": "1949-10-01",
         "GDP": 275.034,
         "change_GDP": -0.01901799790274139,
         "_deepnote_index_column": 1949
        },
        {
         "DATE": "1950-10-01",
         "GDP": 319.945,
         "change_GDP": 0.16329253837707336,
         "_deepnote_index_column": 1950
        },
        {
         "DATE": "1951-10-01",
         "GDP": 356.178,
         "change_GDP": 0.11324758942943314,
         "_deepnote_index_column": 1951
        },
        {
         "DATE": "1952-10-01",
         "GDP": 380.812,
         "change_GDP": 0.06916204818938843,
         "_deepnote_index_column": 1952
        },
        {
         "DATE": "1953-10-01",
         "GDP": 391.749,
         "change_GDP": 0.028720208396794344,
         "_deepnote_index_column": 1953
        },
        {
         "DATE": "1954-10-01",
         "GDP": 399.734,
         "change_GDP": 0.02038294928640516,
         "_deepnote_index_column": 1954
        },
        {
         "DATE": "1955-10-01",
         "GDP": 437.092,
         "change_GDP": 0.09345714900408764,
         "_deepnote_index_column": 1955
        },
        {
         "DATE": "1956-10-01",
         "GDP": 460.463,
         "change_GDP": 0.05346929250592569,
         "_deepnote_index_column": 1956
        }
       ]
      },
      "text/plain": "            DATE        GDP  change_GDP\ndate                                   \n1947  1947-10-01    259.745         NaN\n1948  1948-10-01    280.366    0.079389\n1949  1949-10-01    275.034   -0.019018\n1950  1950-10-01    319.945    0.163293\n1951  1951-10-01    356.178    0.113248\n...          ...        ...         ...\n2017  2017-10-01  19882.965    0.048235\n2018  2018-10-01  20813.325    0.046792\n2019  2019-10-01  21694.458    0.042335\n2020  2020-10-01  21481.367   -0.009822\n2021  2021-10-01  24008.472    0.117642\n\n[75 rows x 3 columns]",
      "text/html": "<div>\n<style scoped>\n    .dataframe tbody tr th:only-of-type {\n        vertical-align: middle;\n    }\n\n    .dataframe tbody tr th {\n        vertical-align: top;\n    }\n\n    .dataframe thead th {\n        text-align: right;\n    }\n</style>\n<table border=\"1\" class=\"dataframe\">\n  <thead>\n    <tr style=\"text-align: right;\">\n      <th></th>\n      <th>DATE</th>\n      <th>GDP</th>\n      <th>change_GDP</th>\n    </tr>\n    <tr>\n      <th>date</th>\n      <th></th>\n      <th></th>\n      <th></th>\n    </tr>\n  </thead>\n  <tbody>\n    <tr>\n      <th>1947</th>\n      <td>1947-10-01</td>\n      <td>259.745</td>\n      <td>NaN</td>\n    </tr>\n    <tr>\n      <th>1948</th>\n      <td>1948-10-01</td>\n      <td>280.366</td>\n      <td>0.079389</td>\n    </tr>\n    <tr>\n      <th>1949</th>\n      <td>1949-10-01</td>\n      <td>275.034</td>\n      <td>-0.019018</td>\n    </tr>\n    <tr>\n      <th>1950</th>\n      <td>1950-10-01</td>\n      <td>319.945</td>\n      <td>0.163293</td>\n    </tr>\n    <tr>\n      <th>1951</th>\n      <td>1951-10-01</td>\n      <td>356.178</td>\n      <td>0.113248</td>\n    </tr>\n    <tr>\n      <th>...</th>\n      <td>...</td>\n      <td>...</td>\n      <td>...</td>\n    </tr>\n    <tr>\n      <th>2017</th>\n      <td>2017-10-01</td>\n      <td>19882.965</td>\n      <td>0.048235</td>\n    </tr>\n    <tr>\n      <th>2018</th>\n      <td>2018-10-01</td>\n      <td>20813.325</td>\n      <td>0.046792</td>\n    </tr>\n    <tr>\n      <th>2019</th>\n      <td>2019-10-01</td>\n      <td>21694.458</td>\n      <td>0.042335</td>\n    </tr>\n    <tr>\n      <th>2020</th>\n      <td>2020-10-01</td>\n      <td>21481.367</td>\n      <td>-0.009822</td>\n    </tr>\n    <tr>\n      <th>2021</th>\n      <td>2021-10-01</td>\n      <td>24008.472</td>\n      <td>0.117642</td>\n    </tr>\n  </tbody>\n</table>\n<p>75 rows × 3 columns</p>\n</div>"
     },
     "metadata": {}
    }
   ],
   "execution_count": null
  },
  {
   "cell_type": "code",
   "metadata": {
    "cell_id": "7caaef8e-e8cc-4b9f-953f-2192ff857ab6",
    "tags": [],
    "deepnote_to_be_reexecuted": false,
    "source_hash": "ab2f2895",
    "execution_start": 1647578548689,
    "execution_millis": 1,
    "deepnote_table_state": {
     "pageSize": 10,
     "pageIndex": 1,
     "filters": [],
     "sortBy": []
    },
    "deepnote_table_loading": false,
    "deepnote_table_invalid": false,
    "deepnote_cell_type": "code",
    "deepnote_cell_height": 225
   },
   "source": "#Creating a master dataset for easier data visualization\nbig_mac_cost_df= pd.DataFrame()\nbig_mac_cost_df=big_mac_cost_df.assign(bun=bread_prices_cleaned[bread_prices_cleaned.index>1999])\nbig_mac_cost_df=big_mac_cost_df.assign(beef_patty=beef_prices_cleaned[beef_prices_cleaned.index>1999])\nbig_mac_cost_df=big_mac_cost_df.assign(cheese=cheese_prices_cleaned[cheese_prices_cleaned.index>1999])\nbig_mac_cost_df=big_mac_cost_df.assign(lettuce=lettuce_prices_cleaned[lettuce_prices_cleaned.index>1999])\nbig_mac_cost_df=big_mac_cost_df.assign(onions=onion_prices_cleaned[onion_prices_cleaned.index>1999].get('prices'))\nbig_mac_cost_df=big_mac_cost_df.assign(cucumber=cucumber_prices_cleaned[cucumber_prices_cleaned.index>1999])\nbig_mac_cost_df=big_mac_cost_df.assign(actual_price=us_big_mac_prices_cleaned[us_big_mac_prices_cleaned.index>1999])",
   "outputs": [],
   "execution_count": null
  },
  {
   "cell_type": "code",
   "metadata": {
    "cell_id": "d5b5a5d3-ba7c-4d0f-bcb1-56631567d58e",
    "tags": [],
    "deepnote_to_be_reexecuted": false,
    "source_hash": "dcdebd8a",
    "execution_start": 1647578548690,
    "execution_millis": 280,
    "deepnote_cell_type": "code",
    "deepnote_cell_height": 668.796875
   },
   "source": "#Cleaning the SPY Dataset\nspy_cleaned=spy.assign(year=pd.to_datetime(spy.index).strftime('%Y'))\nspy_cleaned=spy_cleaned.assign(year=spy_cleaned.get('year').apply(lambda y:int(y)))\nspy_cleaned.reset_index()",
   "outputs": [
    {
     "output_type": "execute_result",
     "execution_count": 19,
     "data": {
      "application/vnd.deepnote.dataframe.v3+json": {
       "column_count": 8,
       "row_count": 5284,
       "columns": [
        {
         "name": "Date",
         "dtype": "datetime64[ns]",
         "stats": {
          "unique_count": 5284,
          "nan_count": 0,
          "min": "2000-01-03 00:00:00",
          "max": "2020-12-31 00:00:00",
          "histogram": [
           {
            "bin_start": 946857600000000000,
            "bin_end": 1013109120000000000,
            "count": 526
           },
           {
            "bin_start": 1013109120000000000,
            "bin_end": 1079360640000000000,
            "count": 528
           },
           {
            "bin_start": 1079360640000000000,
            "bin_end": 1145612160000000000,
            "count": 530
           },
           {
            "bin_start": 1145612160000000000,
            "bin_end": 1211863680000000000,
            "count": 527
           },
           {
            "bin_start": 1211863680000000000,
            "bin_end": 1278115200000000000,
            "count": 530
           },
           {
            "bin_start": 1278115200000000000,
            "bin_end": 1344366720000000000,
            "count": 529
           },
           {
            "bin_start": 1344366720000000000,
            "bin_end": 1410618240000000000,
            "count": 527
           },
           {
            "bin_start": 1410618240000000000,
            "bin_end": 1476869760000000000,
            "count": 530
           },
           {
            "bin_start": 1476869760000000000,
            "bin_end": 1543121280000000000,
            "count": 528
           },
           {
            "bin_start": 1543121280000000000,
            "bin_end": 1609372800000000000,
            "count": 529
           }
          ]
         }
        },
        {
         "name": "High",
         "dtype": "float64",
         "stats": {
          "unique_count": 4461,
          "nan_count": 0,
          "min": "70.0",
          "max": "378.4599914550781",
          "histogram": [
           {
            "bin_start": 70,
            "bin_end": 100.84599914550782,
            "count": 491
           },
           {
            "bin_start": 100.84599914550782,
            "bin_end": 131.69199829101564,
            "count": 1721
           },
           {
            "bin_start": 131.69199829101564,
            "bin_end": 162.53799743652343,
            "count": 1152
           },
           {
            "bin_start": 162.53799743652343,
            "bin_end": 193.38399658203124,
            "count": 299
           },
           {
            "bin_start": 193.38399658203124,
            "bin_end": 224.22999572753906,
            "count": 597
           },
           {
            "bin_start": 224.22999572753906,
            "bin_end": 255.07599487304685,
            "count": 231
           },
           {
            "bin_start": 255.07599487304685,
            "bin_end": 285.92199401855464,
            "count": 355
           },
           {
            "bin_start": 285.92199401855464,
            "bin_end": 316.7679931640625,
            "count": 258
           },
           {
            "bin_start": 316.7679931640625,
            "bin_end": 347.6139923095703,
            "count": 126
           },
           {
            "bin_start": 347.6139923095703,
            "bin_end": 378.4599914550781,
            "count": 54
           }
          ]
         }
        },
        {
         "name": "Low",
         "dtype": "float64",
         "stats": {
          "unique_count": 4445,
          "nan_count": 0,
          "min": "67.0999984741211",
          "max": "371.57000732421875",
          "histogram": [
           {
            "bin_start": 67.0999984741211,
            "bin_end": 97.54699935913087,
            "count": 448
           },
           {
            "bin_start": 97.54699935913087,
            "bin_end": 127.99400024414062,
            "count": 1641
           },
           {
            "bin_start": 127.99400024414062,
            "bin_end": 158.44100112915038,
            "count": 1264
           },
           {
            "bin_start": 158.44100112915038,
            "bin_end": 188.88800201416015,
            "count": 295
           },
           {
            "bin_start": 188.88800201416015,
            "bin_end": 219.33500289916992,
            "count": 605
           },
           {
            "bin_start": 219.33500289916992,
            "bin_end": 249.78200378417966,
            "count": 237
           },
           {
            "bin_start": 249.78200378417966,
            "bin_end": 280.2290046691894,
            "count": 325
           },
           {
            "bin_start": 280.2290046691894,
            "bin_end": 310.6760055541992,
            "count": 274
           },
           {
            "bin_start": 310.6760055541992,
            "bin_end": 341.12300643920895,
            "count": 138
           },
           {
            "bin_start": 341.12300643920895,
            "bin_end": 371.57000732421875,
            "count": 57
           }
          ]
         }
        },
        {
         "name": "Open",
         "dtype": "float64",
         "stats": {
          "unique_count": 4485,
          "nan_count": 0,
          "min": "67.94999694824219",
          "max": "373.80999755859375",
          "histogram": [
           {
            "bin_start": 67.94999694824219,
            "bin_end": 98.53599700927734,
            "count": 448
           },
           {
            "bin_start": 98.53599700927734,
            "bin_end": 129.1219970703125,
            "count": 1667
           },
           {
            "bin_start": 129.1219970703125,
            "bin_end": 159.70799713134767,
            "count": 1241
           },
           {
            "bin_start": 159.70799713134767,
            "bin_end": 190.29399719238282,
            "count": 289
           },
           {
            "bin_start": 190.29399719238282,
            "bin_end": 220.87999725341797,
            "count": 611
           },
           {
            "bin_start": 220.87999725341797,
            "bin_end": 251.46599731445315,
            "count": 231
           },
           {
            "bin_start": 251.46599731445315,
            "bin_end": 282.0519973754883,
            "count": 332
           },
           {
            "bin_start": 282.0519973754883,
            "bin_end": 312.63799743652345,
            "count": 270
           },
           {
            "bin_start": 312.63799743652345,
            "bin_end": 343.2239974975586,
            "count": 137
           },
           {
            "bin_start": 343.2239974975586,
            "bin_end": 373.80999755859375,
            "count": 58
           }
          ]
         }
        },
        {
         "name": "Close",
         "dtype": "float64",
         "stats": {
          "unique_count": 4483,
          "nan_count": 0,
          "min": "68.11000061035156",
          "max": "373.8800048828125",
          "histogram": [
           {
            "bin_start": 68.11000061035156,
            "bin_end": 98.68700103759765,
            "count": 453
           },
           {
            "bin_start": 98.68700103759765,
            "bin_end": 129.26400146484374,
            "count": 1662
           },
           {
            "bin_start": 129.26400146484374,
            "bin_end": 159.84100189208985,
            "count": 1242
           },
           {
            "bin_start": 159.84100189208985,
            "bin_end": 190.41800231933593,
            "count": 290
           },
           {
            "bin_start": 190.41800231933593,
            "bin_end": 220.99500274658203,
            "count": 610
           },
           {
            "bin_start": 220.99500274658203,
            "bin_end": 251.57200317382814,
            "count": 228
           },
           {
            "bin_start": 251.57200317382814,
            "bin_end": 282.14900360107424,
            "count": 336
           },
           {
            "bin_start": 282.14900360107424,
            "bin_end": 312.7260040283203,
            "count": 274
           },
           {
            "bin_start": 312.7260040283203,
            "bin_end": 343.3030044555664,
            "count": 131
           },
           {
            "bin_start": 343.3030044555664,
            "bin_end": 373.8800048828125,
            "count": 58
           }
          ]
         }
        },
        {
         "name": "Volume",
         "dtype": "float64",
         "stats": {
          "unique_count": 5280,
          "nan_count": 0,
          "min": "1436600.0",
          "max": "871026300.0",
          "histogram": [
           {
            "bin_start": 1436600,
            "bin_end": 88395570,
            "count": 2813
           },
           {
            "bin_start": 88395570,
            "bin_end": 175354540,
            "count": 1485
           },
           {
            "bin_start": 175354540,
            "bin_end": 262313510,
            "count": 601
           },
           {
            "bin_start": 262313510,
            "bin_end": 349272480,
            "count": 219
           },
           {
            "bin_start": 349272480,
            "bin_end": 436231450,
            "count": 92
           },
           {
            "bin_start": 436231450,
            "bin_end": 523190420,
            "count": 43
           },
           {
            "bin_start": 523190420,
            "bin_end": 610149390,
            "count": 14
           },
           {
            "bin_start": 610149390,
            "bin_end": 697108360,
            "count": 8
           },
           {
            "bin_start": 697108360,
            "bin_end": 784067330,
            "count": 7
           },
           {
            "bin_start": 784067330,
            "bin_end": 871026300,
            "count": 2
           }
          ]
         }
        },
        {
         "name": "Adj Close",
         "dtype": "float64",
         "stats": {
          "unique_count": 5126,
          "nan_count": 0,
          "min": "52.8000373840332",
          "max": "368.9617919921875",
          "histogram": [
           {
            "bin_start": 52.8000373840332,
            "bin_end": 84.41621284484863,
            "count": 1208
           },
           {
            "bin_start": 84.41621284484863,
            "bin_end": 116.03238830566406,
            "count": 1936
           },
           {
            "bin_start": 116.03238830566406,
            "bin_end": 147.6485637664795,
            "count": 325
           },
           {
            "bin_start": 147.6485637664795,
            "bin_end": 179.2647392272949,
            "count": 377
           },
           {
            "bin_start": 179.2647392272949,
            "bin_end": 210.88091468811035,
            "count": 457
           },
           {
            "bin_start": 210.88091468811035,
            "bin_end": 242.4970901489258,
            "count": 229
           },
           {
            "bin_start": 242.4970901489258,
            "bin_end": 274.11326560974123,
            "count": 352
           },
           {
            "bin_start": 274.11326560974123,
            "bin_end": 305.7294410705566,
            "count": 222
           },
           {
            "bin_start": 305.7294410705566,
            "bin_end": 337.34561653137206,
            "count": 121
           },
           {
            "bin_start": 337.34561653137206,
            "bin_end": 368.9617919921875,
            "count": 57
           }
          ]
         }
        },
        {
         "name": "year",
         "dtype": "int64",
         "stats": {
          "unique_count": 21,
          "nan_count": 0,
          "min": "2000",
          "max": "2020",
          "histogram": [
           {
            "bin_start": 2000,
            "bin_end": 2002,
            "count": 500
           },
           {
            "bin_start": 2002,
            "bin_end": 2004,
            "count": 504
           },
           {
            "bin_start": 2004,
            "bin_end": 2006,
            "count": 504
           },
           {
            "bin_start": 2006,
            "bin_end": 2008,
            "count": 502
           },
           {
            "bin_start": 2008,
            "bin_end": 2010,
            "count": 505
           },
           {
            "bin_start": 2010,
            "bin_end": 2012,
            "count": 504
           },
           {
            "bin_start": 2012,
            "bin_end": 2014,
            "count": 502
           },
           {
            "bin_start": 2014,
            "bin_end": 2016,
            "count": 504
           },
           {
            "bin_start": 2016,
            "bin_end": 2018,
            "count": 503
           },
           {
            "bin_start": 2018,
            "bin_end": 2020,
            "count": 756
           }
          ]
         }
        },
        {
         "name": "_deepnote_index_column",
         "dtype": "int64"
        }
       ],
       "rows": [
        {
         "Date": "2000-01-18T00:00:00.000000",
         "High": 146.625,
         "Low": 145.1875,
         "Open": 145.34375,
         "Close": 145.8125,
         "Volume": 6488500,
         "Adj Close": 97.10477447509766,
         "year": 2000,
         "_deepnote_index_column": 10
        },
        {
         "Date": "2000-01-19T00:00:00.000000",
         "High": 147,
         "Low": 145,
         "Open": 145.3125,
         "Close": 147,
         "Volume": 6157900,
         "Adj Close": 97.8956069946289,
         "year": 2000,
         "_deepnote_index_column": 11
        },
        {
         "Date": "2000-01-20T00:00:00.000000",
         "High": 146.96875,
         "Low": 143.8125,
         "Open": 146.96875,
         "Close": 144.75,
         "Volume": 5800100,
         "Adj Close": 96.39720916748047,
         "year": 2000,
         "_deepnote_index_column": 12
        },
        {
         "Date": "2000-01-21T00:00:00.000000",
         "High": 145.5,
         "Low": 144.0625,
         "Open": 145.5,
         "Close": 144.4375,
         "Volume": 6244800,
         "Adj Close": 96.18907928466797,
         "year": 2000,
         "_deepnote_index_column": 13
        },
        {
         "Date": "2000-01-24T00:00:00.000000",
         "High": 145.84375,
         "Low": 139.40625,
         "Open": 145.65625,
         "Close": 140.34375,
         "Volume": 7896900,
         "Adj Close": 93.46280670166016,
         "year": 2000,
         "_deepnote_index_column": 14
        },
        {
         "Date": "2000-01-25T00:00:00.000000",
         "High": 141.9375,
         "Low": 139,
         "Open": 140.515625,
         "Close": 141.9375,
         "Volume": 9942500,
         "Adj Close": 94.52417755126953,
         "year": 2000,
         "_deepnote_index_column": 15
        },
        {
         "Date": "2000-01-26T00:00:00.000000",
         "High": 141.546875,
         "Low": 140.09375,
         "Open": 141,
         "Close": 140.8125,
         "Volume": 5158100,
         "Adj Close": 93.77494812011719,
         "year": 2000,
         "_deepnote_index_column": 16
        },
        {
         "Date": "2000-01-27T00:00:00.000000",
         "High": 142.21875,
         "Low": 138.125,
         "Open": 141.84375,
         "Close": 140.25,
         "Volume": 10922700,
         "Adj Close": 93.40040588378906,
         "year": 2000,
         "_deepnote_index_column": 17
        },
        {
         "Date": "2000-01-28T00:00:00.000000",
         "High": 140.0625,
         "Low": 135.53125,
         "Open": 139.4375,
         "Close": 135.875,
         "Volume": 11916200,
         "Adj Close": 90.48680114746094,
         "year": 2000,
         "_deepnote_index_column": 18
        },
        {
         "Date": "2000-01-31T00:00:00.000000",
         "High": 139.671875,
         "Low": 135,
         "Open": 135.8125,
         "Close": 139.5625,
         "Volume": 10768700,
         "Adj Close": 92.94255065917969,
         "year": 2000,
         "_deepnote_index_column": 19
        }
       ]
      },
      "text/plain": "           Date        High         Low        Open       Close      Volume  \\\n0    2000-01-03  148.250000  143.875000  148.250000  145.437500   8164300.0   \n1    2000-01-04  144.062500  139.640625  143.531250  139.750000   8089800.0   \n2    2000-01-05  141.531250  137.250000  139.937500  140.000000  12177900.0   \n3    2000-01-06  141.500000  137.750000  139.625000  137.750000   6227200.0   \n4    2000-01-07  145.750000  140.062500  140.312500  145.750000   8066500.0   \n...         ...         ...         ...         ...         ...         ...   \n5279 2020-12-24  369.029999  367.450012  368.079987  369.000000  26457900.0   \n5280 2020-12-28  372.589996  371.070007  371.739990  372.170013  39000400.0   \n5281 2020-12-29  374.000000  370.829987  373.809998  371.459991  53680500.0   \n5282 2020-12-30  373.100006  371.570007  372.339996  371.989990  49455300.0   \n5283 2020-12-31  374.660004  371.230011  371.779999  373.880005  78520700.0   \n\n       Adj Close  year  \n0      96.855003  2000  \n1      93.067383  2000  \n2      93.233902  2000  \n3      91.735535  2000  \n4      97.063148  2000  \n...          ...   ...  \n5279  364.146027  2020  \n5280  367.274292  2020  \n5281  366.573639  2020  \n5282  367.096649  2020  \n5283  368.961792  2020  \n\n[5284 rows x 8 columns]",
      "text/html": "<div>\n<style scoped>\n    .dataframe tbody tr th:only-of-type {\n        vertical-align: middle;\n    }\n\n    .dataframe tbody tr th {\n        vertical-align: top;\n    }\n\n    .dataframe thead th {\n        text-align: right;\n    }\n</style>\n<table border=\"1\" class=\"dataframe\">\n  <thead>\n    <tr style=\"text-align: right;\">\n      <th></th>\n      <th>Date</th>\n      <th>High</th>\n      <th>Low</th>\n      <th>Open</th>\n      <th>Close</th>\n      <th>Volume</th>\n      <th>Adj Close</th>\n      <th>year</th>\n    </tr>\n  </thead>\n  <tbody>\n    <tr>\n      <th>0</th>\n      <td>2000-01-03</td>\n      <td>148.250000</td>\n      <td>143.875000</td>\n      <td>148.250000</td>\n      <td>145.437500</td>\n      <td>8164300.0</td>\n      <td>96.855003</td>\n      <td>2000</td>\n    </tr>\n    <tr>\n      <th>1</th>\n      <td>2000-01-04</td>\n      <td>144.062500</td>\n      <td>139.640625</td>\n      <td>143.531250</td>\n      <td>139.750000</td>\n      <td>8089800.0</td>\n      <td>93.067383</td>\n      <td>2000</td>\n    </tr>\n    <tr>\n      <th>2</th>\n      <td>2000-01-05</td>\n      <td>141.531250</td>\n      <td>137.250000</td>\n      <td>139.937500</td>\n      <td>140.000000</td>\n      <td>12177900.0</td>\n      <td>93.233902</td>\n      <td>2000</td>\n    </tr>\n    <tr>\n      <th>3</th>\n      <td>2000-01-06</td>\n      <td>141.500000</td>\n      <td>137.750000</td>\n      <td>139.625000</td>\n      <td>137.750000</td>\n      <td>6227200.0</td>\n      <td>91.735535</td>\n      <td>2000</td>\n    </tr>\n    <tr>\n      <th>4</th>\n      <td>2000-01-07</td>\n      <td>145.750000</td>\n      <td>140.062500</td>\n      <td>140.312500</td>\n      <td>145.750000</td>\n      <td>8066500.0</td>\n      <td>97.063148</td>\n      <td>2000</td>\n    </tr>\n    <tr>\n      <th>...</th>\n      <td>...</td>\n      <td>...</td>\n      <td>...</td>\n      <td>...</td>\n      <td>...</td>\n      <td>...</td>\n      <td>...</td>\n      <td>...</td>\n    </tr>\n    <tr>\n      <th>5279</th>\n      <td>2020-12-24</td>\n      <td>369.029999</td>\n      <td>367.450012</td>\n      <td>368.079987</td>\n      <td>369.000000</td>\n      <td>26457900.0</td>\n      <td>364.146027</td>\n      <td>2020</td>\n    </tr>\n    <tr>\n      <th>5280</th>\n      <td>2020-12-28</td>\n      <td>372.589996</td>\n      <td>371.070007</td>\n      <td>371.739990</td>\n      <td>372.170013</td>\n      <td>39000400.0</td>\n      <td>367.274292</td>\n      <td>2020</td>\n    </tr>\n    <tr>\n      <th>5281</th>\n      <td>2020-12-29</td>\n      <td>374.000000</td>\n      <td>370.829987</td>\n      <td>373.809998</td>\n      <td>371.459991</td>\n      <td>53680500.0</td>\n      <td>366.573639</td>\n      <td>2020</td>\n    </tr>\n    <tr>\n      <th>5282</th>\n      <td>2020-12-30</td>\n      <td>373.100006</td>\n      <td>371.570007</td>\n      <td>372.339996</td>\n      <td>371.989990</td>\n      <td>49455300.0</td>\n      <td>367.096649</td>\n      <td>2020</td>\n    </tr>\n    <tr>\n      <th>5283</th>\n      <td>2020-12-31</td>\n      <td>374.660004</td>\n      <td>371.230011</td>\n      <td>371.779999</td>\n      <td>373.880005</td>\n      <td>78520700.0</td>\n      <td>368.961792</td>\n      <td>2020</td>\n    </tr>\n  </tbody>\n</table>\n<p>5284 rows × 8 columns</p>\n</div>"
     },
     "metadata": {}
    }
   ],
   "execution_count": null
  },
  {
   "cell_type": "code",
   "metadata": {
    "cell_id": "1b51ffd8-3b36-4302-847b-3ae5e3e4d57a",
    "tags": [],
    "deepnote_to_be_reexecuted": false,
    "source_hash": "4eb1c979",
    "execution_start": 1647578548948,
    "execution_millis": 32,
    "deepnote_cell_type": "code",
    "deepnote_cell_height": 668.796875
   },
   "source": "#Cleaning the McDonald's stock dataset\nmcd_cleaned=mcd.assign(year=pd.to_datetime(spy.index).strftime('%Y'))\nmcd_cleaned=mcd_cleaned.assign(year=mcd_cleaned.get('year').apply(lambda y:int(y)))\nmcd_cleaned.reset_index()",
   "outputs": [
    {
     "output_type": "execute_result",
     "execution_count": 20,
     "data": {
      "application/vnd.deepnote.dataframe.v3+json": {
       "column_count": 8,
       "row_count": 5284,
       "columns": [
        {
         "name": "Date",
         "dtype": "datetime64[ns]",
         "stats": {
          "unique_count": 5284,
          "nan_count": 0,
          "min": "2000-01-03 00:00:00",
          "max": "2020-12-31 00:00:00",
          "histogram": [
           {
            "bin_start": 946857600000000000,
            "bin_end": 1013109120000000000,
            "count": 526
           },
           {
            "bin_start": 1013109120000000000,
            "bin_end": 1079360640000000000,
            "count": 528
           },
           {
            "bin_start": 1079360640000000000,
            "bin_end": 1145612160000000000,
            "count": 530
           },
           {
            "bin_start": 1145612160000000000,
            "bin_end": 1211863680000000000,
            "count": 527
           },
           {
            "bin_start": 1211863680000000000,
            "bin_end": 1278115200000000000,
            "count": 530
           },
           {
            "bin_start": 1278115200000000000,
            "bin_end": 1344366720000000000,
            "count": 529
           },
           {
            "bin_start": 1344366720000000000,
            "bin_end": 1410618240000000000,
            "count": 527
           },
           {
            "bin_start": 1410618240000000000,
            "bin_end": 1476869760000000000,
            "count": 530
           },
           {
            "bin_start": 1476869760000000000,
            "bin_end": 1543121280000000000,
            "count": 528
           },
           {
            "bin_start": 1543121280000000000,
            "bin_end": 1609372800000000000,
            "count": 529
           }
          ]
         }
        },
        {
         "name": "High",
         "dtype": "float64",
         "stats": {
          "unique_count": 4004,
          "nan_count": 0,
          "min": "12.550000190734863",
          "max": "231.91000366210938",
          "histogram": [
           {
            "bin_start": 12.550000190734863,
            "bin_end": 34.486000537872314,
            "count": 1442
           },
           {
            "bin_start": 34.486000537872314,
            "bin_end": 56.422000885009766,
            "count": 661
           },
           {
            "bin_start": 56.422000885009766,
            "bin_end": 78.35800123214722,
            "count": 709
           },
           {
            "bin_start": 78.35800123214722,
            "bin_end": 100.29400157928467,
            "count": 1001
           },
           {
            "bin_start": 100.29400157928467,
            "bin_end": 122.23000192642212,
            "count": 377
           },
           {
            "bin_start": 122.23000192642212,
            "bin_end": 144.16600227355957,
            "count": 174
           },
           {
            "bin_start": 144.16600227355957,
            "bin_end": 166.10200262069702,
            "count": 279
           },
           {
            "bin_start": 166.10200262069702,
            "bin_end": 188.03800296783447,
            "count": 245
           },
           {
            "bin_start": 188.03800296783447,
            "bin_end": 209.97400331497192,
            "count": 205
           },
           {
            "bin_start": 209.97400331497192,
            "bin_end": 231.91000366210938,
            "count": 191
           }
          ]
         }
        },
        {
         "name": "Low",
         "dtype": "float64",
         "stats": {
          "unique_count": 4006,
          "nan_count": 0,
          "min": "12.119999885559082",
          "max": "229.14999389648438",
          "histogram": [
           {
            "bin_start": 12.119999885559082,
            "bin_end": 33.82299928665161,
            "count": 1450
           },
           {
            "bin_start": 33.82299928665161,
            "bin_end": 55.52599868774414,
            "count": 668
           },
           {
            "bin_start": 55.52599868774414,
            "bin_end": 77.22899808883668,
            "count": 697
           },
           {
            "bin_start": 77.22899808883668,
            "bin_end": 98.9319974899292,
            "count": 982
           },
           {
            "bin_start": 98.9319974899292,
            "bin_end": 120.63499689102173,
            "count": 390
           },
           {
            "bin_start": 120.63499689102173,
            "bin_end": 142.33799629211427,
            "count": 179
           },
           {
            "bin_start": 142.33799629211427,
            "bin_end": 164.04099569320678,
            "count": 280
           },
           {
            "bin_start": 164.04099569320678,
            "bin_end": 185.74399509429932,
            "count": 257
           },
           {
            "bin_start": 185.74399509429932,
            "bin_end": 207.44699449539186,
            "count": 196
           },
           {
            "bin_start": 207.44699449539186,
            "bin_end": 229.14999389648438,
            "count": 185
           }
          ]
         }
        },
        {
         "name": "Open",
         "dtype": "float64",
         "stats": {
          "unique_count": 3977,
          "nan_count": 0,
          "min": "12.420000076293945",
          "max": "230.41000366210938",
          "histogram": [
           {
            "bin_start": 12.420000076293945,
            "bin_end": 34.21900043487549,
            "count": 1456
           },
           {
            "bin_start": 34.21900043487549,
            "bin_end": 56.018000793457034,
            "count": 661
           },
           {
            "bin_start": 56.018000793457034,
            "bin_end": 77.81700115203859,
            "count": 699
           },
           {
            "bin_start": 77.81700115203859,
            "bin_end": 99.61600151062012,
            "count": 991
           },
           {
            "bin_start": 99.61600151062012,
            "bin_end": 121.41500186920166,
            "count": 377
           },
           {
            "bin_start": 121.41500186920166,
            "bin_end": 143.21400222778323,
            "count": 181
           },
           {
            "bin_start": 143.21400222778323,
            "bin_end": 165.01300258636476,
            "count": 283
           },
           {
            "bin_start": 165.01300258636476,
            "bin_end": 186.8120029449463,
            "count": 247
           },
           {
            "bin_start": 186.8120029449463,
            "bin_end": 208.61100330352784,
            "count": 201
           },
           {
            "bin_start": 208.61100330352784,
            "bin_end": 230.41000366210938,
            "count": 188
           }
          ]
         }
        },
        {
         "name": "Close",
         "dtype": "float64",
         "stats": {
          "unique_count": 4060,
          "nan_count": 0,
          "min": "12.380000114440918",
          "max": "229.63999938964844",
          "histogram": [
           {
            "bin_start": 12.380000114440918,
            "bin_end": 34.10600004196167,
            "count": 1443
           },
           {
            "bin_start": 34.10600004196167,
            "bin_end": 55.831999969482425,
            "count": 655
           },
           {
            "bin_start": 55.831999969482425,
            "bin_end": 77.55799989700319,
            "count": 714
           },
           {
            "bin_start": 77.55799989700319,
            "bin_end": 99.28399982452393,
            "count": 969
           },
           {
            "bin_start": 99.28399982452393,
            "bin_end": 121.00999975204468,
            "count": 397
           },
           {
            "bin_start": 121.00999975204468,
            "bin_end": 142.73599967956545,
            "count": 185
           },
           {
            "bin_start": 142.73599967956545,
            "bin_end": 164.4619996070862,
            "count": 269
           },
           {
            "bin_start": 164.4619996070862,
            "bin_end": 186.18799953460694,
            "count": 256
           },
           {
            "bin_start": 186.18799953460694,
            "bin_end": 207.9139994621277,
            "count": 197
           },
           {
            "bin_start": 207.9139994621277,
            "bin_end": 229.63999938964844,
            "count": 199
           }
          ]
         }
        },
        {
         "name": "Volume",
         "dtype": "float64",
         "stats": {
          "unique_count": 5106,
          "nan_count": 0,
          "min": "963200.0",
          "max": "86981300.0",
          "histogram": [
           {
            "bin_start": 963200,
            "bin_end": 9565010,
            "count": 4693
           },
           {
            "bin_start": 9565010,
            "bin_end": 18166820,
            "count": 549
           },
           {
            "bin_start": 18166820,
            "bin_end": 26768630,
            "count": 31
           },
           {
            "bin_start": 26768630,
            "bin_end": 35370440,
            "count": 6
           },
           {
            "bin_start": 35370440,
            "bin_end": 43972250,
            "count": 2
           },
           {
            "bin_start": 43972250,
            "bin_end": 52574060,
            "count": 1
           },
           {
            "bin_start": 52574060,
            "bin_end": 61175870,
            "count": 1
           },
           {
            "bin_start": 61175870,
            "bin_end": 69777680,
            "count": 0
           },
           {
            "bin_start": 69777680,
            "bin_end": 78379490,
            "count": 0
           },
           {
            "bin_start": 78379490,
            "bin_end": 86981300,
            "count": 1
           }
          ]
         }
        },
        {
         "name": "Adj Close",
         "dtype": "float64",
         "stats": {
          "unique_count": 4771,
          "nan_count": 0,
          "min": "7.373682975769043",
          "max": "221.93878173828125",
          "histogram": [
           {
            "bin_start": 7.373682975769043,
            "bin_end": 28.830192852020264,
            "count": 1801
           },
           {
            "bin_start": 28.830192852020264,
            "bin_end": 50.286702728271486,
            "count": 845
           },
           {
            "bin_start": 50.286702728271486,
            "bin_end": 71.74321260452271,
            "count": 528
           },
           {
            "bin_start": 71.74321260452271,
            "bin_end": 93.19972248077393,
            "count": 802
           },
           {
            "bin_start": 93.19972248077393,
            "bin_end": 114.65623235702515,
            "count": 358
           },
           {
            "bin_start": 114.65623235702515,
            "bin_end": 136.11274223327638,
            "count": 60
           },
           {
            "bin_start": 136.11274223327638,
            "bin_end": 157.56925210952758,
            "count": 341
           },
           {
            "bin_start": 157.56925210952758,
            "bin_end": 179.02576198577881,
            "count": 184
           },
           {
            "bin_start": 179.02576198577881,
            "bin_end": 200.48227186203005,
            "count": 211
           },
           {
            "bin_start": 200.48227186203005,
            "bin_end": 221.93878173828125,
            "count": 154
           }
          ]
         }
        },
        {
         "name": "year",
         "dtype": "int64",
         "stats": {
          "unique_count": 21,
          "nan_count": 0,
          "min": "2000",
          "max": "2020",
          "histogram": [
           {
            "bin_start": 2000,
            "bin_end": 2002,
            "count": 500
           },
           {
            "bin_start": 2002,
            "bin_end": 2004,
            "count": 504
           },
           {
            "bin_start": 2004,
            "bin_end": 2006,
            "count": 504
           },
           {
            "bin_start": 2006,
            "bin_end": 2008,
            "count": 502
           },
           {
            "bin_start": 2008,
            "bin_end": 2010,
            "count": 505
           },
           {
            "bin_start": 2010,
            "bin_end": 2012,
            "count": 504
           },
           {
            "bin_start": 2012,
            "bin_end": 2014,
            "count": 502
           },
           {
            "bin_start": 2014,
            "bin_end": 2016,
            "count": 504
           },
           {
            "bin_start": 2016,
            "bin_end": 2018,
            "count": 503
           },
           {
            "bin_start": 2018,
            "bin_end": 2020,
            "count": 756
           }
          ]
         }
        },
        {
         "name": "_deepnote_index_column",
         "dtype": "int64"
        }
       ],
       "rows": [
        {
         "Date": "2000-01-03T00:00:00.000000",
         "High": 40.0625,
         "Low": 38.9375,
         "Open": 39.9375,
         "Close": 39.625,
         "Volume": 4520600,
         "Adj Close": 22.930803298950195,
         "year": 2000,
         "_deepnote_index_column": 0
        },
        {
         "Date": "2000-01-04T00:00:00.000000",
         "High": 39.5625,
         "Low": 38.375,
         "Open": 39.3125,
         "Close": 38.8125,
         "Volume": 4216500,
         "Adj Close": 22.46061897277832,
         "year": 2000,
         "_deepnote_index_column": 1
        },
        {
         "Date": "2000-01-05T00:00:00.000000",
         "High": 40.375,
         "Low": 38.8125,
         "Open": 38.8125,
         "Close": 39.4375,
         "Volume": 5231600,
         "Adj Close": 22.822298049926758,
         "year": 2000,
         "_deepnote_index_column": 2
        },
        {
         "Date": "2000-01-06T00:00:00.000000",
         "High": 39.375,
         "Low": 38.6875,
         "Open": 39.125,
         "Close": 38.875,
         "Volume": 4809400,
         "Adj Close": 22.496784210205078,
         "year": 2000,
         "_deepnote_index_column": 3
        },
        {
         "Date": "2000-01-07T00:00:00.000000",
         "High": 40,
         "Low": 38.875,
         "Open": 39,
         "Close": 39.875,
         "Volume": 5124700,
         "Adj Close": 23.075489044189453,
         "year": 2000,
         "_deepnote_index_column": 4
        },
        {
         "Date": "2000-01-10T00:00:00.000000",
         "High": 41,
         "Low": 39.75,
         "Open": 40,
         "Close": 40.0625,
         "Volume": 4113900,
         "Adj Close": 23.18399429321289,
         "year": 2000,
         "_deepnote_index_column": 5
        },
        {
         "Date": "2000-01-11T00:00:00.000000",
         "High": 41.5,
         "Low": 40.125,
         "Open": 40.125,
         "Close": 41,
         "Volume": 5440200,
         "Adj Close": 23.72651481628418,
         "year": 2000,
         "_deepnote_index_column": 6
        },
        {
         "Date": "2000-01-12T00:00:00.000000",
         "High": 43.0625,
         "Low": 40.625,
         "Open": 40.9375,
         "Close": 42.75,
         "Volume": 8090000,
         "Adj Close": 24.73923110961914,
         "year": 2000,
         "_deepnote_index_column": 7
        },
        {
         "Date": "2000-01-13T00:00:00.000000",
         "High": 43.625,
         "Low": 41.875,
         "Open": 42.6875,
         "Close": 42.3125,
         "Volume": 5700200,
         "Adj Close": 24.486053466796875,
         "year": 2000,
         "_deepnote_index_column": 8
        },
        {
         "Date": "2000-01-14T00:00:00.000000",
         "High": 42.8125,
         "Low": 41.875,
         "Open": 42.8125,
         "Close": 42.609375,
         "Volume": 3365400,
         "Adj Close": 24.657852172851562,
         "year": 2000,
         "_deepnote_index_column": 9
        }
       ]
      },
      "text/plain": "           Date        High         Low        Open       Close     Volume  \\\n0    2000-01-03   40.062500   38.937500   39.937500   39.625000  4520600.0   \n1    2000-01-04   39.562500   38.375000   39.312500   38.812500  4216500.0   \n2    2000-01-05   40.375000   38.812500   38.812500   39.437500  5231600.0   \n3    2000-01-06   39.375000   38.687500   39.125000   38.875000  4809400.0   \n4    2000-01-07   40.000000   38.875000   39.000000   39.875000  5124700.0   \n...         ...         ...         ...         ...         ...        ...   \n5279 2020-12-24  212.740005  211.139999  212.119995  211.389999  1047700.0   \n5280 2020-12-28  214.880005  212.190002  212.990005  214.020004  2550100.0   \n5281 2020-12-29  215.779999  212.449997  214.639999  212.710007  1665700.0   \n5282 2020-12-30  213.360001  211.279999  212.960007  211.559998  1855000.0   \n5283 2020-12-31  214.929993  210.779999  211.250000  214.580002  2610900.0   \n\n       Adj Close  year  \n0      22.930803  2000  \n1      22.460619  2000  \n2      22.822298  2000  \n3      22.496784  2000  \n4      23.075489  2000  \n...          ...   ...  \n5279  205.515121  2020  \n5280  208.072006  2020  \n5281  206.798416  2020  \n5282  205.680374  2020  \n5283  208.616440  2020  \n\n[5284 rows x 8 columns]",
      "text/html": "<div>\n<style scoped>\n    .dataframe tbody tr th:only-of-type {\n        vertical-align: middle;\n    }\n\n    .dataframe tbody tr th {\n        vertical-align: top;\n    }\n\n    .dataframe thead th {\n        text-align: right;\n    }\n</style>\n<table border=\"1\" class=\"dataframe\">\n  <thead>\n    <tr style=\"text-align: right;\">\n      <th></th>\n      <th>Date</th>\n      <th>High</th>\n      <th>Low</th>\n      <th>Open</th>\n      <th>Close</th>\n      <th>Volume</th>\n      <th>Adj Close</th>\n      <th>year</th>\n    </tr>\n  </thead>\n  <tbody>\n    <tr>\n      <th>0</th>\n      <td>2000-01-03</td>\n      <td>40.062500</td>\n      <td>38.937500</td>\n      <td>39.937500</td>\n      <td>39.625000</td>\n      <td>4520600.0</td>\n      <td>22.930803</td>\n      <td>2000</td>\n    </tr>\n    <tr>\n      <th>1</th>\n      <td>2000-01-04</td>\n      <td>39.562500</td>\n      <td>38.375000</td>\n      <td>39.312500</td>\n      <td>38.812500</td>\n      <td>4216500.0</td>\n      <td>22.460619</td>\n      <td>2000</td>\n    </tr>\n    <tr>\n      <th>2</th>\n      <td>2000-01-05</td>\n      <td>40.375000</td>\n      <td>38.812500</td>\n      <td>38.812500</td>\n      <td>39.437500</td>\n      <td>5231600.0</td>\n      <td>22.822298</td>\n      <td>2000</td>\n    </tr>\n    <tr>\n      <th>3</th>\n      <td>2000-01-06</td>\n      <td>39.375000</td>\n      <td>38.687500</td>\n      <td>39.125000</td>\n      <td>38.875000</td>\n      <td>4809400.0</td>\n      <td>22.496784</td>\n      <td>2000</td>\n    </tr>\n    <tr>\n      <th>4</th>\n      <td>2000-01-07</td>\n      <td>40.000000</td>\n      <td>38.875000</td>\n      <td>39.000000</td>\n      <td>39.875000</td>\n      <td>5124700.0</td>\n      <td>23.075489</td>\n      <td>2000</td>\n    </tr>\n    <tr>\n      <th>...</th>\n      <td>...</td>\n      <td>...</td>\n      <td>...</td>\n      <td>...</td>\n      <td>...</td>\n      <td>...</td>\n      <td>...</td>\n      <td>...</td>\n    </tr>\n    <tr>\n      <th>5279</th>\n      <td>2020-12-24</td>\n      <td>212.740005</td>\n      <td>211.139999</td>\n      <td>212.119995</td>\n      <td>211.389999</td>\n      <td>1047700.0</td>\n      <td>205.515121</td>\n      <td>2020</td>\n    </tr>\n    <tr>\n      <th>5280</th>\n      <td>2020-12-28</td>\n      <td>214.880005</td>\n      <td>212.190002</td>\n      <td>212.990005</td>\n      <td>214.020004</td>\n      <td>2550100.0</td>\n      <td>208.072006</td>\n      <td>2020</td>\n    </tr>\n    <tr>\n      <th>5281</th>\n      <td>2020-12-29</td>\n      <td>215.779999</td>\n      <td>212.449997</td>\n      <td>214.639999</td>\n      <td>212.710007</td>\n      <td>1665700.0</td>\n      <td>206.798416</td>\n      <td>2020</td>\n    </tr>\n    <tr>\n      <th>5282</th>\n      <td>2020-12-30</td>\n      <td>213.360001</td>\n      <td>211.279999</td>\n      <td>212.960007</td>\n      <td>211.559998</td>\n      <td>1855000.0</td>\n      <td>205.680374</td>\n      <td>2020</td>\n    </tr>\n    <tr>\n      <th>5283</th>\n      <td>2020-12-31</td>\n      <td>214.929993</td>\n      <td>210.779999</td>\n      <td>211.250000</td>\n      <td>214.580002</td>\n      <td>2610900.0</td>\n      <td>208.616440</td>\n      <td>2020</td>\n    </tr>\n  </tbody>\n</table>\n<p>5284 rows × 8 columns</p>\n</div>"
     },
     "metadata": {}
    }
   ],
   "execution_count": null
  },
  {
   "cell_type": "code",
   "metadata": {
    "cell_id": "e7b572e1-f225-4666-8d00-7c937820e255",
    "tags": [],
    "deepnote_to_be_reexecuted": false,
    "source_hash": "fd9cabc9",
    "execution_start": 1647578548985,
    "execution_millis": 24,
    "deepnote_cell_type": "code",
    "deepnote_cell_height": 117
   },
   "source": "spy_change=[]\nfor i in range(2000,2021):\n    spy_change.append((spy_cleaned[spy_cleaned.get('year')==i].iloc[-1].get('High')-spy_cleaned[spy_cleaned.get('year')==i].iloc[0].get('Low'))/spy_cleaned[spy_cleaned.get('year')==i].iloc[0].get('Low'))",
   "outputs": [],
   "execution_count": null
  },
  {
   "cell_type": "code",
   "metadata": {
    "cell_id": "53734bbb-b90a-4bee-ab2a-be8fe2f519c3",
    "tags": [],
    "deepnote_to_be_reexecuted": false,
    "source_hash": "10cabea",
    "execution_start": 1647578549012,
    "execution_millis": 2,
    "deepnote_cell_type": "code",
    "deepnote_cell_height": 81
   },
   "source": "big_mac_cost_df=big_mac_cost_df[big_mac_cost_df.index<2021].assign(spy=spy_change)",
   "outputs": [],
   "execution_count": null
  },
  {
   "cell_type": "code",
   "metadata": {
    "cell_id": "85373e5e-7342-47ab-9980-0c9ce1b88ae3",
    "tags": [],
    "deepnote_to_be_reexecuted": false,
    "source_hash": "878366d0",
    "execution_start": 1647578549019,
    "execution_millis": 1,
    "deepnote_table_state": {
     "pageSize": 10,
     "pageIndex": 2,
     "filters": [],
     "sortBy": []
    },
    "deepnote_table_loading": false,
    "deepnote_cell_type": "code",
    "deepnote_cell_height": 99
   },
   "source": "#removing all entries after 2020\nbig_mac_cost_df=big_mac_cost_df[big_mac_cost_df.index<2021]",
   "outputs": [],
   "execution_count": null
  },
  {
   "cell_type": "markdown",
   "source": "### Exploratory Data Analysis",
   "metadata": {
    "cell_id": "c44b2674-058b-4d23-a070-f54af112184a",
    "tags": [],
    "is_collapsed": false,
    "deepnote_cell_type": "text-cell-h3"
   }
  },
  {
   "cell_type": "code",
   "metadata": {
    "cell_id": "cee92b91-b157-4715-a4d7-84a7fa4d37b3",
    "tags": [],
    "deepnote_to_be_reexecuted": false,
    "source_hash": "524a61f9",
    "execution_start": 1647578549031,
    "execution_millis": 338,
    "deepnote_table_state": {
     "pageSize": 10,
     "pageIndex": 2,
     "filters": [],
     "sortBy": []
    },
    "deepnote_table_loading": false,
    "deepnote_cell_type": "code",
    "deepnote_cell_height": 649.1875,
    "deepnote_output_heights": [
     21.1875,
     482
    ]
   },
   "source": "#checking the trend between individual ingredient prices an actual price of big mac\nbig_mac_cost_df.plot(kind='line',figsize=(16,8))",
   "outputs": [
    {
     "output_type": "execute_result",
     "execution_count": 24,
     "data": {
      "text/plain": "<AxesSubplot:xlabel='date'>"
     },
     "metadata": {}
    },
    {
     "data": {
      "text/plain": "<Figure size 1152x576 with 1 Axes>",
      "image/png": "[encoded data removed]"
     },
     "metadata": {
      "needs_background": "light",
      "image/png": {
       "width": 920,
       "height": 480
      }
     },
     "output_type": "display_data"
    }
   ],
   "execution_count": null
  },
  {
   "cell_type": "code",
   "metadata": {
    "cell_id": "5bf10172-1525-4e71-8b43-5784ef0fbd55",
    "tags": [],
    "deepnote_to_be_reexecuted": false,
    "source_hash": "190900af",
    "execution_start": 1647578549373,
    "execution_millis": 9,
    "deepnote_cell_type": "code",
    "deepnote_cell_height": 189
   },
   "source": "#Adjusting the ingridient price based on relative weight in a Big Mac \nbig_mac_cost_df=big_mac_cost_df.assign(bun_weighted=bread_prices_cleaned[bread_prices_cleaned.index>1999]*0.163)\nbig_mac_cost_df=big_mac_cost_df.assign(beef_patty_weighted=beef_prices_cleaned[beef_prices_cleaned.index>1999]*0.198)\nbig_mac_cost_df=big_mac_cost_df.assign(cheese_weighted=cheese_prices_cleaned[cheese_prices_cleaned.index>1999]*0.03)\nbig_mac_cost_df=big_mac_cost_df.assign(lettuce_weighted=lettuce_prices_cleaned[lettuce_prices_cleaned.index>1999]*0.062)\nbig_mac_cost_df=big_mac_cost_df.assign(cucumber_weighted=cucumber_prices_cleaned[cucumber_prices_cleaned.index>1999]*0.015)\nbig_mac_cost_df=big_mac_cost_df.assign(onions_weighted=onion_prices_cleaned[onion_prices_cleaned.index>1999].get('prices')*0.015)",
   "outputs": [],
   "execution_count": null
  },
  {
   "cell_type": "code",
   "metadata": {
    "cell_id": "89a90b53-7696-4642-9f46-3a1d2f1e2e46",
    "tags": [],
    "deepnote_to_be_reexecuted": false,
    "source_hash": "59297493",
    "execution_start": 1647578549382,
    "execution_millis": 2,
    "deepnote_table_state": {
     "pageSize": 10,
     "pageIndex": 2,
     "filters": [],
     "sortBy": []
    },
    "deepnote_table_loading": false,
    "deepnote_cell_type": "code",
    "deepnote_cell_height": 99
   },
   "source": "#Finding the total annual cost of all ingridients in a Big Mac\nbig_mac_cost_df=big_mac_cost_df.assign(total_cost=big_mac_cost_df.get(['bun_weighted','beef_patty_weighted','cheese_weighted','lettuce_weighted','onions_weighted','cucumber_weighted']).sum(axis=1))",
   "outputs": [],
   "execution_count": null
  },
  {
   "cell_type": "code",
   "metadata": {
    "cell_id": "109f6856-1e7a-48e2-ba83-f8fed6863765",
    "tags": [],
    "deepnote_to_be_reexecuted": false,
    "source_hash": "f1b5ac41",
    "execution_start": 1647578549390,
    "execution_millis": 302,
    "deepnote_cell_type": "code",
    "deepnote_cell_height": 753.1875,
    "deepnote_output_heights": [
     21.1875,
     514
    ]
   },
   "source": "#Creating a visualization to gauge the Approximate Ingridient Price and Actual Price over the years.\nbig_mac_cost_df.get(['total_cost','actual_price']).plot(kind='line',figsize=(16,8))\nplt.xticks(rotation = 45)\nplt.xlabel('Year')\nplt.ylabel('Price in USD($)')\nplt.title('Approximate Ingredient Price and Actual Price')",
   "outputs": [
    {
     "output_type": "execute_result",
     "execution_count": 27,
     "data": {
      "text/plain": "Text(0.5, 1.0, 'Approximate Ingredient Price and Actual Price')"
     },
     "metadata": {}
    },
    {
     "data": {
      "text/plain": "<Figure size 1152x576 with 1 Axes>",
      "image/png": "[encoded data removed]"
     },
     "metadata": {
      "needs_background": "light",
      "image/png": {
       "width": 934,
       "height": 518
      }
     },
     "output_type": "display_data"
    }
   ],
   "execution_count": null
  },
  {
   "cell_type": "code",
   "metadata": {
    "cell_id": "95d98fe9-6307-490f-9abf-95b1b4cacfa7",
    "tags": [],
    "deepnote_to_be_reexecuted": false,
    "source_hash": "d5d3de69",
    "execution_start": 1647578549694,
    "execution_millis": 3,
    "deepnote_cell_type": "code",
    "deepnote_cell_height": 117
   },
   "source": "#Creating a column for percentage change in Total and Actual Price from the previous year.\nbig_mac_cost_df=big_mac_cost_df.assign(total_cost_change=big_mac_cost_df.get('total_cost').pct_change())\nbig_mac_cost_df=big_mac_cost_df.assign(actual_price_change=big_mac_cost_df.get('actual_price').pct_change())",
   "outputs": [],
   "execution_count": null
  },
  {
   "cell_type": "code",
   "metadata": {
    "cell_id": "02b84b3c-92fd-493e-bfcc-598804af7d5f",
    "tags": [],
    "deepnote_to_be_reexecuted": false,
    "source_hash": "6a261459",
    "execution_start": 1647578549716,
    "execution_millis": 515,
    "deepnote_cell_type": "code",
    "deepnote_cell_height": 751.1875,
    "deepnote_output_heights": [
     21.1875,
     494
    ]
   },
   "source": "#Plotting the Precentage change in Approximate Price and Actual Price.\nbig_mac_cost_df[big_mac_cost_df.index<2021].get(['total_cost_change','actual_price_change']).plot(kind='line',figsize=(16,8))\nvalues=[2000,2001,2002,2003,2004,2005,2006,2007,2008,2009,2010,2011,2012,2013,2014,2015,2016,2017,2018,2019,2020]\nplt.xticks(values,rotation = 45)\nplt.xlabel('Year')\nplt.ylabel('Change in %')\nplt.title('Annual change in Approximate Ingredient Price and Actual Price')",
   "outputs": [
    {
     "output_type": "execute_result",
     "execution_count": 29,
     "data": {
      "text/plain": "Text(0.5, 1.0, 'Annual change in Approximate Ingredient Price and Actual Price')"
     },
     "metadata": {}
    },
    {
     "data": {
      "text/plain": "<Figure size 1152x576 with 1 Axes>",
      "image/png": "[encoded data removed]"
     },
     "metadata": {
      "needs_background": "light",
      "image/png": {
       "width": 958,
       "height": 511
      }
     },
     "output_type": "display_data"
    }
   ],
   "execution_count": null
  },
  {
   "cell_type": "code",
   "metadata": {
    "cell_id": "de6f773b-7bb6-4ee5-b5ae-8580b5d2fda3",
    "tags": [],
    "deepnote_to_be_reexecuted": false,
    "source_hash": "babe8b09",
    "execution_start": 1647578550083,
    "execution_millis": 371,
    "deepnote_table_state": {
     "pageSize": 10,
     "pageIndex": 5,
     "filters": [],
     "sortBy": []
    },
    "deepnote_table_loading": false,
    "deepnote_cell_type": "code",
    "deepnote_cell_height": 787.1875,
    "deepnote_output_heights": [
     21.1875,
     494
    ]
   },
   "source": "#Plotting a graph for Inflation v/s Calculated cost v/s Actual Price\nbig_mac_cost_df=big_mac_cost_df.assign(inflation=inflation_cleaned[inflation_cleaned.index>1999])\nbig_mac_cost_df[big_mac_cost_df.index<2021].get(['total_cost_change','actual_price_change','inflation']).plot(kind='line',figsize=(16,8))\nplt.xticks(rotation = 45)\nvalues=[2000,2001,2002,2003,2004,2005,2006,2007,2008,2009,2010,2011,2012,2013,2014,2015,2016,2017,2018,2019,2020]\nplt.xticks(values,rotation = 45)\nplt.xlabel('Year')\nplt.ylabel('Change in %')\nplt.title('Inflation v/s Annual change in Approximate Ingredient Price and Actual Price')",
   "outputs": [
    {
     "output_type": "execute_result",
     "execution_count": 30,
     "data": {
      "text/plain": "Text(0.5, 1.0, 'Inflation v/s Annual change in Approximate Ingredient Price and Actual Price')"
     },
     "metadata": {}
    },
    {
     "data": {
      "text/plain": "<Figure size 1152x576 with 1 Axes>",
      "image/png": "[encoded data removed]"
     },
     "metadata": {
      "needs_background": "light",
      "image/png": {
       "width": 958,
       "height": 511
      }
     },
     "output_type": "display_data"
    }
   ],
   "execution_count": null
  },
  {
   "cell_type": "code",
   "metadata": {
    "cell_id": "839a1ca6-bda4-4a13-bee2-50cc3bb68c60",
    "tags": [],
    "deepnote_to_be_reexecuted": false,
    "source_hash": "b910ce91",
    "execution_start": 1647578550463,
    "execution_millis": 358,
    "deepnote_cell_type": "code",
    "deepnote_cell_height": 769.1875,
    "deepnote_output_heights": [
     21.1875,
     494
    ]
   },
   "source": "#Plotting a visualization for Annual Percentage Change in GDP, Ingridient Price and Actual Price\nbig_mac_cost_df=big_mac_cost_df.assign(change_gdp=gdp_clean[gdp_clean.index>1999].get('change_GDP'))\nvalues=[2000,2001,2002,2003,2004,2005,2006,2007,2008,2009,2010,2011,2012,2013,2014,2015,2016,2017,2018,2019,2020]\nbig_mac_cost_df.get(['total_cost_change','actual_price_change','change_gdp']).plot(kind='line',figsize=(16,8),marker='.')\nplt.xticks(values,rotation = 45)\nplt.xlabel('Year')\nplt.ylabel('Change in %')\nplt.title('GDP v/s Approximate Ingredient Price v/s Actual Price')",
   "outputs": [
    {
     "output_type": "execute_result",
     "execution_count": 31,
     "data": {
      "text/plain": "Text(0.5, 1.0, 'GDP v/s Approximate Ingredient Price v/s Actual Price')"
     },
     "metadata": {}
    },
    {
     "data": {
      "text/plain": "<Figure size 1152x576 with 1 Axes>",
      "image/png": "[encoded data removed]"
     },
     "metadata": {
      "needs_background": "light",
      "image/png": {
       "width": 958,
       "height": 511
      }
     },
     "output_type": "display_data"
    }
   ],
   "execution_count": null
  },
  {
   "cell_type": "code",
   "metadata": {
    "cell_id": "b9456ce5-35ba-46dd-b874-01e9a5e6149d",
    "tags": [],
    "deepnote_to_be_reexecuted": false,
    "source_hash": "2b7908ae",
    "execution_start": 1647578550826,
    "execution_millis": 412,
    "deepnote_cell_type": "code",
    "deepnote_cell_height": 746.1875,
    "deepnote_output_heights": [
     21.1875,
     507
    ]
   },
   "source": "#Creating a visualization for comparing rise in Ingridients an Actual price\nbig_mac_cost_df.get(['bun','beef_patty','cheese','lettuce','cucumber','onions','actual_price','total_cost']).plot(kind='line',figsize=(16,8))\nplt.xticks(values,rotation = 45)\nplt.xlabel('Year')\nplt.ylabel('Price in USD($)')\nplt.title('Ingredients v/s Actual Price')",
   "outputs": [
    {
     "output_type": "execute_result",
     "execution_count": 32,
     "data": {
      "text/plain": "Text(0.5, 1.0, 'Ingredients v/s Actual Price')"
     },
     "metadata": {}
    },
    {
     "data": {
      "text/plain": "<Figure size 1152x576 with 1 Axes>",
      "image/png": "[encoded data removed]"
     },
     "metadata": {
      "needs_background": "light",
      "image/png": {
       "width": 934,
       "height": 511
      }
     },
     "output_type": "display_data"
    }
   ],
   "execution_count": null
  },
  {
   "cell_type": "code",
   "metadata": {
    "cell_id": "21dd72b8-1790-438e-9be8-58a84d515dfd",
    "tags": [],
    "deepnote_to_be_reexecuted": false,
    "source_hash": "abbee526",
    "execution_start": 1647578551238,
    "execution_millis": 6,
    "deepnote_cell_type": "code",
    "deepnote_cell_height": 136.1875,
    "deepnote_output_heights": [
     21.1875
    ]
   },
   "source": "#20 Year Percentage change in total cost.\n(big_mac_cost_df.get('total_cost').loc[2020]-big_mac_cost_df.get('total_cost').loc[2000])/big_mac_cost_df.get('total_cost').loc[2000]",
   "outputs": [
    {
     "output_type": "execute_result",
     "execution_count": 33,
     "data": {
      "text/plain": "1.0622437347520226"
     },
     "metadata": {}
    }
   ],
   "execution_count": null
  },
  {
   "cell_type": "code",
   "metadata": {
    "cell_id": "08fd89a9-1002-4f80-bf67-bd6c0a9847b6",
    "tags": [],
    "deepnote_to_be_reexecuted": false,
    "source_hash": "a9a971ad",
    "execution_start": 1647578551253,
    "execution_millis": 17,
    "deepnote_cell_type": "code",
    "deepnote_cell_height": 136.1875,
    "deepnote_output_heights": [
     21.1875
    ]
   },
   "source": "#20 year precent change in Actual Price\n(big_mac_cost_df.get('actual_price').loc[2020]-big_mac_cost_df.get('actual_price').loc[2000])/big_mac_cost_df.get('actual_price').loc[2000]",
   "outputs": [
    {
     "output_type": "execute_result",
     "execution_count": 34,
     "data": {
      "text/plain": "1.2669322709163346"
     },
     "metadata": {}
    }
   ],
   "execution_count": null
  },
  {
   "cell_type": "code",
   "metadata": {
    "cell_id": "9a8a19f9-8fc7-4673-aae3-3714fb46fa5b",
    "tags": [],
    "deepnote_to_be_reexecuted": false,
    "source_hash": "7ebad731",
    "execution_start": 1647578551254,
    "execution_millis": 17,
    "deepnote_table_state": {
     "pageSize": 10,
     "pageIndex": 3,
     "filters": [],
     "sortBy": []
    },
    "deepnote_table_loading": false,
    "deepnote_cell_type": "code",
    "deepnote_cell_height": 136.1875,
    "deepnote_output_heights": [
     21.1875
    ]
   },
   "source": "#Percentage change in Beef Prices in the Year 2022\nbeef_prices_cleaned.get('prices').pct_change().loc[2022]",
   "outputs": [
    {
     "output_type": "execute_result",
     "execution_count": 35,
     "data": {
      "text/plain": "0.06077348066298338"
     },
     "metadata": {}
    }
   ],
   "execution_count": null
  },
  {
   "cell_type": "code",
   "metadata": {
    "cell_id": "e10cdbc0-328d-4920-a4fe-e2b32bd9e84e",
    "tags": [],
    "deepnote_to_be_reexecuted": false,
    "source_hash": "1eb1e5b3",
    "execution_start": 1647578551271,
    "execution_millis": 5,
    "deepnote_cell_type": "code",
    "deepnote_cell_height": 288
   },
   "source": "#Finding the correlation between total_cost and actual_price\nbig_mac_cost_df.get(['total_cost','actual_price']).corr()",
   "outputs": [
    {
     "output_type": "execute_result",
     "execution_count": 36,
     "data": {
      "application/vnd.deepnote.dataframe.v3+json": {
       "column_count": 2,
       "row_count": 2,
       "columns": [
        {
         "name": "total_cost",
         "dtype": "float64",
         "stats": {
          "unique_count": 2,
          "nan_count": 0,
          "min": "0.9614858349051127",
          "max": "1.0",
          "histogram": [
           {
            "bin_start": 0.9614858349051127,
            "bin_end": 0.9653372514146015,
            "count": 1
           },
           {
            "bin_start": 0.9653372514146015,
            "bin_end": 0.9691886679240902,
            "count": 0
           },
           {
            "bin_start": 0.9691886679240902,
            "bin_end": 0.9730400844335789,
            "count": 0
           },
           {
            "bin_start": 0.9730400844335789,
            "bin_end": 0.9768915009430676,
            "count": 0
           },
           {
            "bin_start": 0.9768915009430676,
            "bin_end": 0.9807429174525564,
            "count": 0
           },
           {
            "bin_start": 0.9807429174525564,
            "bin_end": 0.9845943339620451,
            "count": 0
           },
           {
            "bin_start": 0.9845943339620451,
            "bin_end": 0.9884457504715338,
            "count": 0
           },
           {
            "bin_start": 0.9884457504715338,
            "bin_end": 0.9922971669810225,
            "count": 0
           },
           {
            "bin_start": 0.9922971669810225,
            "bin_end": 0.9961485834905113,
            "count": 0
           },
           {
            "bin_start": 0.9961485834905113,
            "bin_end": 1,
            "count": 1
           }
          ]
         }
        },
        {
         "name": "actual_price",
         "dtype": "float64",
         "stats": {
          "unique_count": 2,
          "nan_count": 0,
          "min": "0.9614858349051127",
          "max": "1.0",
          "histogram": [
           {
            "bin_start": 0.9614858349051127,
            "bin_end": 0.9653372514146015,
            "count": 1
           },
           {
            "bin_start": 0.9653372514146015,
            "bin_end": 0.9691886679240902,
            "count": 0
           },
           {
            "bin_start": 0.9691886679240902,
            "bin_end": 0.9730400844335789,
            "count": 0
           },
           {
            "bin_start": 0.9730400844335789,
            "bin_end": 0.9768915009430676,
            "count": 0
           },
           {
            "bin_start": 0.9768915009430676,
            "bin_end": 0.9807429174525564,
            "count": 0
           },
           {
            "bin_start": 0.9807429174525564,
            "bin_end": 0.9845943339620451,
            "count": 0
           },
           {
            "bin_start": 0.9845943339620451,
            "bin_end": 0.9884457504715338,
            "count": 0
           },
           {
            "bin_start": 0.9884457504715338,
            "bin_end": 0.9922971669810225,
            "count": 0
           },
           {
            "bin_start": 0.9922971669810225,
            "bin_end": 0.9961485834905113,
            "count": 0
           },
           {
            "bin_start": 0.9961485834905113,
            "bin_end": 1,
            "count": 1
           }
          ]
         }
        },
        {
         "name": "_deepnote_index_column",
         "dtype": "object"
        }
       ],
       "rows": [
        {
         "total_cost": 1,
         "actual_price": 0.9614858349051127,
         "_deepnote_index_column": "total_cost"
        },
        {
         "total_cost": 0.9614858349051127,
         "actual_price": 1,
         "_deepnote_index_column": "actual_price"
        }
       ]
      },
      "text/plain": "              total_cost  actual_price\ntotal_cost      1.000000      0.961486\nactual_price    0.961486      1.000000",
      "text/html": "<div>\n<style scoped>\n    .dataframe tbody tr th:only-of-type {\n        vertical-align: middle;\n    }\n\n    .dataframe tbody tr th {\n        vertical-align: top;\n    }\n\n    .dataframe thead th {\n        text-align: right;\n    }\n</style>\n<table border=\"1\" class=\"dataframe\">\n  <thead>\n    <tr style=\"text-align: right;\">\n      <th></th>\n      <th>total_cost</th>\n      <th>actual_price</th>\n    </tr>\n  </thead>\n  <tbody>\n    <tr>\n      <th>total_cost</th>\n      <td>1.000000</td>\n      <td>0.961486</td>\n    </tr>\n    <tr>\n      <th>actual_price</th>\n      <td>0.961486</td>\n      <td>1.000000</td>\n    </tr>\n  </tbody>\n</table>\n</div>"
     },
     "metadata": {}
    }
   ],
   "execution_count": null
  },
  {
   "cell_type": "code",
   "metadata": {
    "cell_id": "35829689-c53b-4e37-ba2d-a01a5d90b41e",
    "tags": [],
    "deepnote_to_be_reexecuted": false,
    "source_hash": "c8cca3f",
    "execution_start": 1647578551288,
    "execution_millis": 9,
    "deepnote_cell_type": "code",
    "deepnote_cell_height": 329
   },
   "source": "#Finding the correlation between total_cost_change, actual_price_change and inflation\nbig_mac_cost_df.get(['total_cost_change','actual_price_change','inflation']).corr()",
   "outputs": [
    {
     "output_type": "execute_result",
     "execution_count": 37,
     "data": {
      "application/vnd.deepnote.dataframe.v3+json": {
       "column_count": 3,
       "row_count": 3,
       "columns": [
        {
         "name": "total_cost_change",
         "dtype": "float64",
         "stats": {
          "unique_count": 3,
          "nan_count": 0,
          "min": "0.25180460957691864",
          "max": "1.0",
          "histogram": [
           {
            "bin_start": 0.25180460957691864,
            "bin_end": 0.3266241486192268,
            "count": 1
           },
           {
            "bin_start": 0.3266241486192268,
            "bin_end": 0.40144368766153493,
            "count": 1
           },
           {
            "bin_start": 0.40144368766153493,
            "bin_end": 0.476263226703843,
            "count": 0
           },
           {
            "bin_start": 0.476263226703843,
            "bin_end": 0.5510827657461512,
            "count": 0
           },
           {
            "bin_start": 0.5510827657461512,
            "bin_end": 0.6259023047884593,
            "count": 0
           },
           {
            "bin_start": 0.6259023047884593,
            "bin_end": 0.7007218438307674,
            "count": 0
           },
           {
            "bin_start": 0.7007218438307674,
            "bin_end": 0.7755413828730756,
            "count": 0
           },
           {
            "bin_start": 0.7755413828730756,
            "bin_end": 0.8503609219153837,
            "count": 0
           },
           {
            "bin_start": 0.8503609219153837,
            "bin_end": 0.9251804609576918,
            "count": 0
           },
           {
            "bin_start": 0.9251804609576918,
            "bin_end": 1,
            "count": 1
           }
          ]
         }
        },
        {
         "name": "actual_price_change",
         "dtype": "float64",
         "stats": {
          "unique_count": 3,
          "nan_count": 0,
          "min": "0.37422917917833853",
          "max": "1.0",
          "histogram": [
           {
            "bin_start": 0.37422917917833853,
            "bin_end": 0.4368062612605047,
            "count": 1
           },
           {
            "bin_start": 0.4368062612605047,
            "bin_end": 0.4993833433426708,
            "count": 0
           },
           {
            "bin_start": 0.4993833433426708,
            "bin_end": 0.5619604254248369,
            "count": 0
           },
           {
            "bin_start": 0.5619604254248369,
            "bin_end": 0.6245375075070031,
            "count": 1
           },
           {
            "bin_start": 0.6245375075070031,
            "bin_end": 0.6871145895891693,
            "count": 0
           },
           {
            "bin_start": 0.6871145895891693,
            "bin_end": 0.7496916716713353,
            "count": 0
           },
           {
            "bin_start": 0.7496916716713353,
            "bin_end": 0.8122687537535015,
            "count": 0
           },
           {
            "bin_start": 0.8122687537535015,
            "bin_end": 0.8748458358356677,
            "count": 0
           },
           {
            "bin_start": 0.8748458358356677,
            "bin_end": 0.9374229179178338,
            "count": 0
           },
           {
            "bin_start": 0.9374229179178338,
            "bin_end": 1,
            "count": 1
           }
          ]
         }
        },
        {
         "name": "inflation",
         "dtype": "float64",
         "stats": {
          "unique_count": 3,
          "nan_count": 0,
          "min": "0.25180460957691864",
          "max": "1.0",
          "histogram": [
           {
            "bin_start": 0.25180460957691864,
            "bin_end": 0.3266241486192268,
            "count": 1
           },
           {
            "bin_start": 0.3266241486192268,
            "bin_end": 0.40144368766153493,
            "count": 0
           },
           {
            "bin_start": 0.40144368766153493,
            "bin_end": 0.476263226703843,
            "count": 0
           },
           {
            "bin_start": 0.476263226703843,
            "bin_end": 0.5510827657461512,
            "count": 0
           },
           {
            "bin_start": 0.5510827657461512,
            "bin_end": 0.6259023047884593,
            "count": 1
           },
           {
            "bin_start": 0.6259023047884593,
            "bin_end": 0.7007218438307674,
            "count": 0
           },
           {
            "bin_start": 0.7007218438307674,
            "bin_end": 0.7755413828730756,
            "count": 0
           },
           {
            "bin_start": 0.7755413828730756,
            "bin_end": 0.8503609219153837,
            "count": 0
           },
           {
            "bin_start": 0.8503609219153837,
            "bin_end": 0.9251804609576918,
            "count": 0
           },
           {
            "bin_start": 0.9251804609576918,
            "bin_end": 1,
            "count": 1
           }
          ]
         }
        },
        {
         "name": "_deepnote_index_column",
         "dtype": "object"
        }
       ],
       "rows": [
        {
         "total_cost_change": 1,
         "actual_price_change": 0.37422917917833853,
         "inflation": 0.25180460957691864,
         "_deepnote_index_column": "total_cost_change"
        },
        {
         "total_cost_change": 0.37422917917833853,
         "actual_price_change": 1,
         "inflation": 0.5630018792538347,
         "_deepnote_index_column": "actual_price_change"
        },
        {
         "total_cost_change": 0.25180460957691864,
         "actual_price_change": 0.5630018792538347,
         "inflation": 1,
         "_deepnote_index_column": "inflation"
        }
       ]
      },
      "text/plain": "                     total_cost_change  actual_price_change  inflation\ntotal_cost_change             1.000000             0.374229   0.251805\nactual_price_change           0.374229             1.000000   0.563002\ninflation                     0.251805             0.563002   1.000000",
      "text/html": "<div>\n<style scoped>\n    .dataframe tbody tr th:only-of-type {\n        vertical-align: middle;\n    }\n\n    .dataframe tbody tr th {\n        vertical-align: top;\n    }\n\n    .dataframe thead th {\n        text-align: right;\n    }\n</style>\n<table border=\"1\" class=\"dataframe\">\n  <thead>\n    <tr style=\"text-align: right;\">\n      <th></th>\n      <th>total_cost_change</th>\n      <th>actual_price_change</th>\n      <th>inflation</th>\n    </tr>\n  </thead>\n  <tbody>\n    <tr>\n      <th>total_cost_change</th>\n      <td>1.000000</td>\n      <td>0.374229</td>\n      <td>0.251805</td>\n    </tr>\n    <tr>\n      <th>actual_price_change</th>\n      <td>0.374229</td>\n      <td>1.000000</td>\n      <td>0.563002</td>\n    </tr>\n    <tr>\n      <th>inflation</th>\n      <td>0.251805</td>\n      <td>0.563002</td>\n      <td>1.000000</td>\n    </tr>\n  </tbody>\n</table>\n</div>"
     },
     "metadata": {}
    }
   ],
   "execution_count": null
  },
  {
   "cell_type": "code",
   "metadata": {
    "cell_id": "7f285e2c-7962-4015-87f1-2e53df95feca",
    "tags": [],
    "deepnote_to_be_reexecuted": false,
    "source_hash": "26d0997f",
    "execution_start": 1647578551298,
    "execution_millis": 386,
    "deepnote_cell_type": "code",
    "deepnote_cell_height": 736.265625,
    "deepnote_output_heights": [
     21.1875,
     497.09375
    ]
   },
   "source": "#Visualization to gauge the change in S&P500, Actual Price and Total Cost\nbig_mac_cost_df.get(['total_cost_change','actual_price_change','spy']).plot(kind='line',figsize=(16,8))\nplt.xticks(values,rotation = 45)\nplt.xlabel('Year')\nplt.ylabel('Change in %')\nplt.title('SPY v/s % change in Actual Price v/s % change in Total Cost')",
   "outputs": [
    {
     "output_type": "execute_result",
     "execution_count": 38,
     "data": {
      "text/plain": "Text(0.5, 1.0, 'SPY v/s % change in Actual Price v/s % change in Total Cost')"
     },
     "metadata": {}
    },
    {
     "data": {
      "text/plain": "<Figure size 1152x576 with 1 Axes>",
      "image/png": "[encoded data removed]"
     },
     "metadata": {
      "needs_background": "light",
      "image/png": {
       "width": 952,
       "height": 511
      }
     },
     "output_type": "display_data"
    }
   ],
   "execution_count": null
  },
  {
   "cell_type": "code",
   "metadata": {
    "cell_id": "ffd7eea2-4d23-465a-b1c2-20b2891ee170",
    "tags": [],
    "deepnote_to_be_reexecuted": false,
    "source_hash": "f596aed7",
    "execution_start": 1647578551755,
    "execution_millis": 156,
    "deepnote_cell_type": "code",
    "deepnote_cell_height": 487.1875,
    "deepnote_output_heights": [
     21.1875,
     266
    ]
   },
   "source": "#Plotting a bar chart to gauge the difference in 20-year change in actual and calculated price.\ntwenty_year_change=[(big_mac_cost_df.get('total_cost').loc[2020]-big_mac_cost_df.get('total_cost').loc[2000])/big_mac_cost_df.get('total_cost').loc[2000]*100, (big_mac_cost_df.get('actual_price').loc[2020]-big_mac_cost_df.get('actual_price').loc[2000])/big_mac_cost_df.get('actual_price').loc[2000]*100]\nplt.bar(height=twenty_year_change,x=['Total Cost','Actual Price'])\nplt.ylabel('Change in %')\nplt.title('20 Year change in actual and calculated price')",
   "outputs": [
    {
     "output_type": "execute_result",
     "execution_count": 39,
     "data": {
      "text/plain": "Text(0.5, 1.0, '20 Year change in actual and calculated price')"
     },
     "metadata": {}
    },
    {
     "data": {
      "text/plain": "<Figure size 432x288 with 1 Axes>",
      "image/png": "[encoded data removed]"
     },
     "metadata": {
      "needs_background": "light",
      "image/png": {
       "width": 389,
       "height": 264
      }
     },
     "output_type": "display_data"
    }
   ],
   "execution_count": null
  },
  {
   "cell_type": "code",
   "metadata": {
    "cell_id": "0d719ec6-855c-4dfd-8b04-19bfc22e0e9d",
    "tags": [],
    "deepnote_to_be_reexecuted": false,
    "source_hash": "c3886165",
    "execution_start": 1647578551913,
    "execution_millis": 5,
    "deepnote_cell_type": "code",
    "deepnote_cell_height": 136.1875,
    "deepnote_output_heights": [
     21.1875
    ]
   },
   "source": "#20 Year change in S&P500\n(spy.iloc[-1].get('High')-spy.iloc[0].get('Low'))/spy.iloc[0].get('Low')",
   "outputs": [
    {
     "output_type": "execute_result",
     "execution_count": 40,
     "data": {
      "text/plain": "1.6040660549929409"
     },
     "metadata": {}
    }
   ],
   "execution_count": null
  },
  {
   "cell_type": "code",
   "metadata": {
    "cell_id": "0a436fbc-be0b-464f-93ea-2f0bdb2f0110",
    "tags": [],
    "deepnote_to_be_reexecuted": false,
    "source_hash": "50d2579c",
    "execution_start": 1647578551922,
    "execution_millis": 222,
    "deepnote_cell_type": "code",
    "deepnote_cell_height": 487.1875,
    "deepnote_output_heights": [
     21.1875,
     266
    ]
   },
   "source": "#Bar Chart to gauge the overall 20 year percentage change in actual and calculated price along with S&P500\ntwenty_year_change=[(big_mac_cost_df.get('total_cost').loc[2020]-big_mac_cost_df.get('total_cost').loc[2000])/big_mac_cost_df.get('total_cost').loc[2000]*100, (big_mac_cost_df.get('actual_price').loc[2020]-big_mac_cost_df.get('actual_price').loc[2000])/big_mac_cost_df.get('actual_price').loc[2000]*100, (spy.iloc[-1].get('High')-spy.iloc[0].get('Low'))/spy.iloc[0].get('Low')*100]\nplt.bar(height=twenty_year_change,x=['Total Cost','Actual Price','SPY Returns'])\nplt.ylabel('Change in %')\nplt.title('20 Year change in SPY, actual and calculated price')",
   "outputs": [
    {
     "output_type": "execute_result",
     "execution_count": 41,
     "data": {
      "text/plain": "Text(0.5, 1.0, '20 Year change in SPY, actual and calculated price')"
     },
     "metadata": {}
    },
    {
     "data": {
      "text/plain": "<Figure size 432x288 with 1 Axes>",
      "image/png": "[encoded data removed]"
     },
     "metadata": {
      "needs_background": "light",
      "image/png": {
       "width": 389,
       "height": 264
      }
     },
     "output_type": "display_data"
    }
   ],
   "execution_count": null
  },
  {
   "cell_type": "code",
   "metadata": {
    "cell_id": "e1ba03ba-82b6-4a33-9dba-3ad9a4cd4071",
    "tags": [],
    "deepnote_to_be_reexecuted": false,
    "source_hash": "dd0b3083",
    "execution_start": 1647578552149,
    "execution_millis": 27,
    "deepnote_cell_type": "code",
    "deepnote_cell_height": 135
   },
   "source": "#Calculating change in annual stock price of mcdonalds\nmcd_change=[]\nfor i in range(2000,2021):\n    mcd_change.append((mcd_cleaned[mcd_cleaned.get('year')==i].iloc[-1].get('High')-mcd_cleaned[mcd_cleaned.get('year')==i].iloc[0].get('Low'))/mcd_cleaned[mcd_cleaned.get('year')==i].iloc[0].get('Low'))",
   "outputs": [],
   "execution_count": null
  },
  {
   "cell_type": "code",
   "metadata": {
    "cell_id": "f0196eac-87bd-4054-98a6-91a3c992d0b8",
    "tags": [],
    "deepnote_to_be_reexecuted": false,
    "source_hash": "abb68edf",
    "execution_start": 1647578552219,
    "execution_millis": 1,
    "deepnote_cell_type": "code",
    "deepnote_cell_height": 81
   },
   "source": "big_mac_cost_df=big_mac_cost_df.assign(MCD=mcd_change)",
   "outputs": [],
   "execution_count": null
  },
  {
   "cell_type": "code",
   "metadata": {
    "cell_id": "78ee96aa-cd89-4ba2-b109-09d040d6cf91",
    "tags": [],
    "deepnote_to_be_reexecuted": false,
    "source_hash": "eab78f05",
    "execution_start": 1647578552220,
    "execution_millis": 439,
    "deepnote_cell_type": "code",
    "deepnote_cell_height": 736.265625,
    "deepnote_output_heights": [
     21.1875,
     497.09375
    ]
   },
   "source": "#Plotting a line graph to gauge the %change in SPY, Actual Price and Total Cost\nbig_mac_cost_df.get(['total_cost_change','actual_price_change','MCD']).plot(kind='line',figsize=(16,8))\nplt.xticks(values,rotation = 45)\nplt.xlabel('Year')\nplt.ylabel('Change in %')\nplt.title('$MCD v/s % change in Actual Price v/s % change in Total Cost')",
   "outputs": [
    {
     "output_type": "execute_result",
     "execution_count": 44,
     "data": {
      "text/plain": "Text(0.5, 1.0, '$MCD v/s % change in Actual Price v/s % change in Total Cost')"
     },
     "metadata": {}
    },
    {
     "data": {
      "text/plain": "<Figure size 1152x576 with 1 Axes>",
      "image/png": "[encoded data removed]"
     },
     "metadata": {
      "needs_background": "light",
      "image/png": {
       "width": 952,
       "height": 511
      }
     },
     "output_type": "display_data"
    }
   ],
   "execution_count": null
  },
  {
   "cell_type": "code",
   "source": "big_mac_cost_df",
   "metadata": {
    "cell_id": "959f4b1d-f4d0-40d1-83fc-545050a276d3",
    "tags": [],
    "deepnote_to_be_reexecuted": false,
    "source_hash": "9eb15d65",
    "execution_start": 1647578827407,
    "execution_millis": 27,
    "deepnote_table_state": {
     "pageSize": 10,
     "pageIndex": 0,
     "filters": [],
     "sortBy": []
    },
    "deepnote_table_loading": false,
    "deepnote_cell_type": "code",
    "deepnote_cell_height": 614.796875
   },
   "outputs": [
    {
     "output_type": "execute_result",
     "execution_count": 46,
     "data": {
      "application/vnd.deepnote.dataframe.v3+json": {
       "column_count": 20,
       "row_count": 21,
       "columns": [
        {
         "name": "bun",
         "dtype": "float64",
         "stats": {
          "unique_count": 21,
          "nan_count": 0,
          "min": "0.9301666666666667",
          "max": "1.4516666666666669",
          "histogram": [
           {
            "bin_start": 0.9301666666666667,
            "bin_end": 0.9823166666666667,
            "count": 2
           },
           {
            "bin_start": 0.9823166666666667,
            "bin_end": 1.0344666666666666,
            "count": 3
           },
           {
            "bin_start": 1.0344666666666666,
            "bin_end": 1.0866166666666668,
            "count": 2
           },
           {
            "bin_start": 1.0866166666666668,
            "bin_end": 1.1387666666666667,
            "count": 0
           },
           {
            "bin_start": 1.1387666666666667,
            "bin_end": 1.1909166666666668,
            "count": 0
           },
           {
            "bin_start": 1.1909166666666668,
            "bin_end": 1.2430666666666668,
            "count": 1
           },
           {
            "bin_start": 1.2430666666666668,
            "bin_end": 1.2952166666666667,
            "count": 1
           },
           {
            "bin_start": 1.2952166666666667,
            "bin_end": 1.3473666666666668,
            "count": 2
           },
           {
            "bin_start": 1.3473666666666668,
            "bin_end": 1.399516666666667,
            "count": 4
           },
           {
            "bin_start": 1.399516666666667,
            "bin_end": 1.4516666666666669,
            "count": 6
           }
          ]
         }
        },
        {
         "name": "beef_patty",
         "dtype": "float64",
         "stats": {
          "unique_count": 21,
          "nan_count": 0,
          "min": "1.569416666666667",
          "max": "4.166833333333334",
          "histogram": [
           {
            "bin_start": 1.569416666666667,
            "bin_end": 1.8291583333333334,
            "count": 3
           },
           {
            "bin_start": 1.8291583333333334,
            "bin_end": 2.0889,
            "count": 1
           },
           {
            "bin_start": 2.0889,
            "bin_end": 2.348641666666667,
            "count": 6
           },
           {
            "bin_start": 2.348641666666667,
            "bin_end": 2.6083833333333333,
            "count": 1
           },
           {
            "bin_start": 2.6083833333333333,
            "bin_end": 2.868125,
            "count": 2
           },
           {
            "bin_start": 2.868125,
            "bin_end": 3.127866666666667,
            "count": 0
           },
           {
            "bin_start": 3.127866666666667,
            "bin_end": 3.3876083333333336,
            "count": 0
           },
           {
            "bin_start": 3.3876083333333336,
            "bin_end": 3.6473500000000003,
            "count": 2
           },
           {
            "bin_start": 3.6473500000000003,
            "bin_end": 3.907091666666667,
            "count": 4
           },
           {
            "bin_start": 3.907091666666667,
            "bin_end": 4.166833333333334,
            "count": 2
           }
          ]
         }
        },
        {
         "name": "cheese",
         "dtype": "float64",
         "stats": {
          "unique_count": 21,
          "nan_count": 0,
          "min": "3.829916666666667",
          "max": "5.625416666666666",
          "histogram": [
           {
            "bin_start": 3.829916666666667,
            "bin_end": 4.009466666666667,
            "count": 2
           },
           {
            "bin_start": 4.009466666666667,
            "bin_end": 4.189016666666667,
            "count": 1
           },
           {
            "bin_start": 4.189016666666667,
            "bin_end": 4.368566666666667,
            "count": 4
           },
           {
            "bin_start": 4.368566666666667,
            "bin_end": 4.548116666666667,
            "count": 1
           },
           {
            "bin_start": 4.548116666666667,
            "bin_end": 4.727666666666667,
            "count": 3
           },
           {
            "bin_start": 4.727666666666667,
            "bin_end": 4.907216666666667,
            "count": 1
           },
           {
            "bin_start": 4.907216666666667,
            "bin_end": 5.086766666666667,
            "count": 0
           },
           {
            "bin_start": 5.086766666666667,
            "bin_end": 5.2663166666666665,
            "count": 2
           },
           {
            "bin_start": 5.2663166666666665,
            "bin_end": 5.445866666666666,
            "count": 3
           },
           {
            "bin_start": 5.445866666666666,
            "bin_end": 5.625416666666666,
            "count": 4
           }
          ]
         }
        },
        {
         "name": "lettuce",
         "dtype": "float64",
         "stats": {
          "unique_count": 21,
          "nan_count": 0,
          "min": "0.7359166666666667",
          "max": "1.2945",
          "histogram": [
           {
            "bin_start": 0.7359166666666667,
            "bin_end": 0.791775,
            "count": 1
           },
           {
            "bin_start": 0.791775,
            "bin_end": 0.8476333333333333,
            "count": 3
           },
           {
            "bin_start": 0.8476333333333333,
            "bin_end": 0.9034916666666666,
            "count": 5
           },
           {
            "bin_start": 0.9034916666666666,
            "bin_end": 0.9593499999999999,
            "count": 4
           },
           {
            "bin_start": 0.9593499999999999,
            "bin_end": 1.0152083333333333,
            "count": 2
           },
           {
            "bin_start": 1.0152083333333333,
            "bin_end": 1.0710666666666666,
            "count": 3
           },
           {
            "bin_start": 1.0710666666666666,
            "bin_end": 1.126925,
            "count": 0
           },
           {
            "bin_start": 1.126925,
            "bin_end": 1.1827833333333333,
            "count": 1
           },
           {
            "bin_start": 1.1827833333333333,
            "bin_end": 1.2386416666666666,
            "count": 1
           },
           {
            "bin_start": 1.2386416666666666,
            "bin_end": 1.2945,
            "count": 1
           }
          ]
         }
        },
        {
         "name": "onions",
         "dtype": "float64",
         "stats": {
          "unique_count": 19,
          "nan_count": 0,
          "min": "0.08089285714285714",
          "max": "0.14375000000000002",
          "histogram": [
           {
            "bin_start": 0.08089285714285714,
            "bin_end": 0.08717857142857142,
            "count": 1
           },
           {
            "bin_start": 0.08717857142857142,
            "bin_end": 0.09346428571428572,
            "count": 0
           },
           {
            "bin_start": 0.09346428571428572,
            "bin_end": 0.09975,
            "count": 3
           },
           {
            "bin_start": 0.09975,
            "bin_end": 0.10603571428571429,
            "count": 1
           },
           {
            "bin_start": 0.10603571428571429,
            "bin_end": 0.11232142857142857,
            "count": 3
           },
           {
            "bin_start": 0.11232142857142857,
            "bin_end": 0.11860714285714287,
            "count": 1
           },
           {
            "bin_start": 0.11860714285714287,
            "bin_end": 0.12489285714285715,
            "count": 5
           },
           {
            "bin_start": 0.12489285714285715,
            "bin_end": 0.13117857142857145,
            "count": 2
           },
           {
            "bin_start": 0.13117857142857145,
            "bin_end": 0.13746428571428573,
            "count": 2
           },
           {
            "bin_start": 0.13746428571428573,
            "bin_end": 0.14375000000000002,
            "count": 3
           }
          ]
         }
        },
        {
         "name": "cucumber",
         "dtype": "float64",
         "stats": {
          "unique_count": 17,
          "nan_count": 0,
          "min": "0.93",
          "max": "1.2",
          "histogram": [
           {
            "bin_start": 0.93,
            "bin_end": 0.9570000000000001,
            "count": 3
           },
           {
            "bin_start": 0.9570000000000001,
            "bin_end": 0.984,
            "count": 2
           },
           {
            "bin_start": 0.984,
            "bin_end": 1.0110000000000001,
            "count": 1
           },
           {
            "bin_start": 1.0110000000000001,
            "bin_end": 1.038,
            "count": 1
           },
           {
            "bin_start": 1.038,
            "bin_end": 1.065,
            "count": 1
           },
           {
            "bin_start": 1.065,
            "bin_end": 1.092,
            "count": 2
           },
           {
            "bin_start": 1.092,
            "bin_end": 1.119,
            "count": 1
           },
           {
            "bin_start": 1.119,
            "bin_end": 1.146,
            "count": 3
           },
           {
            "bin_start": 1.146,
            "bin_end": 1.173,
            "count": 3
           },
           {
            "bin_start": 1.173,
            "bin_end": 1.2,
            "count": 4
           }
          ]
         }
        },
        {
         "name": "actual_price",
         "dtype": "float64",
         "stats": {
          "unique_count": 20,
          "nan_count": 0,
          "min": "2.49",
          "max": "5.6899999999999995",
          "histogram": [
           {
            "bin_start": 2.49,
            "bin_end": 2.81,
            "count": 4
           },
           {
            "bin_start": 2.81,
            "bin_end": 3.13,
            "count": 3
           },
           {
            "bin_start": 3.13,
            "bin_end": 3.45,
            "count": 1
           },
           {
            "bin_start": 3.45,
            "bin_end": 3.77,
            "count": 3
           },
           {
            "bin_start": 3.77,
            "bin_end": 4.09,
            "count": 1
           },
           {
            "bin_start": 4.09,
            "bin_end": 4.41,
            "count": 1
           },
           {
            "bin_start": 4.41,
            "bin_end": 4.73,
            "count": 2
           },
           {
            "bin_start": 4.73,
            "bin_end": 5.05,
            "count": 2
           },
           {
            "bin_start": 5.05,
            "bin_end": 5.369999999999999,
            "count": 1
           },
           {
            "bin_start": 5.369999999999999,
            "bin_end": 5.6899999999999995,
            "count": 3
           }
          ]
         }
        },
        {
         "name": "spy",
         "dtype": "float64",
         "stats": {
          "unique_count": 21,
          "nan_count": 0,
          "min": "-0.36773701603084846",
          "max": "0.30973778767967075",
          "histogram": [
           {
            "bin_start": -0.36773701603084846,
            "bin_end": -0.2999895356597966,
            "count": 1
           },
           {
            "bin_start": -0.2999895356597966,
            "bin_end": -0.23224205528874464,
            "count": 0
           },
           {
            "bin_start": -0.23224205528874464,
            "bin_end": -0.16449457491769273,
            "count": 1
           },
           {
            "bin_start": -0.16449457491769273,
            "bin_end": -0.09674709454664082,
            "count": 0
           },
           {
            "bin_start": -0.09674709454664082,
            "bin_end": -0.028999614175588884,
            "count": 3
           },
           {
            "bin_start": -0.028999614175588884,
            "bin_end": 0.038747866195463,
            "count": 2
           },
           {
            "bin_start": 0.038747866195463,
            "bin_end": 0.10649534656651488,
            "count": 3
           },
           {
            "bin_start": 0.10649534656651488,
            "bin_end": 0.17424282693756682,
            "count": 6
           },
           {
            "bin_start": 0.17424282693756682,
            "bin_end": 0.24199030730861876,
            "count": 1
           },
           {
            "bin_start": 0.24199030730861876,
            "bin_end": 0.30973778767967075,
            "count": 4
           }
          ]
         }
        },
        {
         "name": "bun_weighted",
         "dtype": "float64",
         "stats": {
          "unique_count": 21,
          "nan_count": 0,
          "min": "0.15161716666666666",
          "max": "0.2366216666666667",
          "histogram": [
           {
            "bin_start": 0.15161716666666666,
            "bin_end": 0.16011761666666666,
            "count": 2
           },
           {
            "bin_start": 0.16011761666666666,
            "bin_end": 0.16861806666666668,
            "count": 3
           },
           {
            "bin_start": 0.16861806666666668,
            "bin_end": 0.17711851666666667,
            "count": 2
           },
           {
            "bin_start": 0.17711851666666667,
            "bin_end": 0.18561896666666666,
            "count": 0
           },
           {
            "bin_start": 0.18561896666666666,
            "bin_end": 0.19411941666666668,
            "count": 0
           },
           {
            "bin_start": 0.19411941666666668,
            "bin_end": 0.20261986666666668,
            "count": 1
           },
           {
            "bin_start": 0.20261986666666668,
            "bin_end": 0.2111203166666667,
            "count": 1
           },
           {
            "bin_start": 0.2111203166666667,
            "bin_end": 0.2196207666666667,
            "count": 2
           },
           {
            "bin_start": 0.2196207666666667,
            "bin_end": 0.22812121666666668,
            "count": 4
           },
           {
            "bin_start": 0.22812121666666668,
            "bin_end": 0.2366216666666667,
            "count": 6
           }
          ]
         }
        },
        {
         "name": "beef_patty_weighted",
         "dtype": "float64",
         "stats": {
          "unique_count": 21,
          "nan_count": 0,
          "min": "0.31074450000000003",
          "max": "0.8250330000000001",
          "histogram": [
           {
            "bin_start": 0.31074450000000003,
            "bin_end": 0.36217335000000006,
            "count": 3
           },
           {
            "bin_start": 0.36217335000000006,
            "bin_end": 0.41360220000000003,
            "count": 1
           },
           {
            "bin_start": 0.41360220000000003,
            "bin_end": 0.46503105000000006,
            "count": 6
           },
           {
            "bin_start": 0.46503105000000006,
            "bin_end": 0.5164599000000001,
            "count": 1
           },
           {
            "bin_start": 0.5164599000000001,
            "bin_end": 0.56788875,
            "count": 2
           },
           {
            "bin_start": 0.56788875,
            "bin_end": 0.6193176,
            "count": 0
           },
           {
            "bin_start": 0.6193176,
            "bin_end": 0.6707464500000001,
            "count": 0
           },
           {
            "bin_start": 0.6707464500000001,
            "bin_end": 0.7221753000000002,
            "count": 2
           },
           {
            "bin_start": 0.7221753000000002,
            "bin_end": 0.7736041500000002,
            "count": 4
           },
           {
            "bin_start": 0.7736041500000002,
            "bin_end": 0.8250330000000001,
            "count": 2
           }
          ]
         }
        },
        {
         "name": "cheese_weighted",
         "dtype": "float64",
         "stats": {
          "unique_count": 21,
          "nan_count": 0,
          "min": "0.11489750000000001",
          "max": "0.16876249999999998",
          "histogram": [
           {
            "bin_start": 0.11489750000000001,
            "bin_end": 0.12028400000000002,
            "count": 2
           },
           {
            "bin_start": 0.12028400000000002,
            "bin_end": 0.12567050000000002,
            "count": 1
           },
           {
            "bin_start": 0.12567050000000002,
            "bin_end": 0.131057,
            "count": 4
           },
           {
            "bin_start": 0.131057,
            "bin_end": 0.1364435,
            "count": 1
           },
           {
            "bin_start": 0.1364435,
            "bin_end": 0.14183,
            "count": 3
           },
           {
            "bin_start": 0.14183,
            "bin_end": 0.1472165,
            "count": 1
           },
           {
            "bin_start": 0.1472165,
            "bin_end": 0.152603,
            "count": 0
           },
           {
            "bin_start": 0.152603,
            "bin_end": 0.1579895,
            "count": 2
           },
           {
            "bin_start": 0.1579895,
            "bin_end": 0.163376,
            "count": 3
           },
           {
            "bin_start": 0.163376,
            "bin_end": 0.16876249999999998,
            "count": 4
           }
          ]
         }
        },
        {
         "name": "lettuce_weighted",
         "dtype": "float64",
         "stats": {
          "unique_count": 21,
          "nan_count": 0,
          "min": "0.04562683333333333",
          "max": "0.080259",
          "histogram": [
           {
            "bin_start": 0.04562683333333333,
            "bin_end": 0.049090049999999996,
            "count": 1
           },
           {
            "bin_start": 0.049090049999999996,
            "bin_end": 0.05255326666666667,
            "count": 3
           },
           {
            "bin_start": 0.05255326666666667,
            "bin_end": 0.05601648333333333,
            "count": 5
           },
           {
            "bin_start": 0.05601648333333333,
            "bin_end": 0.059479699999999996,
            "count": 4
           },
           {
            "bin_start": 0.059479699999999996,
            "bin_end": 0.06294291666666667,
            "count": 2
           },
           {
            "bin_start": 0.06294291666666667,
            "bin_end": 0.06640613333333334,
            "count": 3
           },
           {
            "bin_start": 0.06640613333333334,
            "bin_end": 0.06986935,
            "count": 0
           },
           {
            "bin_start": 0.06986935,
            "bin_end": 0.07333256666666667,
            "count": 1
           },
           {
            "bin_start": 0.07333256666666667,
            "bin_end": 0.07679578333333334,
            "count": 1
           },
           {
            "bin_start": 0.07679578333333334,
            "bin_end": 0.080259,
            "count": 1
           }
          ]
         }
        },
        {
         "name": "cucumber_weighted",
         "dtype": "float64",
         "stats": {
          "unique_count": 17,
          "nan_count": 0,
          "min": "0.01395",
          "max": "0.018",
          "histogram": [
           {
            "bin_start": 0.01395,
            "bin_end": 0.014355,
            "count": 3
           },
           {
            "bin_start": 0.014355,
            "bin_end": 0.01476,
            "count": 2
           },
           {
            "bin_start": 0.01476,
            "bin_end": 0.015165,
            "count": 1
           },
           {
            "bin_start": 0.015165,
            "bin_end": 0.01557,
            "count": 1
           },
           {
            "bin_start": 0.01557,
            "bin_end": 0.015975,
            "count": 1
           },
           {
            "bin_start": 0.015975,
            "bin_end": 0.01638,
            "count": 2
           },
           {
            "bin_start": 0.01638,
            "bin_end": 0.016784999999999998,
            "count": 1
           },
           {
            "bin_start": 0.016784999999999998,
            "bin_end": 0.01719,
            "count": 3
           },
           {
            "bin_start": 0.01719,
            "bin_end": 0.017595,
            "count": 3
           },
           {
            "bin_start": 0.017595,
            "bin_end": 0.018,
            "count": 4
           }
          ]
         }
        },
        {
         "name": "onions_weighted",
         "dtype": "float64",
         "stats": {
          "unique_count": 19,
          "nan_count": 0,
          "min": "0.0012133928571428571",
          "max": "0.00215625",
          "histogram": [
           {
            "bin_start": 0.0012133928571428571,
            "bin_end": 0.0013076785714285714,
            "count": 1
           },
           {
            "bin_start": 0.0013076785714285714,
            "bin_end": 0.0014019642857142857,
            "count": 0
           },
           {
            "bin_start": 0.0014019642857142857,
            "bin_end": 0.0014962500000000002,
            "count": 3
           },
           {
            "bin_start": 0.0014962500000000002,
            "bin_end": 0.0015905357142857145,
            "count": 1
           },
           {
            "bin_start": 0.0015905357142857145,
            "bin_end": 0.0016848214285714288,
            "count": 3
           },
           {
            "bin_start": 0.0016848214285714288,
            "bin_end": 0.001779107142857143,
            "count": 1
           },
           {
            "bin_start": 0.001779107142857143,
            "bin_end": 0.0018733928571428573,
            "count": 5
           },
           {
            "bin_start": 0.0018733928571428573,
            "bin_end": 0.0019676785714285716,
            "count": 2
           },
           {
            "bin_start": 0.0019676785714285716,
            "bin_end": 0.002061964285714286,
            "count": 2
           },
           {
            "bin_start": 0.002061964285714286,
            "bin_end": 0.00215625,
            "count": 3
           }
          ]
         }
        },
        {
         "name": "total_cost",
         "dtype": "float64",
         "stats": {
          "unique_count": 21,
          "nan_count": 0,
          "min": "0.6383359999999999",
          "max": "1.3164044166666669",
          "histogram": [
           {
            "bin_start": 0.6383359999999999,
            "bin_end": 0.7061428416666666,
            "count": 3
           },
           {
            "bin_start": 0.7061428416666666,
            "bin_end": 0.7739496833333332,
            "count": 1
           },
           {
            "bin_start": 0.7739496833333332,
            "bin_end": 0.841756525,
            "count": 3
           },
           {
            "bin_start": 0.841756525,
            "bin_end": 0.9095633666666667,
            "count": 4
           },
           {
            "bin_start": 0.9095633666666667,
            "bin_end": 0.9773702083333334,
            "count": 0
           },
           {
            "bin_start": 0.9773702083333334,
            "bin_end": 1.0451770500000002,
            "count": 2
           },
           {
            "bin_start": 1.0451770500000002,
            "bin_end": 1.1129838916666668,
            "count": 0
           },
           {
            "bin_start": 1.1129838916666668,
            "bin_end": 1.1807907333333336,
            "count": 3
           },
           {
            "bin_start": 1.1807907333333336,
            "bin_end": 1.2485975750000002,
            "count": 2
           },
           {
            "bin_start": 1.2485975750000002,
            "bin_end": 1.3164044166666669,
            "count": 3
           }
          ]
         }
        },
        {
         "name": "total_cost_change",
         "dtype": "float64",
         "stats": {
          "unique_count": 20,
          "nan_count": 1,
          "min": "-0.07951986719935589",
          "max": "0.1316098345538792",
          "histogram": [
           {
            "bin_start": -0.07951986719935589,
            "bin_end": -0.05840689702403238,
            "count": 1
           },
           {
            "bin_start": -0.05840689702403238,
            "bin_end": -0.03729392684870887,
            "count": 0
           },
           {
            "bin_start": -0.03729392684870887,
            "bin_end": -0.01618095667338537,
            "count": 2
           },
           {
            "bin_start": -0.01618095667338537,
            "bin_end": 0.004932013501938143,
            "count": 2
           },
           {
            "bin_start": 0.004932013501938143,
            "bin_end": 0.026044983677261657,
            "count": 2
           },
           {
            "bin_start": 0.026044983677261657,
            "bin_end": 0.047157953852585144,
            "count": 2
           },
           {
            "bin_start": 0.047157953852585144,
            "bin_end": 0.06827092402790866,
            "count": 6
           },
           {
            "bin_start": 0.06827092402790866,
            "bin_end": 0.08938389420323217,
            "count": 3
           },
           {
            "bin_start": 0.08938389420323217,
            "bin_end": 0.11049686437855569,
            "count": 0
           },
           {
            "bin_start": 0.11049686437855569,
            "bin_end": 0.1316098345538792,
            "count": 2
           }
          ]
         }
        },
        {
         "name": "actual_price_change",
         "dtype": "float64",
         "stats": {
          "unique_count": 20,
          "nan_count": 1,
          "min": "-0.019685039370078705",
          "max": "0.11166818601238249",
          "histogram": [
           {
            "bin_start": -0.019685039370078705,
            "bin_end": -0.006549716831832586,
            "count": 1
           },
           {
            "bin_start": -0.006549716831832586,
            "bin_end": 0.006585605706413533,
            "count": 2
           },
           {
            "bin_start": 0.006585605706413533,
            "bin_end": 0.019720928244659652,
            "count": 2
           },
           {
            "bin_start": 0.019720928244659652,
            "bin_end": 0.03285625078290577,
            "count": 2
           },
           {
            "bin_start": 0.03285625078290577,
            "bin_end": 0.04599157332115189,
            "count": 3
           },
           {
            "bin_start": 0.04599157332115189,
            "bin_end": 0.05912689585939801,
            "count": 5
           },
           {
            "bin_start": 0.05912689585939801,
            "bin_end": 0.07226221839764413,
            "count": 2
           },
           {
            "bin_start": 0.07226221839764413,
            "bin_end": 0.08539754093589025,
            "count": 1
           },
           {
            "bin_start": 0.08539754093589025,
            "bin_end": 0.09853286347413637,
            "count": 1
           },
           {
            "bin_start": 0.09853286347413637,
            "bin_end": 0.11166818601238249,
            "count": 1
           }
          ]
         }
        },
        {
         "name": "inflation",
         "dtype": "float64",
         "stats": {
          "unique_count": 21,
          "nan_count": 0,
          "min": "-0.0035554626629975",
          "max": "0.0383910029665101",
          "histogram": [
           {
            "bin_start": -0.0035554626629975,
            "bin_end": 0.0006391838999532606,
            "count": 1
           },
           {
            "bin_start": 0.0006391838999532606,
            "bin_end": 0.0048338304629040214,
            "count": 1
           },
           {
            "bin_start": 0.0048338304629040214,
            "bin_end": 0.009028477025854782,
            "count": 0
           },
           {
            "bin_start": 0.009028477025854782,
            "bin_end": 0.013223123588805542,
            "count": 2
           },
           {
            "bin_start": 0.013223123588805542,
            "bin_end": 0.0174177701517563,
            "count": 4
           },
           {
            "bin_start": 0.0174177701517563,
            "bin_end": 0.021612416714707063,
            "count": 3
           },
           {
            "bin_start": 0.021612416714707063,
            "bin_end": 0.025807063277657825,
            "count": 2
           },
           {
            "bin_start": 0.025807063277657825,
            "bin_end": 0.030001709840608584,
            "count": 3
           },
           {
            "bin_start": 0.030001709840608584,
            "bin_end": 0.03419635640355934,
            "count": 4
           },
           {
            "bin_start": 0.03419635640355934,
            "bin_end": 0.0383910029665101,
            "count": 1
           }
          ]
         }
        },
        {
         "name": "change_gdp",
         "dtype": "float64",
         "stats": {
          "unique_count": 21,
          "nan_count": 0,
          "min": "-0.016628701028840953",
          "max": "0.06425939568589345",
          "histogram": [
           {
            "bin_start": -0.016628701028840953,
            "bin_end": -0.008539891357367513,
            "count": 2
           },
           {
            "bin_start": -0.008539891357367513,
            "bin_end": -0.0004510816858940732,
            "count": 0
           },
           {
            "bin_start": -0.0004510816858940732,
            "bin_end": 0.007637727985579365,
            "count": 0
           },
           {
            "bin_start": 0.007637727985579365,
            "bin_end": 0.015726537657052807,
            "count": 1
           },
           {
            "bin_start": 0.015726537657052807,
            "bin_end": 0.02381534732852625,
            "count": 1
           },
           {
            "bin_start": 0.02381534732852625,
            "bin_end": 0.03190415699999968,
            "count": 1
           },
           {
            "bin_start": 0.03190415699999968,
            "bin_end": 0.039992966671473125,
            "count": 4
           },
           {
            "bin_start": 0.039992966671473125,
            "bin_end": 0.04808177634294657,
            "count": 5
           },
           {
            "bin_start": 0.04808177634294657,
            "bin_end": 0.05617058601442,
            "count": 4
           },
           {
            "bin_start": 0.05617058601442,
            "bin_end": 0.06425939568589345,
            "count": 3
           }
          ]
         }
        },
        {
         "name": "MCD",
         "dtype": "float64",
         "stats": {
          "unique_count": 21,
          "nan_count": 0,
          "min": "-0.38719511951349234",
          "max": "0.560501547792507",
          "histogram": [
           {
            "bin_start": -0.38719511951349234,
            "bin_end": -0.2924254527828924,
            "count": 1
           },
           {
            "bin_start": -0.2924254527828924,
            "bin_end": -0.19765578605229245,
            "count": 0
           },
           {
            "bin_start": -0.19765578605229245,
            "bin_end": -0.1028861193216925,
            "count": 3
           },
           {
            "bin_start": -0.1028861193216925,
            "bin_end": -0.00811645259109256,
            "count": 1
           },
           {
            "bin_start": -0.00811645259109256,
            "bin_end": 0.08665321413950738,
            "count": 5
           },
           {
            "bin_start": 0.08665321413950738,
            "bin_end": 0.18142288087010733,
            "count": 3
           },
           {
            "bin_start": 0.18142288087010733,
            "bin_end": 0.27619254760070727,
            "count": 1
           },
           {
            "bin_start": 0.27619254760070727,
            "bin_end": 0.3709622143313072,
            "count": 4
           },
           {
            "bin_start": 0.3709622143313072,
            "bin_end": 0.46573188106190716,
            "count": 2
           },
           {
            "bin_start": 0.46573188106190716,
            "bin_end": 0.560501547792507,
            "count": 1
           }
          ]
         }
        },
        {
         "name": "_deepnote_index_column",
         "dtype": "int64"
        }
       ],
       "rows": [
        {
         "bun": 0.9301666666666667,
         "beef_patty": 1.569416666666667,
         "cheese": 3.829916666666667,
         "lettuce": 0.7359166666666667,
         "onions": 0.09999999999999999,
         "cucumber": 0.93,
         "actual_price": 2.51,
         "spy": -0.06668114682884449,
         "bun_weighted": 0.15161716666666666,
         "beef_patty_weighted": 0.31074450000000003,
         "cheese_weighted": 0.11489750000000001,
         "lettuce_weighted": 0.04562683333333333,
         "cucumber_weighted": 0.01395,
         "onions_weighted": 0.0014999999999999998,
         "total_cost": 0.6383359999999999,
         "total_cost_change": "nan",
         "actual_price_change": "nan",
         "inflation": 0.0337685727149935,
         "change_gdp": 0.054097561364861546,
         "MCD": -0.11396468699839486,
         "_deepnote_index_column": 2000
        },
        {
         "bun": 0.9990833333333334,
         "beef_patty": 1.7141666666666666,
         "cheese": 4.026916666666667,
         "lettuce": 0.7928333333333333,
         "onions": 0.09553571428571428,
         "cucumber": 0.95,
         "actual_price": 2.54,
         "spy": -0.08758452217816022,
         "bun_weighted": 0.16285058333333335,
         "beef_patty_weighted": 0.339405,
         "cheese_weighted": 0.1208075,
         "lettuce_weighted": 0.04915566666666666,
         "cucumber_weighted": 0.014249999999999999,
         "onions_weighted": 0.0014330357142857142,
         "total_cost": 0.6879017857142857,
         "total_cost_change": 0.07764842608639633,
         "actual_price_change": 0.01195219123505975,
         "inflation": 0.0282617111885402,
         "change_gdp": 0.021533778521205527,
         "MCD": -0.18484849640817352,
         "_deepnote_index_column": 2001
        },
        {
         "bun": 1.0155833333333333,
         "beef_patty": 1.71275,
         "cheese": 4.218083333333333,
         "lettuce": 0.8611666666666666,
         "onions": 0.10803571428571428,
         "cucumber": 0.98,
         "actual_price": 2.49,
         "spy": -0.22300323168315134,
         "bun_weighted": 0.16554008333333334,
         "beef_patty_weighted": 0.3391245,
         "cheese_weighted": 0.1265425,
         "lettuce_weighted": 0.05339233333333333,
         "cucumber_weighted": 0.0147,
         "onions_weighted": 0.0016205357142857141,
         "total_cost": 0.7009199523809524,
         "total_cost_change": 0.018924455404849994,
         "actual_price_change": -0.019685039370078705,
         "inflation": 0.0158603162650603,
         "change_gdp": 0.037612618211307014,
         "MCD": -0.38719511951349234,
         "_deepnote_index_column": 2002
        },
        {
         "bun": 1.00075,
         "beef_patty": 1.9504166666666667,
         "cheese": 3.9484166666666667,
         "lettuce": 0.823,
         "onions": 0.12232142857142857,
         "cucumber": 0.97,
         "actual_price": 2.71,
         "spy": 0.259543658119717,
         "bun_weighted": 0.16312225000000002,
         "beef_patty_weighted": 0.38618250000000004,
         "cheese_weighted": 0.1184525,
         "lettuce_weighted": 0.051025999999999995,
         "cucumber_weighted": 0.014549999999999999,
         "onions_weighted": 0.0018348214285714285,
         "total_cost": 0.7351680714285714,
         "total_cost_change": 0.04886166948348625,
         "actual_price_change": 0.08835341365461846,
         "inflation": 0.0227009497336113,
         "change_gdp": 0.06425939568589345,
         "MCD": 0.560501547792507,
         "_deepnote_index_column": 2003
        },
        {
         "bun": 0.9694166666666666,
         "beef_patty": 2.1591666666666667,
         "cheese": 4.272916666666666,
         "lettuce": 0.7978333333333333,
         "onions": 0.08089285714285714,
         "cucumber": 0.99,
         "actual_price": 2.9,
         "spy": 0.09870857016000782,
         "bun_weighted": 0.15801491666666667,
         "beef_patty_weighted": 0.42751500000000003,
         "cheese_weighted": 0.12818749999999998,
         "lettuce_weighted": 0.049465666666666665,
         "cucumber_weighted": 0.014849999999999999,
         "onions_weighted": 0.0012133928571428571,
         "total_cost": 0.7792464761904763,
         "total_cost_change": 0.05995690846074431,
         "actual_price_change": 0.07011070110701101,
         "inflation": 0.0267723669309173,
         "change_gdp": 0.06413226240660852,
         "MCD": 0.3158962272396303,
         "_deepnote_index_column": 2004
        },
        {
         "bun": 1.0403333333333333,
         "beef_patty": 2.2964166666666666,
         "cheese": 4.3815,
         "lettuce": 0.8701666666666666,
         "onions": 0.12053571428571429,
         "cucumber": 0.94,
         "actual_price": 3.06,
         "spy": 0.04303582958338098,
         "bun_weighted": 0.16957433333333333,
         "beef_patty_weighted": 0.4546905,
         "cheese_weighted": 0.131445,
         "lettuce_weighted": 0.05395033333333333,
         "cucumber_weighted": 0.014099999999999998,
         "onions_weighted": 0.0018080357142857143,
         "total_cost": 0.8255682023809524,
         "total_cost_change": 0.05944425493834826,
         "actual_price_change": 0.05517241379310356,
         "inflation": 0.0339274684549547,
         "change_gdp": 0.0636206901231191,
         "MCD": 0.08719086620717749,
         "_deepnote_index_column": 2005
        },
        {
         "bun": 1.0805,
         "beef_patty": 2.2211666666666665,
         "cheese": 4.254833333333333,
         "lettuce": 0.8654999999999999,
         "onions": 0.14375000000000002,
         "cucumber": 1.03,
         "actual_price": 3.125,
         "spy": 0.1459120024563228,
         "bun_weighted": 0.17612150000000001,
         "beef_patty_weighted": 0.439791,
         "cheese_weighted": 0.12764499999999998,
         "lettuce_weighted": 0.05366099999999999,
         "cucumber_weighted": 0.01545,
         "onions_weighted": 0.00215625,
         "total_cost": 0.8148247499999999,
         "total_cost_change": -0.01301340379870286,
         "actual_price_change": 0.0212418300653594,
         "inflation": 0.0322594410070407,
         "change_gdp": 0.05368846048889675,
         "MCD": 0.3457831107959262,
         "_deepnote_index_column": 2006
        },
        {
         "bun": 1.2073333333333334,
         "beef_patty": 2.2992500000000002,
         "cheese": 4.229916666666667,
         "lettuce": 0.9283333333333333,
         "onions": 0.09910714285714285,
         "cucumber": 1.06,
         "actual_price": 3.3150000000000004,
         "spy": 0.05008175940330833,
         "bun_weighted": 0.19679533333333335,
         "beef_patty_weighted": 0.4552515000000001,
         "cheese_weighted": 0.1268975,
         "lettuce_weighted": 0.057556666666666666,
         "cucumber_weighted": 0.0159,
         "onions_weighted": 0.0014866071428571428,
         "total_cost": 0.8538876071428573,
         "total_cost_change": 0.04794019467726951,
         "actual_price_change": 0.06080000000000019,
         "inflation": 0.0285267248150136,
         "change_gdp": 0.04811390100544477,
         "MCD": 0.3779310029128502,
         "_deepnote_index_column": 2007
        },
        {
         "bun": 1.3664166666666666,
         "beef_patty": 2.3433333333333333,
         "cheese": 4.725333333333333,
         "lettuce": 0.9053333333333334,
         "onions": 0.10625,
         "cucumber": 1.09,
         "actual_price": 3.57,
         "spy": -0.36773701603084846,
         "bun_weighted": 0.22272591666666666,
         "beef_patty_weighted": 0.46398,
         "cheese_weighted": 0.14176,
         "lettuce_weighted": 0.056130666666666676,
         "cucumber_weighted": 0.01635,
         "onions_weighted": 0.00159375,
         "total_cost": 0.9025403333333333,
         "total_cost_change": 0.056977904098257204,
         "actual_price_change": 0.07692307692307665,
         "inflation": 0.0383910029665101,
         "change_gdp": 0.012500188582335037,
         "MCD": 0.07773363357133951,
         "_deepnote_index_column": 2008
        },
        {
         "bun": 1.3874166666666667,
         "beef_patty": 2.220666666666667,
         "cheese": 4.66875,
         "lettuce": 0.9133333333333334,
         "onions": 0.13392857142857142,
         "cucumber": 1.14,
         "actual_price": 3.57,
         "spy": 0.25542576480117424,
         "bun_weighted": 0.2261489166666667,
         "beef_patty_weighted": 0.439692,
         "cheese_weighted": 0.1400625,
         "lettuce_weighted": 0.05662666666666667,
         "cucumber_weighted": 0.017099999999999997,
         "onions_weighted": 0.0020089285714285712,
         "total_cost": 0.881639011904762,
         "total_cost_change": -0.023158323962516825,
         "actual_price_change": 0,
         "inflation": -0.0035554626629975,
         "change_gdp": -0.016628701028840953,
         "MCD": 0.013987120919830212,
         "_deepnote_index_column": 2009
        }
       ]
      },
      "text/plain": "           bun  beef_patty    cheese   lettuce    onions  cucumber  \\\ndate                                                                 \n2000  0.930167    1.569417  3.829917  0.735917  0.100000      0.93   \n2001  0.999083    1.714167  4.026917  0.792833  0.095536      0.95   \n2002  1.015583    1.712750  4.218083  0.861167  0.108036      0.98   \n2003  1.000750    1.950417  3.948417  0.823000  0.122321      0.97   \n2004  0.969417    2.159167  4.272917  0.797833  0.080893      0.99   \n2005  1.040333    2.296417  4.381500  0.870167  0.120536      0.94   \n2006  1.080500    2.221167  4.254833  0.865500  0.143750      1.03   \n2007  1.207333    2.299250  4.229917  0.928333  0.099107      1.06   \n2008  1.366417    2.343333  4.725333  0.905333  0.106250      1.09   \n2009  1.387417    2.220667  4.668750  0.913333  0.133929      1.14   \n2010  1.373333    2.365917  4.709750  0.874667  0.139286      1.16   \n2011  1.444667    2.774833  5.418750  0.988833  0.097321      1.10   \n2012  1.417667    2.776917  5.625417  0.857000  0.126786      1.14   \n2013  1.406667    3.401667  5.557500  1.014636  0.133929      1.09   \n2014  1.401250    3.897333  5.542667  1.052750  0.121429      1.13   \n2015  1.441000    4.166833  5.379167  1.161500  0.138393      1.15   \n2016  1.371250    3.750083  5.234750  1.063583  0.122321      1.16   \n2017  1.332583    3.643000  4.895417  1.029333  0.115179      1.18   \n2018  1.286000    3.715333  5.135000  0.944000  0.111607      1.18   \n2019  1.297667    3.806500  5.307750  1.184333  0.130357      1.19   \n2020  1.451667    4.115417  5.496333  1.294500  0.118750      1.20   \n\n      actual_price       spy  bun_weighted  beef_patty_weighted  \\\ndate                                                              \n2000      2.510000 -0.066681      0.151617             0.310745   \n2001      2.540000 -0.087585      0.162851             0.339405   \n2002      2.490000 -0.223003      0.165540             0.339124   \n2003      2.710000  0.259544      0.163122             0.386183   \n2004      2.900000  0.098709      0.158015             0.427515   \n2005      3.060000  0.043036      0.169574             0.454690   \n2006      3.125000  0.145912      0.176122             0.439791   \n2007      3.315000  0.050082      0.196795             0.455252   \n2008      3.570000 -0.367737      0.222726             0.463980   \n2009      3.570000  0.255426      0.226149             0.439692   \n2010      3.656667  0.128778      0.223853             0.468452   \n2011      4.065000  0.005012      0.235481             0.549417   \n2012      4.262360  0.118732      0.231080             0.549830   \n2013      4.462031  0.276100      0.229287             0.673530   \n2014      4.709583  0.140892      0.228404             0.771672   \n2015      4.790000  0.008375      0.234883             0.825033   \n2016      4.985000  0.132132      0.223514             0.742516   \n2017      5.180000  0.199526      0.217211             0.721314   \n2018      5.395000 -0.064360      0.209618             0.735636   \n2019      5.660000  0.309738      0.211520             0.753687   \n2020      5.690000  0.161628      0.236622             0.814852   \n\n      cheese_weighted  lettuce_weighted  cucumber_weighted  onions_weighted  \\\ndate                                                                          \n2000         0.114898          0.045627            0.01395         0.001500   \n2001         0.120807          0.049156            0.01425         0.001433   \n2002         0.126543          0.053392            0.01470         0.001621   \n2003         0.118453          0.051026            0.01455         0.001835   \n2004         0.128187          0.049466            0.01485         0.001213   \n2005         0.131445          0.053950            0.01410         0.001808   \n2006         0.127645          0.053661            0.01545         0.002156   \n2007         0.126897          0.057557            0.01590         0.001487   \n2008         0.141760          0.056131            0.01635         0.001594   \n2009         0.140063          0.056627            0.01710         0.002009   \n2010         0.141293          0.054229            0.01740         0.002089   \n2011         0.162562          0.061308            0.01650         0.001460   \n2012         0.168762          0.053134            0.01710         0.001902   \n2013         0.166725          0.062907            0.01635         0.002009   \n2014         0.166280          0.065271            0.01695         0.001821   \n2015         0.161375          0.072013            0.01725         0.002076   \n2016         0.157043          0.065942            0.01740         0.001835   \n2017         0.146863          0.063819            0.01770         0.001728   \n2018         0.154050          0.058528            0.01770         0.001674   \n2019         0.159232          0.073429            0.01785         0.001955   \n2020         0.164890          0.080259            0.01800         0.001781   \n\n      total_cost  total_cost_change  actual_price_change  inflation  \\\ndate                                                                  \n2000    0.638336                NaN                  NaN   0.033769   \n2001    0.687902           0.077648             0.011952   0.028262   \n2002    0.700920           0.018924            -0.019685   0.015860   \n2003    0.735168           0.048862             0.088353   0.022701   \n2004    0.779246           0.059957             0.070111   0.026772   \n2005    0.825568           0.059444             0.055172   0.033927   \n2006    0.814825          -0.013013             0.021242   0.032259   \n2007    0.853888           0.047940             0.060800   0.028527   \n2008    0.902540           0.056978             0.076923   0.038391   \n2009    0.881639          -0.023158             0.000000  -0.003555   \n2010    0.907316           0.029124             0.024276   0.016400   \n2011    1.026728           0.131610             0.111668   0.031568   \n2012    1.021807          -0.004792             0.048551   0.020693   \n2013    1.150808           0.126247             0.046845   0.014648   \n2014    1.250398           0.086539             0.055480   0.016222   \n2015    1.312630           0.049770             0.017075   0.001186   \n2016    1.208250          -0.079520             0.040710   0.012616   \n2017    1.168634          -0.032788             0.039117   0.021301   \n2018    1.177206           0.007335             0.041506   0.024426   \n2019    1.217673           0.034376             0.049120   0.018122   \n2020    1.316404           0.081082             0.005300   0.012336   \n\n      change_gdp       MCD  \ndate                        \n2000    0.054098 -0.113965  \n2001    0.021534 -0.184848  \n2002    0.037613 -0.387195  \n2003    0.064259  0.560502  \n2004    0.064132  0.315896  \n2005    0.063621  0.087191  \n2006    0.053688  0.345783  \n2007    0.048114  0.377931  \n2008    0.012500  0.077734  \n2009   -0.016629  0.013987  \n2010    0.044926  0.233510  \n2011    0.034802  0.316188  \n2012    0.036492 -0.106329  \n2013    0.043405  0.086757  \n2014    0.041990 -0.015167  \n2015    0.026861  0.280817  \n2016    0.034691  0.062915  \n2017    0.048235  0.454102  \n2018    0.046792  0.029769  \n2019    0.042335  0.136533  \n2020   -0.009822  0.086548  ",
      "text/html": "<div>\n<style scoped>\n    .dataframe tbody tr th:only-of-type {\n        vertical-align: middle;\n    }\n\n    .dataframe tbody tr th {\n        vertical-align: top;\n    }\n\n    .dataframe thead th {\n        text-align: right;\n    }\n</style>\n<table border=\"1\" class=\"dataframe\">\n  <thead>\n    <tr style=\"text-align: right;\">\n      <th></th>\n      <th>bun</th>\n      <th>beef_patty</th>\n      <th>cheese</th>\n      <th>lettuce</th>\n      <th>onions</th>\n      <th>cucumber</th>\n      <th>actual_price</th>\n      <th>spy</th>\n      <th>bun_weighted</th>\n      <th>beef_patty_weighted</th>\n      <th>cheese_weighted</th>\n      <th>lettuce_weighted</th>\n      <th>cucumber_weighted</th>\n      <th>onions_weighted</th>\n      <th>total_cost</th>\n      <th>total_cost_change</th>\n      <th>actual_price_change</th>\n      <th>inflation</th>\n      <th>change_gdp</th>\n      <th>MCD</th>\n    </tr>\n    <tr>\n      <th>date</th>\n      <th></th>\n      <th></th>\n      <th></th>\n      <th></th>\n      <th></th>\n      <th></th>\n      <th></th>\n      <th></th>\n      <th></th>\n      <th></th>\n      <th></th>\n      <th></th>\n      <th></th>\n      <th></th>\n      <th></th>\n      <th></th>\n      <th></th>\n      <th></th>\n      <th></th>\n      <th></th>\n    </tr>\n  </thead>\n  <tbody>\n    <tr>\n      <th>2000</th>\n      <td>0.930167</td>\n      <td>1.569417</td>\n      <td>3.829917</td>\n      <td>0.735917</td>\n      <td>0.100000</td>\n      <td>0.93</td>\n      <td>2.510000</td>\n      <td>-0.066681</td>\n      <td>0.151617</td>\n      <td>0.310745</td>\n      <td>0.114898</td>\n      <td>0.045627</td>\n      <td>0.01395</td>\n      <td>0.001500</td>\n      <td>0.638336</td>\n      <td>NaN</td>\n      <td>NaN</td>\n      <td>0.033769</td>\n      <td>0.054098</td>\n      <td>-0.113965</td>\n    </tr>\n    <tr>\n      <th>2001</th>\n      <td>0.999083</td>\n      <td>1.714167</td>\n      <td>4.026917</td>\n      <td>0.792833</td>\n      <td>0.095536</td>\n      <td>0.95</td>\n      <td>2.540000</td>\n      <td>-0.087585</td>\n      <td>0.162851</td>\n      <td>0.339405</td>\n      <td>0.120807</td>\n      <td>0.049156</td>\n      <td>0.01425</td>\n      <td>0.001433</td>\n      <td>0.687902</td>\n      <td>0.077648</td>\n      <td>0.011952</td>\n      <td>0.028262</td>\n      <td>0.021534</td>\n      <td>-0.184848</td>\n    </tr>\n    <tr>\n      <th>2002</th>\n      <td>1.015583</td>\n      <td>1.712750</td>\n      <td>4.218083</td>\n      <td>0.861167</td>\n      <td>0.108036</td>\n      <td>0.98</td>\n      <td>2.490000</td>\n      <td>-0.223003</td>\n      <td>0.165540</td>\n      <td>0.339124</td>\n      <td>0.126543</td>\n      <td>0.053392</td>\n      <td>0.01470</td>\n      <td>0.001621</td>\n      <td>0.700920</td>\n      <td>0.018924</td>\n      <td>-0.019685</td>\n      <td>0.015860</td>\n      <td>0.037613</td>\n      <td>-0.387195</td>\n    </tr>\n    <tr>\n      <th>2003</th>\n      <td>1.000750</td>\n      <td>1.950417</td>\n      <td>3.948417</td>\n      <td>0.823000</td>\n      <td>0.122321</td>\n      <td>0.97</td>\n      <td>2.710000</td>\n      <td>0.259544</td>\n      <td>0.163122</td>\n      <td>0.386183</td>\n      <td>0.118453</td>\n      <td>0.051026</td>\n      <td>0.01455</td>\n      <td>0.001835</td>\n      <td>0.735168</td>\n      <td>0.048862</td>\n      <td>0.088353</td>\n      <td>0.022701</td>\n      <td>0.064259</td>\n      <td>0.560502</td>\n    </tr>\n    <tr>\n      <th>2004</th>\n      <td>0.969417</td>\n      <td>2.159167</td>\n      <td>4.272917</td>\n      <td>0.797833</td>\n      <td>0.080893</td>\n      <td>0.99</td>\n      <td>2.900000</td>\n      <td>0.098709</td>\n      <td>0.158015</td>\n      <td>0.427515</td>\n      <td>0.128187</td>\n      <td>0.049466</td>\n      <td>0.01485</td>\n      <td>0.001213</td>\n      <td>0.779246</td>\n      <td>0.059957</td>\n      <td>0.070111</td>\n      <td>0.026772</td>\n      <td>0.064132</td>\n      <td>0.315896</td>\n    </tr>\n    <tr>\n      <th>2005</th>\n      <td>1.040333</td>\n      <td>2.296417</td>\n      <td>4.381500</td>\n      <td>0.870167</td>\n      <td>0.120536</td>\n      <td>0.94</td>\n      <td>3.060000</td>\n      <td>0.043036</td>\n      <td>0.169574</td>\n      <td>0.454690</td>\n      <td>0.131445</td>\n      <td>0.053950</td>\n      <td>0.01410</td>\n      <td>0.001808</td>\n      <td>0.825568</td>\n      <td>0.059444</td>\n      <td>0.055172</td>\n      <td>0.033927</td>\n      <td>0.063621</td>\n      <td>0.087191</td>\n    </tr>\n    <tr>\n      <th>2006</th>\n      <td>1.080500</td>\n      <td>2.221167</td>\n      <td>4.254833</td>\n      <td>0.865500</td>\n      <td>0.143750</td>\n      <td>1.03</td>\n      <td>3.125000</td>\n      <td>0.145912</td>\n      <td>0.176122</td>\n      <td>0.439791</td>\n      <td>0.127645</td>\n      <td>0.053661</td>\n      <td>0.01545</td>\n      <td>0.002156</td>\n      <td>0.814825</td>\n      <td>-0.013013</td>\n      <td>0.021242</td>\n      <td>0.032259</td>\n      <td>0.053688</td>\n      <td>0.345783</td>\n    </tr>\n    <tr>\n      <th>2007</th>\n      <td>1.207333</td>\n      <td>2.299250</td>\n      <td>4.229917</td>\n      <td>0.928333</td>\n      <td>0.099107</td>\n      <td>1.06</td>\n      <td>3.315000</td>\n      <td>0.050082</td>\n      <td>0.196795</td>\n      <td>0.455252</td>\n      <td>0.126897</td>\n      <td>0.057557</td>\n      <td>0.01590</td>\n      <td>0.001487</td>\n      <td>0.853888</td>\n      <td>0.047940</td>\n      <td>0.060800</td>\n      <td>0.028527</td>\n      <td>0.048114</td>\n      <td>0.377931</td>\n    </tr>\n    <tr>\n      <th>2008</th>\n      <td>1.366417</td>\n      <td>2.343333</td>\n      <td>4.725333</td>\n      <td>0.905333</td>\n      <td>0.106250</td>\n      <td>1.09</td>\n      <td>3.570000</td>\n      <td>-0.367737</td>\n      <td>0.222726</td>\n      <td>0.463980</td>\n      <td>0.141760</td>\n      <td>0.056131</td>\n      <td>0.01635</td>\n      <td>0.001594</td>\n      <td>0.902540</td>\n      <td>0.056978</td>\n      <td>0.076923</td>\n      <td>0.038391</td>\n      <td>0.012500</td>\n      <td>0.077734</td>\n    </tr>\n    <tr>\n      <th>2009</th>\n      <td>1.387417</td>\n      <td>2.220667</td>\n      <td>4.668750</td>\n      <td>0.913333</td>\n      <td>0.133929</td>\n      <td>1.14</td>\n      <td>3.570000</td>\n      <td>0.255426</td>\n      <td>0.226149</td>\n      <td>0.439692</td>\n      <td>0.140063</td>\n      <td>0.056627</td>\n      <td>0.01710</td>\n      <td>0.002009</td>\n      <td>0.881639</td>\n      <td>-0.023158</td>\n      <td>0.000000</td>\n      <td>-0.003555</td>\n      <td>-0.016629</td>\n      <td>0.013987</td>\n    </tr>\n    <tr>\n      <th>2010</th>\n      <td>1.373333</td>\n      <td>2.365917</td>\n      <td>4.709750</td>\n      <td>0.874667</td>\n      <td>0.139286</td>\n      <td>1.16</td>\n      <td>3.656667</td>\n      <td>0.128778</td>\n      <td>0.223853</td>\n      <td>0.468452</td>\n      <td>0.141293</td>\n      <td>0.054229</td>\n      <td>0.01740</td>\n      <td>0.002089</td>\n      <td>0.907316</td>\n      <td>0.029124</td>\n      <td>0.024276</td>\n      <td>0.016400</td>\n      <td>0.044926</td>\n      <td>0.233510</td>\n    </tr>\n    <tr>\n      <th>2011</th>\n      <td>1.444667</td>\n      <td>2.774833</td>\n      <td>5.418750</td>\n      <td>0.988833</td>\n      <td>0.097321</td>\n      <td>1.10</td>\n      <td>4.065000</td>\n      <td>0.005012</td>\n      <td>0.235481</td>\n      <td>0.549417</td>\n      <td>0.162562</td>\n      <td>0.061308</td>\n      <td>0.01650</td>\n      <td>0.001460</td>\n      <td>1.026728</td>\n      <td>0.131610</td>\n      <td>0.111668</td>\n      <td>0.031568</td>\n      <td>0.034802</td>\n      <td>0.316188</td>\n    </tr>\n    <tr>\n      <th>2012</th>\n      <td>1.417667</td>\n      <td>2.776917</td>\n      <td>5.625417</td>\n      <td>0.857000</td>\n      <td>0.126786</td>\n      <td>1.14</td>\n      <td>4.262360</td>\n      <td>0.118732</td>\n      <td>0.231080</td>\n      <td>0.549830</td>\n      <td>0.168762</td>\n      <td>0.053134</td>\n      <td>0.01710</td>\n      <td>0.001902</td>\n      <td>1.021807</td>\n      <td>-0.004792</td>\n      <td>0.048551</td>\n      <td>0.020693</td>\n      <td>0.036492</td>\n      <td>-0.106329</td>\n    </tr>\n    <tr>\n      <th>2013</th>\n      <td>1.406667</td>\n      <td>3.401667</td>\n      <td>5.557500</td>\n      <td>1.014636</td>\n      <td>0.133929</td>\n      <td>1.09</td>\n      <td>4.462031</td>\n      <td>0.276100</td>\n      <td>0.229287</td>\n      <td>0.673530</td>\n      <td>0.166725</td>\n      <td>0.062907</td>\n      <td>0.01635</td>\n      <td>0.002009</td>\n      <td>1.150808</td>\n      <td>0.126247</td>\n      <td>0.046845</td>\n      <td>0.014648</td>\n      <td>0.043405</td>\n      <td>0.086757</td>\n    </tr>\n    <tr>\n      <th>2014</th>\n      <td>1.401250</td>\n      <td>3.897333</td>\n      <td>5.542667</td>\n      <td>1.052750</td>\n      <td>0.121429</td>\n      <td>1.13</td>\n      <td>4.709583</td>\n      <td>0.140892</td>\n      <td>0.228404</td>\n      <td>0.771672</td>\n      <td>0.166280</td>\n      <td>0.065271</td>\n      <td>0.01695</td>\n      <td>0.001821</td>\n      <td>1.250398</td>\n      <td>0.086539</td>\n      <td>0.055480</td>\n      <td>0.016222</td>\n      <td>0.041990</td>\n      <td>-0.015167</td>\n    </tr>\n    <tr>\n      <th>2015</th>\n      <td>1.441000</td>\n      <td>4.166833</td>\n      <td>5.379167</td>\n      <td>1.161500</td>\n      <td>0.138393</td>\n      <td>1.15</td>\n      <td>4.790000</td>\n      <td>0.008375</td>\n      <td>0.234883</td>\n      <td>0.825033</td>\n      <td>0.161375</td>\n      <td>0.072013</td>\n      <td>0.01725</td>\n      <td>0.002076</td>\n      <td>1.312630</td>\n      <td>0.049770</td>\n      <td>0.017075</td>\n      <td>0.001186</td>\n      <td>0.026861</td>\n      <td>0.280817</td>\n    </tr>\n    <tr>\n      <th>2016</th>\n      <td>1.371250</td>\n      <td>3.750083</td>\n      <td>5.234750</td>\n      <td>1.063583</td>\n      <td>0.122321</td>\n      <td>1.16</td>\n      <td>4.985000</td>\n      <td>0.132132</td>\n      <td>0.223514</td>\n      <td>0.742516</td>\n      <td>0.157043</td>\n      <td>0.065942</td>\n      <td>0.01740</td>\n      <td>0.001835</td>\n      <td>1.208250</td>\n      <td>-0.079520</td>\n      <td>0.040710</td>\n      <td>0.012616</td>\n      <td>0.034691</td>\n      <td>0.062915</td>\n    </tr>\n    <tr>\n      <th>2017</th>\n      <td>1.332583</td>\n      <td>3.643000</td>\n      <td>4.895417</td>\n      <td>1.029333</td>\n      <td>0.115179</td>\n      <td>1.18</td>\n      <td>5.180000</td>\n      <td>0.199526</td>\n      <td>0.217211</td>\n      <td>0.721314</td>\n      <td>0.146863</td>\n      <td>0.063819</td>\n      <td>0.01770</td>\n      <td>0.001728</td>\n      <td>1.168634</td>\n      <td>-0.032788</td>\n      <td>0.039117</td>\n      <td>0.021301</td>\n      <td>0.048235</td>\n      <td>0.454102</td>\n    </tr>\n    <tr>\n      <th>2018</th>\n      <td>1.286000</td>\n      <td>3.715333</td>\n      <td>5.135000</td>\n      <td>0.944000</td>\n      <td>0.111607</td>\n      <td>1.18</td>\n      <td>5.395000</td>\n      <td>-0.064360</td>\n      <td>0.209618</td>\n      <td>0.735636</td>\n      <td>0.154050</td>\n      <td>0.058528</td>\n      <td>0.01770</td>\n      <td>0.001674</td>\n      <td>1.177206</td>\n      <td>0.007335</td>\n      <td>0.041506</td>\n      <td>0.024426</td>\n      <td>0.046792</td>\n      <td>0.029769</td>\n    </tr>\n    <tr>\n      <th>2019</th>\n      <td>1.297667</td>\n      <td>3.806500</td>\n      <td>5.307750</td>\n      <td>1.184333</td>\n      <td>0.130357</td>\n      <td>1.19</td>\n      <td>5.660000</td>\n      <td>0.309738</td>\n      <td>0.211520</td>\n      <td>0.753687</td>\n      <td>0.159232</td>\n      <td>0.073429</td>\n      <td>0.01785</td>\n      <td>0.001955</td>\n      <td>1.217673</td>\n      <td>0.034376</td>\n      <td>0.049120</td>\n      <td>0.018122</td>\n      <td>0.042335</td>\n      <td>0.136533</td>\n    </tr>\n    <tr>\n      <th>2020</th>\n      <td>1.451667</td>\n      <td>4.115417</td>\n      <td>5.496333</td>\n      <td>1.294500</td>\n      <td>0.118750</td>\n      <td>1.20</td>\n      <td>5.690000</td>\n      <td>0.161628</td>\n      <td>0.236622</td>\n      <td>0.814852</td>\n      <td>0.164890</td>\n      <td>0.080259</td>\n      <td>0.01800</td>\n      <td>0.001781</td>\n      <td>1.316404</td>\n      <td>0.081082</td>\n      <td>0.005300</td>\n      <td>0.012336</td>\n      <td>-0.009822</td>\n      <td>0.086548</td>\n    </tr>\n  </tbody>\n</table>\n</div>"
     },
     "metadata": {}
    }
   ],
   "execution_count": null
  },
  {
   "cell_type": "code",
   "source": "",
   "metadata": {
    "cell_id": "91f8185c-7e0e-46f9-8de9-79b2a1fe3d32",
    "tags": [],
    "deepnote_cell_type": "code",
    "deepnote_cell_height": 66
   },
   "outputs": [],
   "execution_count": null
  },
  {
   "cell_type": "markdown",
   "source": "<a style='text-decoration:none;line-height:16px;display:flex;color:#5B5B62;padding:10px;justify-content:end;' href='https://deepnote.com?utm_source=created-in-deepnote-cell&projectId=2ff0145a-602a-4f7c-94d9-ad86e648b102' target=\"_blank\">\n<img alt='Created in deepnote.com' style='display:inline;max-height:16px;margin:0px;margin-right:7.5px;' src='data:image/svg+xml;base64,PD94bWwgdmVyc2lvbj0iMS4wIiBlbmNvZGluZz0iVVRGLTgiPz4KPHN2ZyB3aWR0aD0iODBweCIgaGVpZ2h0PSI4MHB4IiB2aWV3Qm94PSIwIDAgODAgODAiIHZlcnNpb249IjEuMSIgeG1sbnM9Imh0dHA6Ly93d3cudzMub3JnLzIwMDAvc3ZnIiB4bWxuczp4bGluaz0iaHR0cDovL3d3dy53My5vcmcvMTk5OS94bGluayI+CiAgICA8IS0tIEdlbmVyYXRvcjogU2tldGNoIDU0LjEgKDc2NDkwKSAtIGh0dHBzOi8vc2tldGNoYXBwLmNvbSAtLT4KICAgIDx0aXRsZT5Hcm91cCAzPC90aXRsZT4KICAgIDxkZXNjPkNyZWF0ZWQgd2l0aCBTa2V0Y2guPC9kZXNjPgogICAgPGcgaWQ9IkxhbmRpbmciIHN0cm9rZT0ibm9uZSIgc3Ryb2tlLXdpZHRoPSIxIiBmaWxsPSJub25lIiBmaWxsLXJ1bGU9ImV2ZW5vZGQiPgogICAgICAgIDxnIGlkPSJBcnRib2FyZCIgdHJhbnNmb3JtPSJ0cmFuc2xhdGUoLTEyMzUuMDAwMDAwLCAtNzkuMDAwMDAwKSI+CiAgICAgICAgICAgIDxnIGlkPSJHcm91cC0zIiB0cmFuc2Zvcm09InRyYW5zbGF0ZSgxMjM1LjAwMDAwMCwgNzkuMDAwMDAwKSI+CiAgICAgICAgICAgICAgICA8cG9seWdvbiBpZD0iUGF0aC0yMCIgZmlsbD0iIzAyNjVCNCIgcG9pbnRzPSIyLjM3NjIzNzYyIDgwIDM4LjA0NzY2NjcgODAgNTcuODIxNzgyMiA3My44MDU3NTkyIDU3LjgyMTc4MjIgMzIuNzU5MjczOSAzOS4xNDAyMjc4IDMxLjY4MzE2ODMiPjwvcG9seWdvbj4KICAgICAgICAgICAgICAgIDxwYXRoIGQ9Ik0zNS4wMDc3MTgsODAgQzQyLjkwNjIwMDcsNzYuNDU0OTM1OCA0Ny41NjQ5MTY3LDcxLjU0MjI2NzEgNDguOTgzODY2LDY1LjI2MTk5MzkgQzUxLjExMjI4OTksNTUuODQxNTg0MiA0MS42NzcxNzk1LDQ5LjIxMjIyODQgMjUuNjIzOTg0Niw0OS4yMTIyMjg0IEMyNS40ODQ5Mjg5LDQ5LjEyNjg0NDggMjkuODI2MTI5Niw0My4yODM4MjQ4IDM4LjY0NzU4NjksMzEuNjgzMTY4MyBMNzIuODcxMjg3MSwzMi41NTQ0MjUgTDY1LjI4MDk3Myw2Ny42NzYzNDIxIEw1MS4xMTIyODk5LDc3LjM3NjE0NCBMMzUuMDA3NzE4LDgwIFoiIGlkPSJQYXRoLTIyIiBmaWxsPSIjMDAyODY4Ij48L3BhdGg+CiAgICAgICAgICAgICAgICA8cGF0aCBkPSJNMCwzNy43MzA0NDA1IEwyNy4xMTQ1MzcsMC4yNTcxMTE0MzYgQzYyLjM3MTUxMjMsLTEuOTkwNzE3MDEgODAsMTAuNTAwMzkyNyA4MCwzNy43MzA0NDA1IEM4MCw2NC45NjA0ODgyIDY0Ljc3NjUwMzgsNzkuMDUwMzQxNCAzNC4zMjk1MTEzLDgwIEM0Ny4wNTUzNDg5LDc3LjU2NzA4MDggNTMuNDE4MjY3Nyw3MC4zMTM2MTAzIDUzLjQxODI2NzcsNTguMjM5NTg4NSBDNTMuNDE4MjY3Nyw0MC4xMjg1NTU3IDM2LjMwMzk1NDQsMzcuNzMwNDQwNSAyNS4yMjc0MTcsMzcuNzMwNDQwNSBDMTcuODQzMDU4NiwzNy43MzA0NDA1IDkuNDMzOTE5NjYsMzcuNzMwNDQwNSAwLDM3LjczMDQ0MDUgWiIgaWQ9IlBhdGgtMTkiIGZpbGw9IiMzNzkzRUYiPjwvcGF0aD4KICAgICAgICAgICAgPC9nPgogICAgICAgIDwvZz4KICAgIDwvZz4KPC9zdmc+' > </img>\nCreated in <span style='font-weight:600;margin-left:4px;'>Deepnote</span></a>",
   "metadata": {
    "tags": [],
    "created_in_deepnote_cell": true,
    "deepnote_cell_type": "markdown"
   }
  }
 ],
 "nbformat": 4,
 "nbformat_minor": 2,
 "metadata": {
  "orig_nbformat": 2,
  "deepnote": {
   "is_reactive": false
  },
  "deepnote_notebook_id": "1ccabd24-26df-4333-8aed-5ebb94166833",
  "deepnote_execution_queue": []
 }
}